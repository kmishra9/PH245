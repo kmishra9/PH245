{
 "cells": [
  {
   "cell_type": "markdown",
   "metadata": {},
   "source": [
    "# PH 245 Final Project - Flu Absenteeism "
   ]
  },
  {
   "cell_type": "code",
   "execution_count": 9,
   "metadata": {},
   "outputs": [
    {
     "name": "stderr",
     "output_type": "stream",
     "text": [
      "also installing the dependencies ‘rJava’, ‘xlsxjars’\n",
      "\n",
      "Warning message in install.packages(\"xlsx\"):\n",
      "“installation of package ‘rJava’ had non-zero exit status”Warning message in install.packages(\"xlsx\"):\n",
      "“installation of package ‘xlsxjars’ had non-zero exit status”Warning message in install.packages(\"xlsx\"):\n",
      "“installation of package ‘xlsx’ had non-zero exit status”Updating HTML index of packages in '.Library'\n",
      "Making 'packages.html' ... done\n"
     ]
    },
    {
     "ename": "ERROR",
     "evalue": "Error in library(xlsx): there is no package called ‘xlsx’\n",
     "output_type": "error",
     "traceback": [
      "Error in library(xlsx): there is no package called ‘xlsx’\nTraceback:\n",
      "1. library(xlsx)",
      "2. stop(txt, domain = NA)"
     ]
    }
   ],
   "source": [
    "library(data.table)\n",
    "install.packages(\"xlsx\")\n",
    "library(xlsx)\n",
    "\n",
    "prefix = \"../absentee/Combined-data/\"\n",
    "filenames = c(\"absentee_all.csv\",\"absentee-flu.csv\", \"absentee-nonflu.csv\", \"ILIData_CA_201101_201739\")"
   ]
  },
  {
   "cell_type": "code",
   "execution_count": 2,
   "metadata": {},
   "outputs": [
    {
     "name": "stdout",
     "output_type": "stream",
     "text": [
      "Read 42797568 rows and 9 (of 9) columns from 2.816 GB file in 00:00:51\n",
      "Read 9274684 rows and 31 (of 31) columns from 1.633 GB file in 00:00:47\n"
     ]
    }
   ],
   "source": [
    "# Loading Data (using high-speed data.tables for speed)\n",
    "absenteeData = fread( file=paste(prefix, filenames[1], sep=\"\"), stringsAsFactors=TRUE )\n",
    "\n",
    "# Loading a smaller set of data for school-specific value aggregation\n",
    "aggregationData = fread( file=paste(prefix, filenames[3], sep=\"\"), stringsAsFactors=TRUE )"
   ]
  },
  {
   "cell_type": "code",
   "execution_count": 3,
   "metadata": {},
   "outputs": [
    {
     "data": {
      "text/html": [
       "<table>\n",
       "<thead><tr><th scope=col>schoolyr</th><th scope=col>date</th><th scope=col>grade</th><th scope=col>race</th><th scope=col>absent_nonill</th><th scope=col>absent_ill</th><th scope=col>dist</th><th scope=col>school</th><th scope=col>matchid</th></tr></thead>\n",
       "<tbody>\n",
       "\t<tr><td>2011-12                  </td><td>29aug2011                </td><td>0                        </td><td>African American         </td><td>0                        </td><td>0                        </td><td>OUSD                     </td><td>ACORN Woodland Elementary</td><td>0                        </td></tr>\n",
       "\t<tr><td>2011-12                  </td><td>29aug2011                </td><td>0                        </td><td>African American         </td><td>0                        </td><td>0                        </td><td>OUSD                     </td><td>ACORN Woodland Elementary</td><td>0                        </td></tr>\n",
       "\t<tr><td>2011-12                  </td><td>29aug2011                </td><td>0                        </td><td>African American         </td><td>0                        </td><td>0                        </td><td>OUSD                     </td><td>ACORN Woodland Elementary</td><td>0                        </td></tr>\n",
       "\t<tr><td>2011-12                  </td><td>29aug2011                </td><td>0                        </td><td>Asian                    </td><td>0                        </td><td>0                        </td><td>OUSD                     </td><td>ACORN Woodland Elementary</td><td>0                        </td></tr>\n",
       "\t<tr><td>2011-12                  </td><td>29aug2011                </td><td>0                        </td><td>Latino                   </td><td>0                        </td><td>0                        </td><td>OUSD                     </td><td>ACORN Woodland Elementary</td><td>0                        </td></tr>\n",
       "\t<tr><td>2011-12                  </td><td>29aug2011                </td><td>0                        </td><td>Latino                   </td><td>0                        </td><td>0                        </td><td>OUSD                     </td><td>ACORN Woodland Elementary</td><td>0                        </td></tr>\n",
       "</tbody>\n",
       "</table>\n"
      ],
      "text/latex": [
       "\\begin{tabular}{r|lllllllll}\n",
       " schoolyr & date & grade & race & absent\\_nonill & absent\\_ill & dist & school & matchid\\\\\n",
       "\\hline\n",
       "\t 2011-12                   & 29aug2011                 & 0                         & African American          & 0                         & 0                         & OUSD                      & ACORN Woodland Elementary & 0                        \\\\\n",
       "\t 2011-12                   & 29aug2011                 & 0                         & African American          & 0                         & 0                         & OUSD                      & ACORN Woodland Elementary & 0                        \\\\\n",
       "\t 2011-12                   & 29aug2011                 & 0                         & African American          & 0                         & 0                         & OUSD                      & ACORN Woodland Elementary & 0                        \\\\\n",
       "\t 2011-12                   & 29aug2011                 & 0                         & Asian                     & 0                         & 0                         & OUSD                      & ACORN Woodland Elementary & 0                        \\\\\n",
       "\t 2011-12                   & 29aug2011                 & 0                         & Latino                    & 0                         & 0                         & OUSD                      & ACORN Woodland Elementary & 0                        \\\\\n",
       "\t 2011-12                   & 29aug2011                 & 0                         & Latino                    & 0                         & 0                         & OUSD                      & ACORN Woodland Elementary & 0                        \\\\\n",
       "\\end{tabular}\n"
      ],
      "text/markdown": [
       "\n",
       "schoolyr | date | grade | race | absent_nonill | absent_ill | dist | school | matchid | \n",
       "|---|---|---|---|---|---|\n",
       "| 2011-12                   | 29aug2011                 | 0                         | African American          | 0                         | 0                         | OUSD                      | ACORN Woodland Elementary | 0                         | \n",
       "| 2011-12                   | 29aug2011                 | 0                         | African American          | 0                         | 0                         | OUSD                      | ACORN Woodland Elementary | 0                         | \n",
       "| 2011-12                   | 29aug2011                 | 0                         | African American          | 0                         | 0                         | OUSD                      | ACORN Woodland Elementary | 0                         | \n",
       "| 2011-12                   | 29aug2011                 | 0                         | Asian                     | 0                         | 0                         | OUSD                      | ACORN Woodland Elementary | 0                         | \n",
       "| 2011-12                   | 29aug2011                 | 0                         | Latino                    | 0                         | 0                         | OUSD                      | ACORN Woodland Elementary | 0                         | \n",
       "| 2011-12                   | 29aug2011                 | 0                         | Latino                    | 0                         | 0                         | OUSD                      | ACORN Woodland Elementary | 0                         | \n",
       "\n",
       "\n"
      ],
      "text/plain": [
       "  schoolyr date      grade race             absent_nonill absent_ill dist\n",
       "1 2011-12  29aug2011 0     African American 0             0          OUSD\n",
       "2 2011-12  29aug2011 0     African American 0             0          OUSD\n",
       "3 2011-12  29aug2011 0     African American 0             0          OUSD\n",
       "4 2011-12  29aug2011 0     Asian            0             0          OUSD\n",
       "5 2011-12  29aug2011 0     Latino           0             0          OUSD\n",
       "6 2011-12  29aug2011 0     Latino           0             0          OUSD\n",
       "  school                    matchid\n",
       "1 ACORN Woodland Elementary 0      \n",
       "2 ACORN Woodland Elementary 0      \n",
       "3 ACORN Woodland Elementary 0      \n",
       "4 ACORN Woodland Elementary 0      \n",
       "5 ACORN Woodland Elementary 0      \n",
       "6 ACORN Woodland Elementary 0      "
      ]
     },
     "metadata": {},
     "output_type": "display_data"
    },
    {
     "data": {
      "text/html": [
       "<ol class=list-inline>\n",
       "\t<li>'schoolyr'</li>\n",
       "\t<li>'date'</li>\n",
       "\t<li>'grade'</li>\n",
       "\t<li>'race'</li>\n",
       "\t<li>'absent_nonill'</li>\n",
       "\t<li>'absent_ill'</li>\n",
       "\t<li>'dist'</li>\n",
       "\t<li>'school'</li>\n",
       "\t<li>'matchid'</li>\n",
       "</ol>\n"
      ],
      "text/latex": [
       "\\begin{enumerate*}\n",
       "\\item 'schoolyr'\n",
       "\\item 'date'\n",
       "\\item 'grade'\n",
       "\\item 'race'\n",
       "\\item 'absent\\_nonill'\n",
       "\\item 'absent\\_ill'\n",
       "\\item 'dist'\n",
       "\\item 'school'\n",
       "\\item 'matchid'\n",
       "\\end{enumerate*}\n"
      ],
      "text/markdown": [
       "1. 'schoolyr'\n",
       "2. 'date'\n",
       "3. 'grade'\n",
       "4. 'race'\n",
       "5. 'absent_nonill'\n",
       "6. 'absent_ill'\n",
       "7. 'dist'\n",
       "8. 'school'\n",
       "9. 'matchid'\n",
       "\n",
       "\n"
      ],
      "text/plain": [
       "[1] \"schoolyr\"      \"date\"          \"grade\"         \"race\"         \n",
       "[5] \"absent_nonill\" \"absent_ill\"    \"dist\"          \"school\"       \n",
       "[9] \"matchid\"      "
      ]
     },
     "metadata": {},
     "output_type": "display_data"
    },
    {
     "data": {
      "text/html": [
       "10000"
      ],
      "text/latex": [
       "10000"
      ],
      "text/markdown": [
       "10000"
      ],
      "text/plain": [
       "[1] 10000"
      ]
     },
     "metadata": {},
     "output_type": "display_data"
    }
   ],
   "source": [
    "head(absenteeData)\n",
    "colnames(absenteeData)\n",
    "\n",
    "# Creating a smaller sample for use until final analysis\n",
    "absenteeData = absenteeData[sample(.N, 10000)]\n",
    "nrow(absenteeData)"
   ]
  },
  {
   "cell_type": "code",
   "execution_count": 4,
   "metadata": {
    "scrolled": false
   },
   "outputs": [
    {
     "data": {
      "text/html": [
       "<table>\n",
       "<thead><tr><th scope=col>V1</th><th scope=col>dist</th><th scope=col>school</th><th scope=col>schoolyr</th><th scope=col>date</th><th scope=col>grade</th><th scope=col>race</th><th scope=col>absent_nonill</th><th scope=col>absent_ill</th><th scope=col>matchid</th><th scope=col>⋯</th><th scope=col>per.englearn</th><th scope=col>per.freelunch</th><th scope=col>API13</th><th scope=col>API12</th><th scope=col>mean.cst.ela</th><th scope=col>per.adv.ela</th><th scope=col>per.basic.ela</th><th scope=col>mean.cst.m</th><th scope=col>per.adv.m</th><th scope=col>per.basic.m</th></tr></thead>\n",
       "<tbody>\n",
       "\t<tr><td>1                        </td><td>OUSD                     </td><td>ACORN Woodland Elementary</td><td>NA                       </td><td>NA                       </td><td>NA                       </td><td>NA                       </td><td>NA                       </td><td>NA                       </td><td>NA                       </td><td>⋯                        </td><td>64.41948                 </td><td>86.70                    </td><td>798                      </td><td>848                      </td><td>360.600                  </td><td>22.50                    </td><td>26.5                     </td><td>392.025                  </td><td>35.50                    </td><td>11.75                    </td></tr>\n",
       "\t<tr><td>2                        </td><td>OUSD                     </td><td>Allendale Elementary     </td><td>2011-12                  </td><td>2011-08-29               </td><td>0                        </td><td>African American         </td><td> 1                       </td><td> 0                       </td><td>14                       </td><td>⋯                        </td><td>41.17647                 </td><td>79.91                    </td><td>663                      </td><td>725                      </td><td>329.625                  </td><td> 8.75                    </td><td>38.5                     </td><td>333.425                  </td><td>10.75                    </td><td>29.00                    </td></tr>\n",
       "\t<tr><td>3                        </td><td>OUSD                     </td><td>Allendale Elementary     </td><td>2011-12                  </td><td>2011-08-29               </td><td>0                        </td><td>African American         </td><td> 0                       </td><td> 0                       </td><td>14                       </td><td>⋯                        </td><td>41.17647                 </td><td>79.91                    </td><td>663                      </td><td>725                      </td><td>329.625                  </td><td> 8.75                    </td><td>38.5                     </td><td>333.425                  </td><td>10.75                    </td><td>29.00                    </td></tr>\n",
       "\t<tr><td>4                        </td><td>OUSD                     </td><td>Allendale Elementary     </td><td>2011-12                  </td><td>2011-08-29               </td><td>0                        </td><td>African American         </td><td> 0                       </td><td> 0                       </td><td>14                       </td><td>⋯                        </td><td>41.17647                 </td><td>79.91                    </td><td>663                      </td><td>725                      </td><td>329.625                  </td><td> 8.75                    </td><td>38.5                     </td><td>333.425                  </td><td>10.75                    </td><td>29.00                    </td></tr>\n",
       "\t<tr><td>5                        </td><td>OUSD                     </td><td>Allendale Elementary     </td><td>2011-12                  </td><td>2011-08-29               </td><td>0                        </td><td>African American         </td><td> 0                       </td><td> 0                       </td><td>14                       </td><td>⋯                        </td><td>41.17647                 </td><td>79.91                    </td><td>663                      </td><td>725                      </td><td>329.625                  </td><td> 8.75                    </td><td>38.5                     </td><td>333.425                  </td><td>10.75                    </td><td>29.00                    </td></tr>\n",
       "\t<tr><td>6                        </td><td>OUSD                     </td><td>Allendale Elementary     </td><td>2011-12                  </td><td>2011-08-29               </td><td>0                        </td><td>African American         </td><td> 0                       </td><td> 0                       </td><td>14                       </td><td>⋯                        </td><td>41.17647                 </td><td>79.91                    </td><td>663                      </td><td>725                      </td><td>329.625                  </td><td> 8.75                    </td><td>38.5                     </td><td>333.425                  </td><td>10.75                    </td><td>29.00                    </td></tr>\n",
       "</tbody>\n",
       "</table>\n"
      ],
      "text/latex": [
       "\\begin{tabular}{r|lllllllllllllllllllllllllllllll}\n",
       " V1 & dist & school & schoolyr & date & grade & race & absent\\_nonill & absent\\_ill & matchid & ⋯ & per.englearn & per.freelunch & API13 & API12 & mean.cst.ela & per.adv.ela & per.basic.ela & mean.cst.m & per.adv.m & per.basic.m\\\\\n",
       "\\hline\n",
       "\t 1                         & OUSD                      & ACORN Woodland Elementary & NA                        & NA                        & NA                        & NA                        & NA                        & NA                        & NA                        & ⋯                         & 64.41948                  & 86.70                     & 798                       & 848                       & 360.600                   & 22.50                     & 26.5                      & 392.025                   & 35.50                     & 11.75                    \\\\\n",
       "\t 2                         & OUSD                      & Allendale Elementary      & 2011-12                   & 2011-08-29                & 0                         & African American          &  1                        &  0                        & 14                        & ⋯                         & 41.17647                  & 79.91                     & 663                       & 725                       & 329.625                   &  8.75                     & 38.5                      & 333.425                   & 10.75                     & 29.00                    \\\\\n",
       "\t 3                         & OUSD                      & Allendale Elementary      & 2011-12                   & 2011-08-29                & 0                         & African American          &  0                        &  0                        & 14                        & ⋯                         & 41.17647                  & 79.91                     & 663                       & 725                       & 329.625                   &  8.75                     & 38.5                      & 333.425                   & 10.75                     & 29.00                    \\\\\n",
       "\t 4                         & OUSD                      & Allendale Elementary      & 2011-12                   & 2011-08-29                & 0                         & African American          &  0                        &  0                        & 14                        & ⋯                         & 41.17647                  & 79.91                     & 663                       & 725                       & 329.625                   &  8.75                     & 38.5                      & 333.425                   & 10.75                     & 29.00                    \\\\\n",
       "\t 5                         & OUSD                      & Allendale Elementary      & 2011-12                   & 2011-08-29                & 0                         & African American          &  0                        &  0                        & 14                        & ⋯                         & 41.17647                  & 79.91                     & 663                       & 725                       & 329.625                   &  8.75                     & 38.5                      & 333.425                   & 10.75                     & 29.00                    \\\\\n",
       "\t 6                         & OUSD                      & Allendale Elementary      & 2011-12                   & 2011-08-29                & 0                         & African American          &  0                        &  0                        & 14                        & ⋯                         & 41.17647                  & 79.91                     & 663                       & 725                       & 329.625                   &  8.75                     & 38.5                      & 333.425                   & 10.75                     & 29.00                    \\\\\n",
       "\\end{tabular}\n"
      ],
      "text/markdown": [
       "\n",
       "V1 | dist | school | schoolyr | date | grade | race | absent_nonill | absent_ill | matchid | ⋯ | per.englearn | per.freelunch | API13 | API12 | mean.cst.ela | per.adv.ela | per.basic.ela | mean.cst.m | per.adv.m | per.basic.m | \n",
       "|---|---|---|---|---|---|\n",
       "| 1                         | OUSD                      | ACORN Woodland Elementary | NA                        | NA                        | NA                        | NA                        | NA                        | NA                        | NA                        | ⋯                         | 64.41948                  | 86.70                     | 798                       | 848                       | 360.600                   | 22.50                     | 26.5                      | 392.025                   | 35.50                     | 11.75                     | \n",
       "| 2                         | OUSD                      | Allendale Elementary      | 2011-12                   | 2011-08-29                | 0                         | African American          |  1                        |  0                        | 14                        | ⋯                         | 41.17647                  | 79.91                     | 663                       | 725                       | 329.625                   |  8.75                     | 38.5                      | 333.425                   | 10.75                     | 29.00                     | \n",
       "| 3                         | OUSD                      | Allendale Elementary      | 2011-12                   | 2011-08-29                | 0                         | African American          |  0                        |  0                        | 14                        | ⋯                         | 41.17647                  | 79.91                     | 663                       | 725                       | 329.625                   |  8.75                     | 38.5                      | 333.425                   | 10.75                     | 29.00                     | \n",
       "| 4                         | OUSD                      | Allendale Elementary      | 2011-12                   | 2011-08-29                | 0                         | African American          |  0                        |  0                        | 14                        | ⋯                         | 41.17647                  | 79.91                     | 663                       | 725                       | 329.625                   |  8.75                     | 38.5                      | 333.425                   | 10.75                     | 29.00                     | \n",
       "| 5                         | OUSD                      | Allendale Elementary      | 2011-12                   | 2011-08-29                | 0                         | African American          |  0                        |  0                        | 14                        | ⋯                         | 41.17647                  | 79.91                     | 663                       | 725                       | 329.625                   |  8.75                     | 38.5                      | 333.425                   | 10.75                     | 29.00                     | \n",
       "| 6                         | OUSD                      | Allendale Elementary      | 2011-12                   | 2011-08-29                | 0                         | African American          |  0                        |  0                        | 14                        | ⋯                         | 41.17647                  | 79.91                     | 663                       | 725                       | 329.625                   |  8.75                     | 38.5                      | 333.425                   | 10.75                     | 29.00                     | \n",
       "\n",
       "\n"
      ],
      "text/plain": [
       "  V1 dist school                    schoolyr date       grade race            \n",
       "1 1  OUSD ACORN Woodland Elementary NA       NA         NA    NA              \n",
       "2 2  OUSD Allendale Elementary      2011-12  2011-08-29 0     African American\n",
       "3 3  OUSD Allendale Elementary      2011-12  2011-08-29 0     African American\n",
       "4 4  OUSD Allendale Elementary      2011-12  2011-08-29 0     African American\n",
       "5 5  OUSD Allendale Elementary      2011-12  2011-08-29 0     African American\n",
       "6 6  OUSD Allendale Elementary      2011-12  2011-08-29 0     African American\n",
       "  absent_nonill absent_ill matchid ⋯ per.englearn per.freelunch API13 API12\n",
       "1 NA            NA         NA      ⋯ 64.41948     86.70         798   848  \n",
       "2  1             0         14      ⋯ 41.17647     79.91         663   725  \n",
       "3  0             0         14      ⋯ 41.17647     79.91         663   725  \n",
       "4  0             0         14      ⋯ 41.17647     79.91         663   725  \n",
       "5  0             0         14      ⋯ 41.17647     79.91         663   725  \n",
       "6  0             0         14      ⋯ 41.17647     79.91         663   725  \n",
       "  mean.cst.ela per.adv.ela per.basic.ela mean.cst.m per.adv.m per.basic.m\n",
       "1 360.600      22.50       26.5          392.025    35.50     11.75      \n",
       "2 329.625       8.75       38.5          333.425    10.75     29.00      \n",
       "3 329.625       8.75       38.5          333.425    10.75     29.00      \n",
       "4 329.625       8.75       38.5          333.425    10.75     29.00      \n",
       "5 329.625       8.75       38.5          333.425    10.75     29.00      \n",
       "6 329.625       8.75       38.5          333.425    10.75     29.00      "
      ]
     },
     "metadata": {},
     "output_type": "display_data"
    },
    {
     "data": {
      "text/html": [
       "<ol class=list-inline>\n",
       "\t<li>'V1'</li>\n",
       "\t<li>'dist'</li>\n",
       "\t<li>'school'</li>\n",
       "\t<li>'schoolyr'</li>\n",
       "\t<li>'date'</li>\n",
       "\t<li>'grade'</li>\n",
       "\t<li>'race'</li>\n",
       "\t<li>'absent_nonill'</li>\n",
       "\t<li>'absent_ill'</li>\n",
       "\t<li>'matchid'</li>\n",
       "\t<li>'month'</li>\n",
       "\t<li>'flusesn'</li>\n",
       "\t<li>'dist.n'</li>\n",
       "\t<li>'absent_all'</li>\n",
       "\t<li>'enrolled'</li>\n",
       "\t<li>'mn.class.size'</li>\n",
       "\t<li>'per.not_hsg'</li>\n",
       "\t<li>'per.hsg'</li>\n",
       "\t<li>'per.some_col'</li>\n",
       "\t<li>'per.col_grad'</li>\n",
       "\t<li>'per.grad_sch'</li>\n",
       "\t<li>'per.englearn'</li>\n",
       "\t<li>'per.freelunch'</li>\n",
       "\t<li>'API13'</li>\n",
       "\t<li>'API12'</li>\n",
       "\t<li>'mean.cst.ela'</li>\n",
       "\t<li>'per.adv.ela'</li>\n",
       "\t<li>'per.basic.ela'</li>\n",
       "\t<li>'mean.cst.m'</li>\n",
       "\t<li>'per.adv.m'</li>\n",
       "\t<li>'per.basic.m'</li>\n",
       "</ol>\n"
      ],
      "text/latex": [
       "\\begin{enumerate*}\n",
       "\\item 'V1'\n",
       "\\item 'dist'\n",
       "\\item 'school'\n",
       "\\item 'schoolyr'\n",
       "\\item 'date'\n",
       "\\item 'grade'\n",
       "\\item 'race'\n",
       "\\item 'absent\\_nonill'\n",
       "\\item 'absent\\_ill'\n",
       "\\item 'matchid'\n",
       "\\item 'month'\n",
       "\\item 'flusesn'\n",
       "\\item 'dist.n'\n",
       "\\item 'absent\\_all'\n",
       "\\item 'enrolled'\n",
       "\\item 'mn.class.size'\n",
       "\\item 'per.not\\_hsg'\n",
       "\\item 'per.hsg'\n",
       "\\item 'per.some\\_col'\n",
       "\\item 'per.col\\_grad'\n",
       "\\item 'per.grad\\_sch'\n",
       "\\item 'per.englearn'\n",
       "\\item 'per.freelunch'\n",
       "\\item 'API13'\n",
       "\\item 'API12'\n",
       "\\item 'mean.cst.ela'\n",
       "\\item 'per.adv.ela'\n",
       "\\item 'per.basic.ela'\n",
       "\\item 'mean.cst.m'\n",
       "\\item 'per.adv.m'\n",
       "\\item 'per.basic.m'\n",
       "\\end{enumerate*}\n"
      ],
      "text/markdown": [
       "1. 'V1'\n",
       "2. 'dist'\n",
       "3. 'school'\n",
       "4. 'schoolyr'\n",
       "5. 'date'\n",
       "6. 'grade'\n",
       "7. 'race'\n",
       "8. 'absent_nonill'\n",
       "9. 'absent_ill'\n",
       "10. 'matchid'\n",
       "11. 'month'\n",
       "12. 'flusesn'\n",
       "13. 'dist.n'\n",
       "14. 'absent_all'\n",
       "15. 'enrolled'\n",
       "16. 'mn.class.size'\n",
       "17. 'per.not_hsg'\n",
       "18. 'per.hsg'\n",
       "19. 'per.some_col'\n",
       "20. 'per.col_grad'\n",
       "21. 'per.grad_sch'\n",
       "22. 'per.englearn'\n",
       "23. 'per.freelunch'\n",
       "24. 'API13'\n",
       "25. 'API12'\n",
       "26. 'mean.cst.ela'\n",
       "27. 'per.adv.ela'\n",
       "28. 'per.basic.ela'\n",
       "29. 'mean.cst.m'\n",
       "30. 'per.adv.m'\n",
       "31. 'per.basic.m'\n",
       "\n",
       "\n"
      ],
      "text/plain": [
       " [1] \"V1\"            \"dist\"          \"school\"        \"schoolyr\"     \n",
       " [5] \"date\"          \"grade\"         \"race\"          \"absent_nonill\"\n",
       " [9] \"absent_ill\"    \"matchid\"       \"month\"         \"flusesn\"      \n",
       "[13] \"dist.n\"        \"absent_all\"    \"enrolled\"      \"mn.class.size\"\n",
       "[17] \"per.not_hsg\"   \"per.hsg\"       \"per.some_col\"  \"per.col_grad\" \n",
       "[21] \"per.grad_sch\"  \"per.englearn\"  \"per.freelunch\" \"API13\"        \n",
       "[25] \"API12\"         \"mean.cst.ela\"  \"per.adv.ela\"   \"per.basic.ela\"\n",
       "[29] \"mean.cst.m\"    \"per.adv.m\"     \"per.basic.m\"  "
      ]
     },
     "metadata": {},
     "output_type": "display_data"
    }
   ],
   "source": [
    "head(aggregationData)\n",
    "colnames(aggregationData)"
   ]
  },
  {
   "cell_type": "code",
   "execution_count": 5,
   "metadata": {
    "scrolled": false
   },
   "outputs": [],
   "source": [
    "getSchoolData = function(aggregationData, dropColumns, aggregationColumns) {\n",
    "    oldw <- getOption(\"warn\")\n",
    "    options(warn = -1)\n",
    "    \n",
    "    cleanAggregationData = aggregationData[,(dropColumns):=NULL]\n",
    "    groupedSchoolData = cleanAggregationData[,head(.SD, 1),by=aggregationColumns]\n",
    "    \n",
    "    options(warn = oldw)\n",
    "\n",
    "    return(groupedSchoolData)\n",
    "}"
   ]
  },
  {
   "cell_type": "code",
   "execution_count": 6,
   "metadata": {
    "scrolled": false
   },
   "outputs": [
    {
     "name": "stdout",
     "output_type": "stream",
     "text": [
      "[1] \"Data collected for 84 schools\"\n"
     ]
    },
    {
     "data": {
      "text/html": [
       "<table>\n",
       "<thead><tr><th scope=col>dist</th><th scope=col>school</th><th scope=col>enrolled</th><th scope=col>mn.class.size</th><th scope=col>per.not_hsg</th><th scope=col>per.hsg</th><th scope=col>per.some_col</th><th scope=col>per.col_grad</th><th scope=col>per.grad_sch</th><th scope=col>per.englearn</th><th scope=col>per.freelunch</th><th scope=col>API13</th><th scope=col>API12</th><th scope=col>mean.cst.ela</th><th scope=col>per.adv.ela</th><th scope=col>per.basic.ela</th><th scope=col>mean.cst.m</th><th scope=col>per.adv.m</th><th scope=col>per.basic.m</th></tr></thead>\n",
       "<tbody>\n",
       "\t<tr><td>OUSD                         </td><td>ACORN Woodland Elementary    </td><td>267                          </td><td>19.07143                     </td><td>33                           </td><td>37                           </td><td>20                           </td><td> 8                           </td><td>1                            </td><td>64.41948                     </td><td>86.70                        </td><td>798                          </td><td>848                          </td><td>360.600                      </td><td>22.50                        </td><td>26.50                        </td><td>392.025                      </td><td>35.50                        </td><td>11.75                        </td></tr>\n",
       "\t<tr><td>OUSD                         </td><td>Allendale Elementary         </td><td>425                          </td><td>26.56250                     </td><td>27                           </td><td>33                           </td><td>27                           </td><td>12                           </td><td>3                            </td><td>41.17647                     </td><td>79.91                        </td><td>663                          </td><td>725                          </td><td>329.625                      </td><td> 8.75                        </td><td>38.50                        </td><td>333.425                      </td><td>10.75                        </td><td>29.00                        </td></tr>\n",
       "\t<tr><td>OUSD                         </td><td>Bella Vista Elementary       </td><td>525                          </td><td>21.87500                     </td><td>24                           </td><td>31                           </td><td>24                           </td><td>15                           </td><td>5                            </td><td>42.28571                     </td><td>75.33                        </td><td>813                          </td><td>849                          </td><td>369.825                      </td><td>29.75                        </td><td>22.75                        </td><td>422.575                      </td><td>53.50                        </td><td>12.00                        </td></tr>\n",
       "\t<tr><td>OUSD                         </td><td>Bridges Academy              </td><td>381                          </td><td>19.05000                     </td><td>55                           </td><td>30                           </td><td>11                           </td><td> 3                           </td><td>1                            </td><td>79.26509                     </td><td>77.00                        </td><td>678                          </td><td>715                          </td><td>320.050                      </td><td> 9.75                        </td><td>31.75                        </td><td>356.025                      </td><td>19.00                        </td><td>27.00                        </td></tr>\n",
       "\t<tr><td>OUSD                         </td><td>Brookfield Village Elementary</td><td>367                          </td><td>16.68182                     </td><td>41                           </td><td>33                           </td><td>15                           </td><td> 8                           </td><td>2                            </td><td>58.03815                     </td><td>66.21                        </td><td>687                          </td><td>738                          </td><td>329.675                      </td><td> 8.25                        </td><td>44.00                        </td><td>351.575                      </td><td>18.25                        </td><td>22.50                        </td></tr>\n",
       "\t<tr><td>OUSD                         </td><td>Burckhalter Elementary       </td><td>298                          </td><td>22.92308                     </td><td>12                           </td><td>22                           </td><td>40                           </td><td>20                           </td><td>6                            </td><td>11.74497                     </td><td>71.81                        </td><td>769                          </td><td>808                          </td><td>358.950                      </td><td>22.50                        </td><td>30.75                        </td><td>390.775                      </td><td>39.00                        </td><td>21.00                        </td></tr>\n",
       "</tbody>\n",
       "</table>\n"
      ],
      "text/latex": [
       "\\begin{tabular}{r|lllllllllllllllllll}\n",
       " dist & school & enrolled & mn.class.size & per.not\\_hsg & per.hsg & per.some\\_col & per.col\\_grad & per.grad\\_sch & per.englearn & per.freelunch & API13 & API12 & mean.cst.ela & per.adv.ela & per.basic.ela & mean.cst.m & per.adv.m & per.basic.m\\\\\n",
       "\\hline\n",
       "\t OUSD                          & ACORN Woodland Elementary     & 267                           & 19.07143                      & 33                            & 37                            & 20                            &  8                            & 1                             & 64.41948                      & 86.70                         & 798                           & 848                           & 360.600                       & 22.50                         & 26.50                         & 392.025                       & 35.50                         & 11.75                        \\\\\n",
       "\t OUSD                          & Allendale Elementary          & 425                           & 26.56250                      & 27                            & 33                            & 27                            & 12                            & 3                             & 41.17647                      & 79.91                         & 663                           & 725                           & 329.625                       &  8.75                         & 38.50                         & 333.425                       & 10.75                         & 29.00                        \\\\\n",
       "\t OUSD                          & Bella Vista Elementary        & 525                           & 21.87500                      & 24                            & 31                            & 24                            & 15                            & 5                             & 42.28571                      & 75.33                         & 813                           & 849                           & 369.825                       & 29.75                         & 22.75                         & 422.575                       & 53.50                         & 12.00                        \\\\\n",
       "\t OUSD                          & Bridges Academy               & 381                           & 19.05000                      & 55                            & 30                            & 11                            &  3                            & 1                             & 79.26509                      & 77.00                         & 678                           & 715                           & 320.050                       &  9.75                         & 31.75                         & 356.025                       & 19.00                         & 27.00                        \\\\\n",
       "\t OUSD                          & Brookfield Village Elementary & 367                           & 16.68182                      & 41                            & 33                            & 15                            &  8                            & 2                             & 58.03815                      & 66.21                         & 687                           & 738                           & 329.675                       &  8.25                         & 44.00                         & 351.575                       & 18.25                         & 22.50                        \\\\\n",
       "\t OUSD                          & Burckhalter Elementary        & 298                           & 22.92308                      & 12                            & 22                            & 40                            & 20                            & 6                             & 11.74497                      & 71.81                         & 769                           & 808                           & 358.950                       & 22.50                         & 30.75                         & 390.775                       & 39.00                         & 21.00                        \\\\\n",
       "\\end{tabular}\n"
      ],
      "text/markdown": [
       "\n",
       "dist | school | enrolled | mn.class.size | per.not_hsg | per.hsg | per.some_col | per.col_grad | per.grad_sch | per.englearn | per.freelunch | API13 | API12 | mean.cst.ela | per.adv.ela | per.basic.ela | mean.cst.m | per.adv.m | per.basic.m | \n",
       "|---|---|---|---|---|---|\n",
       "| OUSD                          | ACORN Woodland Elementary     | 267                           | 19.07143                      | 33                            | 37                            | 20                            |  8                            | 1                             | 64.41948                      | 86.70                         | 798                           | 848                           | 360.600                       | 22.50                         | 26.50                         | 392.025                       | 35.50                         | 11.75                         | \n",
       "| OUSD                          | Allendale Elementary          | 425                           | 26.56250                      | 27                            | 33                            | 27                            | 12                            | 3                             | 41.17647                      | 79.91                         | 663                           | 725                           | 329.625                       |  8.75                         | 38.50                         | 333.425                       | 10.75                         | 29.00                         | \n",
       "| OUSD                          | Bella Vista Elementary        | 525                           | 21.87500                      | 24                            | 31                            | 24                            | 15                            | 5                             | 42.28571                      | 75.33                         | 813                           | 849                           | 369.825                       | 29.75                         | 22.75                         | 422.575                       | 53.50                         | 12.00                         | \n",
       "| OUSD                          | Bridges Academy               | 381                           | 19.05000                      | 55                            | 30                            | 11                            |  3                            | 1                             | 79.26509                      | 77.00                         | 678                           | 715                           | 320.050                       |  9.75                         | 31.75                         | 356.025                       | 19.00                         | 27.00                         | \n",
       "| OUSD                          | Brookfield Village Elementary | 367                           | 16.68182                      | 41                            | 33                            | 15                            |  8                            | 2                             | 58.03815                      | 66.21                         | 687                           | 738                           | 329.675                       |  8.25                         | 44.00                         | 351.575                       | 18.25                         | 22.50                         | \n",
       "| OUSD                          | Burckhalter Elementary        | 298                           | 22.92308                      | 12                            | 22                            | 40                            | 20                            | 6                             | 11.74497                      | 71.81                         | 769                           | 808                           | 358.950                       | 22.50                         | 30.75                         | 390.775                       | 39.00                         | 21.00                         | \n",
       "\n",
       "\n"
      ],
      "text/plain": [
       "  dist school                        enrolled mn.class.size per.not_hsg per.hsg\n",
       "1 OUSD ACORN Woodland Elementary     267      19.07143      33          37     \n",
       "2 OUSD Allendale Elementary          425      26.56250      27          33     \n",
       "3 OUSD Bella Vista Elementary        525      21.87500      24          31     \n",
       "4 OUSD Bridges Academy               381      19.05000      55          30     \n",
       "5 OUSD Brookfield Village Elementary 367      16.68182      41          33     \n",
       "6 OUSD Burckhalter Elementary        298      22.92308      12          22     \n",
       "  per.some_col per.col_grad per.grad_sch per.englearn per.freelunch API13 API12\n",
       "1 20            8           1            64.41948     86.70         798   848  \n",
       "2 27           12           3            41.17647     79.91         663   725  \n",
       "3 24           15           5            42.28571     75.33         813   849  \n",
       "4 11            3           1            79.26509     77.00         678   715  \n",
       "5 15            8           2            58.03815     66.21         687   738  \n",
       "6 40           20           6            11.74497     71.81         769   808  \n",
       "  mean.cst.ela per.adv.ela per.basic.ela mean.cst.m per.adv.m per.basic.m\n",
       "1 360.600      22.50       26.50         392.025    35.50     11.75      \n",
       "2 329.625       8.75       38.50         333.425    10.75     29.00      \n",
       "3 369.825      29.75       22.75         422.575    53.50     12.00      \n",
       "4 320.050       9.75       31.75         356.025    19.00     27.00      \n",
       "5 329.675       8.25       44.00         351.575    18.25     22.50      \n",
       "6 358.950      22.50       30.75         390.775    39.00     21.00      "
      ]
     },
     "metadata": {},
     "output_type": "display_data"
    }
   ],
   "source": [
    "# Dropping irrelevant columns from aggregation data\n",
    "dropColumns = c(\"V1\", \"schoolyr\", \"date\", \"grade\", \"race\", \"absent_nonill\", \"absent_ill\",\n",
    "                \"matchid\", \"month\", \"flusesn\", \"absent_all\", \"dist.n\"\n",
    "               )\n",
    "\n",
    "aggregationColumns = c(\"dist\", \"school\", \"enrolled\")\n",
    "\n",
    "schoolData = getSchoolData(aggregationData, dropColumns, aggregationColumns)\n",
    "\n",
    "print(paste(\"Data collected for\", nrow(schoolData), \"schools\"))\n",
    "head(schoolData)"
   ]
  },
  {
   "cell_type": "code",
   "execution_count": 7,
   "metadata": {
    "scrolled": false
   },
   "outputs": [
    {
     "ename": "ERROR",
     "evalue": "Error in eval(expr, envir, enclos): could not find function \"read.xlsx\"\n",
     "output_type": "error",
     "traceback": [
      "Error in eval(expr, envir, enclos): could not find function \"read.xlsx\"\nTraceback:\n"
     ]
    }
   ],
   "source": [
    "# Cleaning data and adding more useful variables\n",
    "\n",
    "absenteeData = absenteeData[,date:=as.Date(absenteeData$date, \"%d%b%Y\")]\n",
    "absenteeData=absenteeData[,month:=as.numeric(format(absenteeData$date, \"%m\"))]\n",
    "absenteeData=absenteeData[,week:=week(date)]\n",
    "absenteeData=absenteeData[,yr:=year(date)]\n",
    "\n",
    "absenteeData$fluseasCDC = ifelse(absenteeData$month <= 4 | absenteeData$month >= 10, 1, 0)\n",
    "\n",
    "absenteeData$dist.n = ifelse(absenteeData$dist == \"OUSD\", 1, 0)\n",
    "\n",
    "absenteeData$grade = as.factor(absenteeData$grade)\n",
    "\n",
    "absenteeData$race <- factor(absenteeData$race, levels = c(\"White\",\"African American\",\n",
    "      \"Asian\",\"Latino\",\"Multiple Ethnicity\",\"Native American\",\"Not Reported\",\n",
    "      \"Pacific Islander\"))\n",
    "\n",
    "# Since WCCUSD has different labeling and fewer races reported that OUSD, \n",
    "# reduce all races to subset for uniformity\n",
    "absenteeData = absenteeData[race %in% c(\"Native American\", \"Multiple Ethnicity\", \"Not Reported\"), \n",
    "                            race := \"Don't know Other\"]\n",
    "\n",
    "# The sum of any row will be 0 if there was no absence \n",
    "# or 1 if there was an absence for any reason\n",
    "absenteeData$absence = absenteeData$absent_nonill + absenteeData$absent_ill\n",
    "\n",
    "# Marking all rows as in flu season or not using ILI definition:\n",
    "# Start of flu season: at least 2 consecutive weeks in which % of medical visits for ILI is > 2%\n",
    "# End of flu season: at least 2 consecutive weeks in which % of medical visits for ILI is < 2%\n",
    "cdph=read.xlsx(file=paste(prefix, filenames[4], sep=\"\"), sheetName=\"ILIData\")\n",
    "\n",
    "cdph$yr=substr(cdph$weekending,1,4)\n",
    "cdph$mon=substr(cdph$weekending,6,7)\n",
    "cdph$day=substr(cdph$weekending,9,10)\n",
    "\n",
    "\n",
    "cdph$twoper=ifelse(cdph$ILIper>2,1,0)\n",
    "cdph=cdph[order(cdph$weekending),]\n",
    "cdph$fluseasCDPH=NA\n",
    "cdph$fluseasCDPH[1]=1\n",
    "for(i in 2:nrow(cdph)){\n",
    "  cdph$fluseasCDPH[i][cdph$twoper[i]==1 & cdph$twoper[i-1]==1]=1\n",
    "  cdph$fluseasCDPH[i][cdph$twoper[i]==0 & cdph$twoper[i-1]==0]=0\n",
    "  cdph$fluseasCDPH[i][cdph$twoper[i]==0 & cdph$twoper[i-1]==1]=cdph$fluseasCDPH[i-1]\n",
    "  cdph$fluseasCDPH[i][cdph$twoper[i]==1 & cdph$twoper[i-1]==0]=cdph$fluseasCDPH[i-1]\n",
    "}\n",
    "\n",
    "# Define peak week\n",
    "cdph$seasno[(cdph$yr>=2011 & cdph$mon<6)]=1011\n",
    "cdph$seasno[(cdph$yr>=2011 & cdph$mon>6)]=1112\n",
    "cdph$seasno[(cdph$yr>=2012 & cdph$mon<6)]=1112\n",
    "cdph$seasno[(cdph$yr>=2012 & cdph$mon>6)]=1213\n",
    "cdph$seasno[(cdph$yr>=2013 & cdph$mon<6)]=1213\n",
    "cdph$seasno[(cdph$yr>=2013 & cdph$mon>6)]=1314\n",
    "cdph$seasno[(cdph$yr>=2014 & cdph$mon<6)]=1314\n",
    "cdph$seasno[(cdph$yr>=2014 & cdph$mon>6)]=1415\n",
    "cdph$seasno[(cdph$yr>=2015 & cdph$mon<6)]=1415\n",
    "cdph$seasno[(cdph$yr>=2015 & cdph$mon>6)]=1516\n",
    "cdph$seasno[(cdph$yr>=2016 & cdph$mon<6)]=1516\n",
    "cdph$seasno[(cdph$yr>=2016 & cdph$mon>6)]=1617\n",
    "cdph$seasno[(cdph$yr>=2017 & cdph$mon<6)]=1617\n",
    "\n",
    "maxili=as.data.frame(aggregate(cdph$ILIper,list(seasno=cdph$seasno),max))\n",
    "maxili.row=apply(as.matrix(maxili[,2]),1,function(x) which(cdph$ILIper==x))\n",
    "cdph$peakwk=0\n",
    "cdph$peakwk[maxili.row]=1\n",
    "    \n",
    "cdph$week=week(ymd(cdph$weekending))\n",
    "    \n",
    "cdph.sub=cdph[,c(\"weekending\",\"fluseasCDPH\",\"peakwk\",\"week\",\"yr\")]\n",
    "cdph.sub=as.data.table(cdph.sub)\n",
    "cdph.sub$yr=as.integer(cdph.sub$yr)\n",
    "    \n",
    "# Merging flu season and peak week indicators into absentee dataset\n",
    "cleanedAbsenteeData=cdph.sub[absenteeData,on=c(\"week\",\"yr\")]\n",
    "\n",
    "# End result\n",
    "head(absenteeData)\n",
    "head(cleanedAbsenteeData)"
   ]
  },
  {
   "cell_type": "markdown",
   "metadata": {
    "scrolled": false
   },
   "source": [
    "#### Exploratory Data Analysis (EDA)\n",
    "The first, most important thing to do is examine how many absences ocurred in total. Then, we'll break it down year by year and examine absences.\n",
    "\n",
    "Absences are defined within the absent_nonill and absent_ill columns. Both columns having a 0 means the student was present. A 1 appears in one of the columns if there was an absence.\n",
    "\n",
    "In examining our dataset, some other good things to understand include racial breakdown and grade distribution."
   ]
  },
  {
   "cell_type": "code",
   "execution_count": null,
   "metadata": {},
   "outputs": [],
   "source": [
    "# Beginning Exploratory Data Analysis\n",
    "summary(absenteeData)"
   ]
  },
  {
   "cell_type": "code",
   "execution_count": null,
   "metadata": {},
   "outputs": [],
   "source": [
    "pieAbsenceBreakdown = function(data, pieTitle) {\n",
    "    \"Creates a pie chart of the absences and presences in dataset\"\n",
    "    numAbsences = sum(data$absence)\n",
    "    numPresences = length(data$absence) - numAbsences\n",
    "    rawBreakdown = c(numAbsences, numPresences)\n",
    "    \n",
    "    piePercent = paste(round(100*rawBreakdown/sum(rawBreakdown), 2), \"%\", sep=\"\")\n",
    "    \n",
    "    pie(rawBreakdown, \n",
    "        labels=piePercent, \n",
    "        col=rainbow(length(rawBreakdown)),\n",
    "        main=pieTitle\n",
    "       )\n",
    "    \n",
    "    legend(\"topright\", \n",
    "           c(\"Absences\",\"Presences\"), \n",
    "           fill=rainbow(length(rawBreakdown))\n",
    "          )\n",
    "}\n",
    "\n",
    "# Examining total absence/presence breakdown\n",
    "pieAbsenceBreakdown(data=cleanAbsenteeData, pieTitle=\"All Year Absence/Presence breakdown\")\n",
    "\n",
    "\n",
    "# Examining flu-specific absence/presence breakdown\n",
    "# fluData = cleanAbsenteeData[fluSeason==1]\n",
    "\n",
    "#pieAbsenceBreakdown(data=fluData, pieTitle=\"Flu Season Absence/Presence breakdown\")"
   ]
  },
  {
   "cell_type": "code",
   "execution_count": null,
   "metadata": {},
   "outputs": [],
   "source": [
    "# Creating a pie chart of ethnicities\n",
    "\n",
    "races = cleanAbsenteeData[,.N,by=\"race\"]\n",
    "piePercent2 = paste(round(100*races$N/sum(races$N), 2), \"%\", sep=\"\")\n",
    "\n",
    "pie(x=races$N, labels=piePercent2, col=rainbow(length(races$race)), cex = 0.4)\n",
    "legend(\"topright\", legend=races$race, fill=rainbow(length(races$race)), cex = 0.6, title=\"Ethnic breakdown\")\n",
    "races"
   ]
  },
  {
   "cell_type": "code",
   "execution_count": null,
   "metadata": {},
   "outputs": [],
   "source": [
    "# Examining overall grade distribution\n",
    "grades = cleanAbsenteeData[,.N,by=\"grade\"][order(grade)]\n",
    "\n",
    "barplot(grades$N, names.arg=grades$grade)"
   ]
  },
  {
   "cell_type": "markdown",
   "metadata": {},
   "source": [
    "#### Interpreting Our EDA Results\n",
    "\n",
    "So, we see that we have a relatively small number of absences in our overall dataset (this is good!). Since we have a huge sample size, we'll have plenty of absences to examine.\n",
    "\n",
    "Let's perhaps use PCA to interpret whether race is a good predictor of absences? Or whether the school's stats are?\n",
    "\n",
    "Predicting school level absence based on all of its variables in nonflusesn and in flusesn and based on whether it received the intervention or not? "
   ]
  },
  {
   "cell_type": "code",
   "execution_count": null,
   "metadata": {
    "collapsed": true
   },
   "outputs": [],
   "source": []
  }
 ],
 "metadata": {
  "kernelspec": {
   "display_name": "R",
   "language": "R",
   "name": "ir"
  },
  "language_info": {
   "codemirror_mode": "r",
   "file_extension": ".r",
   "mimetype": "text/x-r-source",
   "name": "R",
   "pygments_lexer": "r",
   "version": "3.3.2"
  }
 },
 "nbformat": 4,
 "nbformat_minor": 2
}
