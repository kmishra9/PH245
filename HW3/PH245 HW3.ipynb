{
 "cells": [
  {
   "cell_type": "markdown",
   "metadata": {},
   "source": [
    "# PH 245 Homework 3: Logistic Regression\n",
    "Kunal Mishra"
   ]
  },
  {
   "cell_type": "code",
   "execution_count": 154,
   "metadata": {},
   "outputs": [
    {
     "name": "stdout",
     "output_type": "stream",
     "text": [
      "[1] \"Predictors:\"\n"
     ]
    },
    {
     "data": {
      "text/html": [
       "<table>\n",
       "<thead><tr><th scope=col>age</th><th scope=col>gender</th><th scope=col>chestpain</th><th scope=col>bldpressure</th><th scope=col>chol</th><th scope=col>bldsugar</th><th scope=col>electrocardio</th><th scope=col>heartrate</th><th scope=col>angina</th><th scope=col>STdepression</th><th scope=col>STslope</th><th scope=col>vessel</th><th scope=col>thal</th></tr></thead>\n",
       "<tbody>\n",
       "\t<tr><td>63 </td><td>1  </td><td>1  </td><td>145</td><td>233</td><td>1  </td><td>2  </td><td>150</td><td>0  </td><td>2.3</td><td>3  </td><td>0  </td><td>2  </td></tr>\n",
       "\t<tr><td>67 </td><td>1  </td><td>4  </td><td>160</td><td>286</td><td>0  </td><td>2  </td><td>108</td><td>1  </td><td>1.5</td><td>2  </td><td>3  </td><td>1  </td></tr>\n",
       "\t<tr><td>67 </td><td>1  </td><td>4  </td><td>120</td><td>229</td><td>0  </td><td>2  </td><td>129</td><td>1  </td><td>2.6</td><td>2  </td><td>2  </td><td>3  </td></tr>\n",
       "\t<tr><td>37 </td><td>1  </td><td>3  </td><td>130</td><td>250</td><td>0  </td><td>0  </td><td>187</td><td>0  </td><td>3.5</td><td>3  </td><td>0  </td><td>1  </td></tr>\n",
       "\t<tr><td>41 </td><td>0  </td><td>2  </td><td>130</td><td>204</td><td>0  </td><td>2  </td><td>172</td><td>0  </td><td>1.4</td><td>1  </td><td>0  </td><td>1  </td></tr>\n",
       "\t<tr><td>56 </td><td>1  </td><td>2  </td><td>120</td><td>236</td><td>0  </td><td>0  </td><td>178</td><td>0  </td><td>0.8</td><td>1  </td><td>0  </td><td>1  </td></tr>\n",
       "</tbody>\n",
       "</table>\n"
      ],
      "text/latex": [
       "\\begin{tabular}{lllllllllllll}\n",
       " age & gender & chestpain & bldpressure & chol & bldsugar & electrocardio & heartrate & angina & STdepression & STslope & vessel & thal\\\\\n",
       "\\hline\n",
       "\t 63  & 1   & 1   & 145 & 233 & 1   & 2   & 150 & 0   & 2.3 & 3   & 0   & 2  \\\\\n",
       "\t 67  & 1   & 4   & 160 & 286 & 0   & 2   & 108 & 1   & 1.5 & 2   & 3   & 1  \\\\\n",
       "\t 67  & 1   & 4   & 120 & 229 & 0   & 2   & 129 & 1   & 2.6 & 2   & 2   & 3  \\\\\n",
       "\t 37  & 1   & 3   & 130 & 250 & 0   & 0   & 187 & 0   & 3.5 & 3   & 0   & 1  \\\\\n",
       "\t 41  & 0   & 2   & 130 & 204 & 0   & 2   & 172 & 0   & 1.4 & 1   & 0   & 1  \\\\\n",
       "\t 56  & 1   & 2   & 120 & 236 & 0   & 0   & 178 & 0   & 0.8 & 1   & 0   & 1  \\\\\n",
       "\\end{tabular}\n"
      ],
      "text/markdown": [
       "\n",
       "age | gender | chestpain | bldpressure | chol | bldsugar | electrocardio | heartrate | angina | STdepression | STslope | vessel | thal | \n",
       "|---|---|---|---|---|---|\n",
       "| 63  | 1   | 1   | 145 | 233 | 1   | 2   | 150 | 0   | 2.3 | 3   | 0   | 2   | \n",
       "| 67  | 1   | 4   | 160 | 286 | 0   | 2   | 108 | 1   | 1.5 | 2   | 3   | 1   | \n",
       "| 67  | 1   | 4   | 120 | 229 | 0   | 2   | 129 | 1   | 2.6 | 2   | 2   | 3   | \n",
       "| 37  | 1   | 3   | 130 | 250 | 0   | 0   | 187 | 0   | 3.5 | 3   | 0   | 1   | \n",
       "| 41  | 0   | 2   | 130 | 204 | 0   | 2   | 172 | 0   | 1.4 | 1   | 0   | 1   | \n",
       "| 56  | 1   | 2   | 120 | 236 | 0   | 0   | 178 | 0   | 0.8 | 1   | 0   | 1   | \n",
       "\n",
       "\n"
      ],
      "text/plain": [
       "     age gender chestpain bldpressure chol bldsugar electrocardio heartrate\n",
       "[1,] 63  1      1         145         233  1        2             150      \n",
       "[2,] 67  1      4         160         286  0        2             108      \n",
       "[3,] 67  1      4         120         229  0        2             129      \n",
       "[4,] 37  1      3         130         250  0        0             187      \n",
       "[5,] 41  0      2         130         204  0        2             172      \n",
       "[6,] 56  1      2         120         236  0        0             178      \n",
       "     angina STdepression STslope vessel thal\n",
       "[1,] 0      2.3          3       0      2   \n",
       "[2,] 1      1.5          2       3      1   \n",
       "[3,] 1      2.6          2       2      3   \n",
       "[4,] 0      3.5          3       0      1   \n",
       "[5,] 0      1.4          1       0      1   \n",
       "[6,] 0      0.8          1       0      1   "
      ]
     },
     "metadata": {},
     "output_type": "display_data"
    },
    {
     "name": "stdout",
     "output_type": "stream",
     "text": [
      "[1] \"Response:\"\n"
     ]
    },
    {
     "data": {
      "text/html": [
       "<ol class=list-inline>\n",
       "\t<li>0</li>\n",
       "\t<li>1</li>\n",
       "\t<li>1</li>\n",
       "\t<li>0</li>\n",
       "\t<li>0</li>\n",
       "\t<li>0</li>\n",
       "</ol>\n"
      ],
      "text/latex": [
       "\\begin{enumerate*}\n",
       "\\item 0\n",
       "\\item 1\n",
       "\\item 1\n",
       "\\item 0\n",
       "\\item 0\n",
       "\\item 0\n",
       "\\end{enumerate*}\n"
      ],
      "text/markdown": [
       "1. 0\n",
       "2. 1\n",
       "3. 1\n",
       "4. 0\n",
       "5. 0\n",
       "6. 0\n",
       "\n",
       "\n"
      ],
      "text/plain": [
       "[1] 0 1 1 0 0 0"
      ]
     },
     "metadata": {},
     "output_type": "display_data"
    }
   ],
   "source": [
    "# Loading Libraries\n",
    "library(ggplot2)\n",
    "library(dummies)\n",
    "\n",
    "# Loading Data\n",
    "data = read.table(file=\"Data-HW3-CHeartDisease.dat\", header=FALSE, quote=\"\", sep=\",\")\n",
    "\n",
    "# Processing data and removing patients with missing data \n",
    "length = nrow(data)\n",
    "id.ms = sort( c(seq(1, length)[data[,12]=='?'],\n",
    "                seq(1, length)[data[,13]=='?']\n",
    "               )\n",
    "            )\n",
    "\n",
    "data[,12] = as.numeric(data[,12]) - 2\n",
    "data[,13] = as.numeric(data[,13]) - 1\n",
    "\n",
    "predictors = data.matrix(data[,1:13])\n",
    "response = data[,14]\n",
    "response[response > 0] = 1\n",
    "\n",
    "colnames(predictors) = c(\"age\", \"gender\", \"chestpain\", \"bldpressure\", \"chol\",\n",
    "      \"bldsugar\", \"electrocardio\", \"heartrate\", \"angina\", \"STdepression\",\n",
    "      \"STslope\", \"vessel\", \"thal\")\n",
    "\n",
    "# Removing patients without valid data\n",
    "predictors = predictors[-id.ms,]\n",
    "response = response[-id.ms]\n",
    "\n",
    "stopifnot(nrow(predictors) == length(response) && nrow(predictors) == 297)\n",
    "\n",
    "print(\"Predictors:\")\n",
    "head(predictors)\n",
    "\n",
    "print(\"Response:\")\n",
    "head(response)"
   ]
  },
  {
   "cell_type": "markdown",
   "metadata": {},
   "source": [
    "#### Problem 1A"
   ]
  },
  {
   "cell_type": "code",
   "execution_count": 155,
   "metadata": {},
   "outputs": [
    {
     "name": "stdout",
     "output_type": "stream",
     "text": [
      "[1] \"Total number of patients:\"\n"
     ]
    },
    {
     "data": {
      "text/html": [
       "297"
      ],
      "text/latex": [
       "297"
      ],
      "text/markdown": [
       "297"
      ],
      "text/plain": [
       "[1] 297"
      ]
     },
     "metadata": {},
     "output_type": "display_data"
    },
    {
     "name": "stdout",
     "output_type": "stream",
     "text": [
      "[1] \"Number of patients with heart disease:\"\n"
     ]
    },
    {
     "data": {
      "text/html": [
       "137"
      ],
      "text/latex": [
       "137"
      ],
      "text/markdown": [
       "137"
      ],
      "text/plain": [
       "[1] 137"
      ]
     },
     "metadata": {},
     "output_type": "display_data"
    },
    {
     "name": "stdout",
     "output_type": "stream",
     "text": [
      "[1] \"Number of patients with no heart disease:\"\n"
     ]
    },
    {
     "data": {
      "text/html": [
       "160"
      ],
      "text/latex": [
       "160"
      ],
      "text/markdown": [
       "160"
      ],
      "text/plain": [
       "[1] 160"
      ]
     },
     "metadata": {},
     "output_type": "display_data"
    },
    {
     "data": {
      "text/html": [
       "'________________________________________________________________'"
      ],
      "text/latex": [
       "'\\_\\_\\_\\_\\_\\_\\_\\_\\_\\_\\_\\_\\_\\_\\_\\_\\_\\_\\_\\_\\_\\_\\_\\_\\_\\_\\_\\_\\_\\_\\_\\_\\_\\_\\_\\_\\_\\_\\_\\_\\_\\_\\_\\_\\_\\_\\_\\_\\_\\_\\_\\_\\_\\_\\_\\_\\_\\_\\_\\_\\_\\_\\_\\_'"
      ],
      "text/markdown": [
       "'________________________________________________________________'"
      ],
      "text/plain": [
       "[1] \"________________________________________________________________\""
      ]
     },
     "metadata": {},
     "output_type": "display_data"
    },
    {
     "name": "stdout",
     "output_type": "stream",
     "text": [
      "[1] \"Total number of predictors:\"\n"
     ]
    },
    {
     "data": {
      "text/html": [
       "13"
      ],
      "text/latex": [
       "13"
      ],
      "text/markdown": [
       "13"
      ],
      "text/plain": [
       "[1] 13"
      ]
     },
     "metadata": {},
     "output_type": "display_data"
    },
    {
     "name": "stdout",
     "output_type": "stream",
     "text": [
      "[1] \"Numeric predictor variables:\"\n"
     ]
    },
    {
     "data": {
      "text/html": [
       "<table>\n",
       "<thead><tr><th scope=col>age</th><th scope=col>bldpressure</th><th scope=col>chol</th><th scope=col>heartrate</th><th scope=col>STdepression</th></tr></thead>\n",
       "<tbody>\n",
       "\t<tr><td>63 </td><td>145</td><td>233</td><td>150</td><td>2.3</td></tr>\n",
       "\t<tr><td>67 </td><td>160</td><td>286</td><td>108</td><td>1.5</td></tr>\n",
       "\t<tr><td>67 </td><td>120</td><td>229</td><td>129</td><td>2.6</td></tr>\n",
       "\t<tr><td>37 </td><td>130</td><td>250</td><td>187</td><td>3.5</td></tr>\n",
       "\t<tr><td>41 </td><td>130</td><td>204</td><td>172</td><td>1.4</td></tr>\n",
       "\t<tr><td>56 </td><td>120</td><td>236</td><td>178</td><td>0.8</td></tr>\n",
       "</tbody>\n",
       "</table>\n"
      ],
      "text/latex": [
       "\\begin{tabular}{lllll}\n",
       " age & bldpressure & chol & heartrate & STdepression\\\\\n",
       "\\hline\n",
       "\t 63  & 145 & 233 & 150 & 2.3\\\\\n",
       "\t 67  & 160 & 286 & 108 & 1.5\\\\\n",
       "\t 67  & 120 & 229 & 129 & 2.6\\\\\n",
       "\t 37  & 130 & 250 & 187 & 3.5\\\\\n",
       "\t 41  & 130 & 204 & 172 & 1.4\\\\\n",
       "\t 56  & 120 & 236 & 178 & 0.8\\\\\n",
       "\\end{tabular}\n"
      ],
      "text/markdown": [
       "\n",
       "age | bldpressure | chol | heartrate | STdepression | \n",
       "|---|---|---|---|---|---|\n",
       "| 63  | 145 | 233 | 150 | 2.3 | \n",
       "| 67  | 160 | 286 | 108 | 1.5 | \n",
       "| 67  | 120 | 229 | 129 | 2.6 | \n",
       "| 37  | 130 | 250 | 187 | 3.5 | \n",
       "| 41  | 130 | 204 | 172 | 1.4 | \n",
       "| 56  | 120 | 236 | 178 | 0.8 | \n",
       "\n",
       "\n"
      ],
      "text/plain": [
       "     age bldpressure chol heartrate STdepression\n",
       "[1,] 63  145         233  150       2.3         \n",
       "[2,] 67  160         286  108       1.5         \n",
       "[3,] 67  120         229  129       2.6         \n",
       "[4,] 37  130         250  187       3.5         \n",
       "[5,] 41  130         204  172       1.4         \n",
       "[6,] 56  120         236  178       0.8         "
      ]
     },
     "metadata": {},
     "output_type": "display_data"
    },
    {
     "name": "stdout",
     "output_type": "stream",
     "text": [
      "[1] \"Categorical predictor variables:\"\n"
     ]
    },
    {
     "data": {
      "text/html": [
       "<table>\n",
       "<thead><tr><th scope=col>gender</th><th scope=col>chestpain</th><th scope=col>bldsugar</th><th scope=col>angina</th><th scope=col>vessel</th><th scope=col>thal</th></tr></thead>\n",
       "<tbody>\n",
       "\t<tr><td>1</td><td>1</td><td>1</td><td>0</td><td>0</td><td>2</td></tr>\n",
       "\t<tr><td>1</td><td>4</td><td>0</td><td>1</td><td>3</td><td>1</td></tr>\n",
       "\t<tr><td>1</td><td>4</td><td>0</td><td>1</td><td>2</td><td>3</td></tr>\n",
       "\t<tr><td>1</td><td>3</td><td>0</td><td>0</td><td>0</td><td>1</td></tr>\n",
       "\t<tr><td>0</td><td>2</td><td>0</td><td>0</td><td>0</td><td>1</td></tr>\n",
       "\t<tr><td>1</td><td>2</td><td>0</td><td>0</td><td>0</td><td>1</td></tr>\n",
       "</tbody>\n",
       "</table>\n"
      ],
      "text/latex": [
       "\\begin{tabular}{llllll}\n",
       " gender & chestpain & bldsugar & angina & vessel & thal\\\\\n",
       "\\hline\n",
       "\t 1 & 1 & 1 & 0 & 0 & 2\\\\\n",
       "\t 1 & 4 & 0 & 1 & 3 & 1\\\\\n",
       "\t 1 & 4 & 0 & 1 & 2 & 3\\\\\n",
       "\t 1 & 3 & 0 & 0 & 0 & 1\\\\\n",
       "\t 0 & 2 & 0 & 0 & 0 & 1\\\\\n",
       "\t 1 & 2 & 0 & 0 & 0 & 1\\\\\n",
       "\\end{tabular}\n"
      ],
      "text/markdown": [
       "\n",
       "gender | chestpain | bldsugar | angina | vessel | thal | \n",
       "|---|---|---|---|---|---|\n",
       "| 1 | 1 | 1 | 0 | 0 | 2 | \n",
       "| 1 | 4 | 0 | 1 | 3 | 1 | \n",
       "| 1 | 4 | 0 | 1 | 2 | 3 | \n",
       "| 1 | 3 | 0 | 0 | 0 | 1 | \n",
       "| 0 | 2 | 0 | 0 | 0 | 1 | \n",
       "| 1 | 2 | 0 | 0 | 0 | 1 | \n",
       "\n",
       "\n"
      ],
      "text/plain": [
       "     gender chestpain bldsugar angina vessel thal\n",
       "[1,] 1      1         1        0      0      2   \n",
       "[2,] 1      4         0        1      3      1   \n",
       "[3,] 1      4         0        1      2      3   \n",
       "[4,] 1      3         0        0      0      1   \n",
       "[5,] 0      2         0        0      0      1   \n",
       "[6,] 1      2         0        0      0      1   "
      ]
     },
     "metadata": {},
     "output_type": "display_data"
    },
    {
     "name": "stdout",
     "output_type": "stream",
     "text": [
      "[1] \"Unclear variables that could be treated as either numeric or categorical:\"\n"
     ]
    },
    {
     "data": {
      "text/html": [
       "<table>\n",
       "<thead><tr><th scope=col>electrocardio</th><th scope=col>STslope</th></tr></thead>\n",
       "<tbody>\n",
       "\t<tr><td>2</td><td>3</td></tr>\n",
       "\t<tr><td>2</td><td>2</td></tr>\n",
       "\t<tr><td>2</td><td>2</td></tr>\n",
       "\t<tr><td>0</td><td>3</td></tr>\n",
       "\t<tr><td>2</td><td>1</td></tr>\n",
       "\t<tr><td>0</td><td>1</td></tr>\n",
       "</tbody>\n",
       "</table>\n"
      ],
      "text/latex": [
       "\\begin{tabular}{ll}\n",
       " electrocardio & STslope\\\\\n",
       "\\hline\n",
       "\t 2 & 3\\\\\n",
       "\t 2 & 2\\\\\n",
       "\t 2 & 2\\\\\n",
       "\t 0 & 3\\\\\n",
       "\t 2 & 1\\\\\n",
       "\t 0 & 1\\\\\n",
       "\\end{tabular}\n"
      ],
      "text/markdown": [
       "\n",
       "electrocardio | STslope | \n",
       "|---|---|---|---|---|---|\n",
       "| 2 | 3 | \n",
       "| 2 | 2 | \n",
       "| 2 | 2 | \n",
       "| 0 | 3 | \n",
       "| 2 | 1 | \n",
       "| 0 | 1 | \n",
       "\n",
       "\n"
      ],
      "text/plain": [
       "     electrocardio STslope\n",
       "[1,] 2             3      \n",
       "[2,] 2             2      \n",
       "[3,] 2             2      \n",
       "[4,] 0             3      \n",
       "[5,] 2             1      \n",
       "[6,] 0             1      "
      ]
     },
     "metadata": {},
     "output_type": "display_data"
    },
    {
     "data": {
      "text/html": [
       "'________________________________________________________________'"
      ],
      "text/latex": [
       "'\\_\\_\\_\\_\\_\\_\\_\\_\\_\\_\\_\\_\\_\\_\\_\\_\\_\\_\\_\\_\\_\\_\\_\\_\\_\\_\\_\\_\\_\\_\\_\\_\\_\\_\\_\\_\\_\\_\\_\\_\\_\\_\\_\\_\\_\\_\\_\\_\\_\\_\\_\\_\\_\\_\\_\\_\\_\\_\\_\\_\\_\\_\\_\\_'"
      ],
      "text/markdown": [
       "'________________________________________________________________'"
      ],
      "text/plain": [
       "[1] \"________________________________________________________________\""
      ]
     },
     "metadata": {},
     "output_type": "display_data"
    },
    {
     "name": "stdout",
     "output_type": "stream",
     "text": [
      "[1] \"Gender breakdown % (0):\"\n"
     ]
    },
    {
     "data": {
      "text/html": [
       "32.3232323232323"
      ],
      "text/latex": [
       "32.3232323232323"
      ],
      "text/markdown": [
       "32.3232323232323"
      ],
      "text/plain": [
       "[1] 32.32323"
      ]
     },
     "metadata": {},
     "output_type": "display_data"
    },
    {
     "name": "stdout",
     "output_type": "stream",
     "text": [
      "[1] \"Gender breakdown % (1):\"\n"
     ]
    },
    {
     "data": {
      "text/html": [
       "67.6767676767677"
      ],
      "text/latex": [
       "67.6767676767677"
      ],
      "text/markdown": [
       "67.6767676767677"
      ],
      "text/plain": [
       "[1] 67.67677"
      ]
     },
     "metadata": {},
     "output_type": "display_data"
    }
   ],
   "source": [
    "# Exploratory Data Analysis \n",
    "\n",
    "# 1.A.1: How many patients in the dataset had heart disease vs. no disease? \n",
    "numHeartDisease = sum(response)\n",
    "noHeartDisease = length(response) - numHeartDisease\n",
    "\n",
    "print(\"Total number of patients:\")\n",
    "length(response)\n",
    "stopifnot(length(response) == numHeartDisease + noHeartDisease)\n",
    "\n",
    "print(\"Number of patients with heart disease:\")\n",
    "numHeartDisease\n",
    "\n",
    "print(\"Number of patients with no heart disease:\")\n",
    "noHeartDisease\n",
    "\n",
    "\"________________________________________________________________\"\n",
    "# 1.A.2: Which predictors are numerical, which are categorical, and which are unclear? \n",
    "\n",
    "print(\"Total number of predictors:\")\n",
    "ncol(predictors)\n",
    "\n",
    "print(\"Numeric predictor variables:\")\n",
    "head(predictors[,c(1, 4, 5, 8, 10)])\n",
    "\n",
    "\n",
    "print(\"Categorical predictor variables:\")\n",
    "head(predictors[,c(2, 3, 6, 9, 12, 13)])\n",
    "\n",
    "print(\"Unclear variables that could be treated as either numeric or categorical:\")\n",
    "head(predictors[, c(7, 11)])\n",
    "\n",
    "\"________________________________________________________________\"\n",
    "# Further EDA\n",
    "print(\"Gender breakdown % (0):\")\n",
    "(297-sum(predictors[,2]))/297 * 100\n",
    "\n",
    "print(\"Gender breakdown % (1):\")\n",
    "sum(predictors[,2])/297 * 100"
   ]
  },
  {
   "cell_type": "markdown",
   "metadata": {},
   "source": [
    "One thing that isn't completely clear is what each category for the gender variable is. Based on the fact that heart disease is a more prevalent problem for men and 67% of our dataset is labeled as \"1\" in terms of gender, it is fairly likely that the mapping is 0=Female, 1=Male\n",
    "\n",
    "#### Problem 1B"
   ]
  },
  {
   "cell_type": "code",
   "execution_count": 157,
   "metadata": {},
   "outputs": [
    {
     "data": {
      "text/plain": [
       "\n",
       "Call:\n",
       "glm(formula = response ~ ., family = \"binomial\", data = combinedDF)\n",
       "\n",
       "Deviance Residuals: \n",
       "    Min       1Q   Median       3Q      Max  \n",
       "-2.8042  -0.5263  -0.1860   0.4161   2.3676  \n",
       "\n",
       "Coefficients:\n",
       "               Estimate Std. Error z value Pr(>|z|)    \n",
       "(Intercept)   -6.993701   2.893938  -2.417  0.01566 *  \n",
       "age           -0.014057   0.024036  -0.585  0.55866    \n",
       "gender         1.319688   0.486718   2.711  0.00670 ** \n",
       "chestpain      0.578582   0.191335   3.024  0.00250 ** \n",
       "bldpressure    0.024182   0.010727   2.254  0.02418 *  \n",
       "chol           0.004816   0.003775   1.276  0.20202    \n",
       "bldsugar      -0.991868   0.554947  -1.787  0.07389 .  \n",
       "electrocardio  0.246117   0.185238   1.329  0.18396    \n",
       "heartrate     -0.021183   0.010275  -2.062  0.03923 *  \n",
       "angina         0.915651   0.414003   2.212  0.02699 *  \n",
       "STdepression   0.249909   0.212418   1.176  0.23940    \n",
       "STslope        0.582699   0.362317   1.608  0.10778    \n",
       "vessel         1.267008   0.265723   4.768 1.86e-06 ***\n",
       "thal           0.714003   0.202068   3.533  0.00041 ***\n",
       "---\n",
       "Signif. codes:  0 ‘***’ 0.001 ‘**’ 0.01 ‘*’ 0.05 ‘.’ 0.1 ‘ ’ 1\n",
       "\n",
       "(Dispersion parameter for binomial family taken to be 1)\n",
       "\n",
       "    Null deviance: 409.95  on 296  degrees of freedom\n",
       "Residual deviance: 203.86  on 283  degrees of freedom\n",
       "AIC: 231.86\n",
       "\n",
       "Number of Fisher Scoring iterations: 6\n"
      ]
     },
     "metadata": {},
     "output_type": "display_data"
    }
   ],
   "source": [
    "combinedDF = as.data.frame(cbind(predictors, response))\n",
    "fit = glm(formula=response~., family=\"binomial\", data=combinedDF)\n",
    "summary(fit)"
   ]
  },
  {
   "cell_type": "markdown",
   "metadata": {},
   "source": [
    "#### Problem 1C\n",
    "\n",
    "To begin, we'll transform two of our categorical variables -- chest pain type and thal type -- using a one-hot encoding."
   ]
  },
  {
   "cell_type": "code",
   "execution_count": 169,
   "metadata": {},
   "outputs": [
    {
     "data": {
      "text/plain": [
       "\n",
       "Call:\n",
       "glm(formula = response ~ ., family = \"binomial\", data = combinedOneHotDF)\n",
       "\n",
       "Deviance Residuals: \n",
       "    Min       1Q   Median       3Q      Max  \n",
       "-2.7145  -0.5436  -0.1444   0.3264   2.7316  \n",
       "\n",
       "Coefficients:\n",
       "               Estimate Std. Error z value Pr(>|z|)    \n",
       "(Intercept)   -5.986093   2.938058  -2.037 0.041607 *  \n",
       "age           -0.012296   0.024664  -0.499 0.618120    \n",
       "gender         1.431422   0.513185   2.789 0.005282 ** \n",
       "chestpain2     1.071153   0.753902   1.421 0.155371    \n",
       "chestpain3     0.202175   0.648718   0.312 0.755304    \n",
       "chestpain4     2.006802   0.652608   3.075 0.002105 ** \n",
       "bldpressure    0.023981   0.011110   2.159 0.030889 *  \n",
       "chol           0.004930   0.003944   1.250 0.211306    \n",
       "bldsugar      -0.610758   0.599184  -1.019 0.308052    \n",
       "electrocardio  0.255433   0.189565   1.347 0.177829    \n",
       "heartrate     -0.021281   0.010821  -1.967 0.049224 *  \n",
       "angina         0.739431   0.434687   1.701 0.088931 .  \n",
       "STdepression   0.353095   0.230102   1.535 0.124903    \n",
       "STslope        0.670508   0.371616   1.804 0.071184 .  \n",
       "vessel         1.269290   0.271304   4.678 2.89e-06 ***\n",
       "thal2          0.011430   0.795090   0.014 0.988530    \n",
       "thal3          1.441377   0.418558   3.444 0.000574 ***\n",
       "---\n",
       "Signif. codes:  0 ‘***’ 0.001 ‘**’ 0.01 ‘*’ 0.05 ‘.’ 0.1 ‘ ’ 1\n",
       "\n",
       "(Dispersion parameter for binomial family taken to be 1)\n",
       "\n",
       "    Null deviance: 409.95  on 296  degrees of freedom\n",
       "Residual deviance: 194.83  on 280  degrees of freedom\n",
       "AIC: 228.83\n",
       "\n",
       "Number of Fisher Scoring iterations: 6\n"
      ]
     },
     "metadata": {},
     "output_type": "display_data"
    }
   ],
   "source": [
    "combinedOneHotDF = dummy.data.frame(combinedDF, names=c(\"chestpain\", \"thal\"))\n",
    "\n",
    "# Dropping one of each new dummy columns to avoid linear dependence/multicollinearity (\"Dummy Variable Trap\")\n",
    "combinedOneHotDF$chestpain1 = NULL\n",
    "combinedOneHotDF$thal1 = NULL\n",
    "\n",
    "\n",
    "# Refit the logistic regression to include the new dummy variables\n",
    "oneHotFit = glm(formula=response~., family=\"binomial\", data=combinedOneHotDF)\n",
    "\n",
    "summary(oneHotFit)"
   ]
  },
  {
   "cell_type": "markdown",
   "metadata": {},
   "source": [
    "#### Problem 1D\n",
    "\n",
    "The coefficient estimate for serum cholesterol was .00493. This can be interpreted as a .00493 increase in the log odds of having heart disease compared to not having heart disease for every unit increase in blood serum cholesterol. Though a variable like this would seem to intuitively be significant for predicting heart disease, the p-value for seeing a coefficient estimate as extreme as this purely due to chance is .2113. With an alpha of .05, we fail to reject the null hypothesis that blood serum cholesterol == 0.\n",
    "\n",
    "#### Problem 1E\n",
    "\n",
    "The coefficient estimate for chest pain type 4 was 2.006802. This can be interpreted as people having this chest pain see a 2.006802 increase in the log odds of having heart disease compared to those having chest pain type 1, which was excluded from our analysis to preseve linear independence. The p-value of chestpain4 was .002105, indicating that we could reject our null hypothesis (alpha=.05) that chestpain4's coefficient == 0. Our results indicate that the coefficient estimate is indeed statistically significant to the model and predicting heart disease outcomes.\n",
    "\n",
    "#### Problem 1F\n",
    "\n",
    "In order to generate binary predictions from our model, we'll need to classify based on the probability predicted by our model. "
   ]
  },
  {
   "cell_type": "code",
   "execution_count": 194,
   "metadata": {},
   "outputs": [
    {
     "name": "stdout",
     "output_type": "stream",
     "text": [
      "[1] \"Reminder: 0=Heart Disease Absent; 1=Heart Disease Present\"\n"
     ]
    },
    {
     "data": {
      "text/html": [
       "''"
      ],
      "text/latex": [
       "''"
      ],
      "text/markdown": [
       "''"
      ],
      "text/plain": [
       "[1] \"\""
      ]
     },
     "metadata": {},
     "output_type": "display_data"
    },
    {
     "name": "stdout",
     "output_type": "stream",
     "text": [
      "[1] \"Head of Probability Predictions (%Chance that response was not 0)\"\n"
     ]
    },
    {
     "data": {
      "text/html": [
       "<ol class=list-inline>\n",
       "\t<li>0.238628816527922</li>\n",
       "\t<li>0.998507600758617</li>\n",
       "\t<li>0.995409632549609</li>\n",
       "\t<li>0.233354466067628</li>\n",
       "\t<li>0.0362522632944759</li>\n",
       "\t<li>0.0489956634128456</li>\n",
       "</ol>\n"
      ],
      "text/latex": [
       "\\begin{enumerate*}\n",
       "\\item 0.238628816527922\n",
       "\\item 0.998507600758617\n",
       "\\item 0.995409632549609\n",
       "\\item 0.233354466067628\n",
       "\\item 0.0362522632944759\n",
       "\\item 0.0489956634128456\n",
       "\\end{enumerate*}\n"
      ],
      "text/markdown": [
       "1. 0.238628816527922\n",
       "2. 0.998507600758617\n",
       "3. 0.995409632549609\n",
       "4. 0.233354466067628\n",
       "5. 0.0362522632944759\n",
       "6. 0.0489956634128456\n",
       "\n",
       "\n"
      ],
      "text/plain": [
       "[1] 0.23862882 0.99850760 0.99540963 0.23335447 0.03625226 0.04899566"
      ]
     },
     "metadata": {},
     "output_type": "display_data"
    },
    {
     "name": "stdout",
     "output_type": "stream",
     "text": [
      "[1] \"Head of Response Predictions based on model\"\n"
     ]
    },
    {
     "data": {
      "text/html": [
       "<ol class=list-inline>\n",
       "\t<li>0</li>\n",
       "\t<li>1</li>\n",
       "\t<li>1</li>\n",
       "\t<li>0</li>\n",
       "\t<li>0</li>\n",
       "\t<li>0</li>\n",
       "</ol>\n"
      ],
      "text/latex": [
       "\\begin{enumerate*}\n",
       "\\item 0\n",
       "\\item 1\n",
       "\\item 1\n",
       "\\item 0\n",
       "\\item 0\n",
       "\\item 0\n",
       "\\end{enumerate*}\n"
      ],
      "text/markdown": [
       "1. 0\n",
       "2. 1\n",
       "3. 1\n",
       "4. 0\n",
       "5. 0\n",
       "6. 0\n",
       "\n",
       "\n"
      ],
      "text/plain": [
       "[1] 0 1 1 0 0 0"
      ]
     },
     "metadata": {},
     "output_type": "display_data"
    },
    {
     "name": "stdout",
     "output_type": "stream",
     "text": [
      "[1] \"Head of True responses for training set\"\n"
     ]
    },
    {
     "data": {
      "text/html": [
       "<ol class=list-inline>\n",
       "\t<li>0</li>\n",
       "\t<li>1</li>\n",
       "\t<li>1</li>\n",
       "\t<li>0</li>\n",
       "\t<li>0</li>\n",
       "\t<li>0</li>\n",
       "</ol>\n"
      ],
      "text/latex": [
       "\\begin{enumerate*}\n",
       "\\item 0\n",
       "\\item 1\n",
       "\\item 1\n",
       "\\item 0\n",
       "\\item 0\n",
       "\\item 0\n",
       "\\end{enumerate*}\n"
      ],
      "text/markdown": [
       "1. 0\n",
       "2. 1\n",
       "3. 1\n",
       "4. 0\n",
       "5. 0\n",
       "6. 0\n",
       "\n",
       "\n"
      ],
      "text/plain": [
       "[1] 0 1 1 0 0 0"
      ]
     },
     "metadata": {},
     "output_type": "display_data"
    },
    {
     "name": "stdout",
     "output_type": "stream",
     "text": [
      "[1] \"Model accuracy:\"\n"
     ]
    },
    {
     "data": {
      "text/html": [
       "0.861952861952862"
      ],
      "text/latex": [
       "0.861952861952862"
      ],
      "text/markdown": [
       "0.861952861952862"
      ],
      "text/plain": [
       "[1] 0.8619529"
      ]
     },
     "metadata": {},
     "output_type": "display_data"
    },
    {
     "name": "stdout",
     "output_type": "stream",
     "text": [
      "[1] \"Misclassification rate:\"\n"
     ]
    },
    {
     "data": {
      "text/html": [
       "0.138047138047138"
      ],
      "text/latex": [
       "0.138047138047138"
      ],
      "text/markdown": [
       "0.138047138047138"
      ],
      "text/plain": [
       "[1] 0.1380471"
      ]
     },
     "metadata": {},
     "output_type": "display_data"
    }
   ],
   "source": [
    "probabilityPredictions = as.numeric(predict(oneHotFit, combinedOneHotDF, type='response'))\n",
    "\n",
    "print(\"Reminder: 0=Heart Disease Absent; 1=Heart Disease Present\")\n",
    "\"\"\n",
    "\n",
    "print(\"Head of Probability Predictions (%Chance that response was not 0)\")\n",
    "head(probabilityPredictions)\n",
    "\n",
    "binaryResponsePredictions = as.numeric(probabilityPredictions >= .5)\n",
    "\n",
    "print(\"Head of Response Predictions based on model\")\n",
    "head(binaryResponsePredictions)\n",
    "\n",
    "print(\"Head of True responses for training set\")\n",
    "head(combinedOneHotDF$response)\n",
    "\n",
    "stopifnot(length(binaryResponsePredictions) == length(combinedOneHotDF$response))\n",
    "\n",
    "accuracy = sum(binaryResponsePredictions == combinedOneHotDF$response)/length(binaryResponsePredictions)\n",
    "print(\"Model accuracy:\")\n",
    "accuracy\n",
    "\n",
    "print(\"Misclassification rate:\")\n",
    "1-accuracy\n"
   ]
  },
  {
   "cell_type": "code",
   "execution_count": null,
   "metadata": {
    "collapsed": true
   },
   "outputs": [],
   "source": []
  }
 ],
 "metadata": {
  "kernelspec": {
   "display_name": "R",
   "language": "R",
   "name": "ir"
  },
  "language_info": {
   "codemirror_mode": "r",
   "file_extension": ".r",
   "mimetype": "text/x-r-source",
   "name": "R",
   "pygments_lexer": "r",
   "version": "3.3.2"
  }
 },
 "nbformat": 4,
 "nbformat_minor": 2
}
