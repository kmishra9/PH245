{
 "cells": [
  {
   "cell_type": "markdown",
   "metadata": {},
   "source": [
    "# PH 245 Homework 4: Principal Components Analysis and Factor Analysis\n",
    "Kunal Mishra"
   ]
  },
  {
   "cell_type": "markdown",
   "metadata": {},
   "source": [
    "## Problem 1"
   ]
  },
  {
   "cell_type": "code",
   "execution_count": 27,
   "metadata": {
    "scrolled": true
   },
   "outputs": [
    {
     "data": {
      "text/html": [
       "<table>\n",
       "<thead><tr><th scope=col>Country</th><th scope=col>100m</th><th scope=col>200m</th><th scope=col>400m</th><th scope=col>800m</th><th scope=col>1500m</th><th scope=col>3000m</th><th scope=col>Marathon</th></tr></thead>\n",
       "<tbody>\n",
       "\t<tr><td>ARG   </td><td>11.57 </td><td>22.94 </td><td>52.50 </td><td>2.05  </td><td>4.25  </td><td>9.19  </td><td>150.32</td></tr>\n",
       "\t<tr><td>AUS   </td><td>11.12 </td><td>22.23 </td><td>48.63 </td><td>1.98  </td><td>4.02  </td><td>8.63  </td><td>143.51</td></tr>\n",
       "\t<tr><td>AUT   </td><td>11.15 </td><td>22.70 </td><td>50.62 </td><td>1.94  </td><td>4.05  </td><td>8.78  </td><td>154.35</td></tr>\n",
       "\t<tr><td>BEL   </td><td>11.14 </td><td>22.48 </td><td>51.45 </td><td>1.97  </td><td>4.08  </td><td>8.82  </td><td>143.05</td></tr>\n",
       "\t<tr><td>BER   </td><td>11.46 </td><td>23.05 </td><td>53.30 </td><td>2.07  </td><td>4.29  </td><td>9.81  </td><td>174.18</td></tr>\n",
       "\t<tr><td>BRA   </td><td>11.17 </td><td>22.60 </td><td>50.62 </td><td>1.97  </td><td>4.17  </td><td>9.04  </td><td>147.41</td></tr>\n",
       "</tbody>\n",
       "</table>\n"
      ],
      "text/latex": [
       "\\begin{tabular}{r|llllllll}\n",
       " Country & 100m & 200m & 400m & 800m & 1500m & 3000m & Marathon\\\\\n",
       "\\hline\n",
       "\t ARG    & 11.57  & 22.94  & 52.50  & 2.05   & 4.25   & 9.19   & 150.32\\\\\n",
       "\t AUS    & 11.12  & 22.23  & 48.63  & 1.98   & 4.02   & 8.63   & 143.51\\\\\n",
       "\t AUT    & 11.15  & 22.70  & 50.62  & 1.94   & 4.05   & 8.78   & 154.35\\\\\n",
       "\t BEL    & 11.14  & 22.48  & 51.45  & 1.97   & 4.08   & 8.82   & 143.05\\\\\n",
       "\t BER    & 11.46  & 23.05  & 53.30  & 2.07   & 4.29   & 9.81   & 174.18\\\\\n",
       "\t BRA    & 11.17  & 22.60  & 50.62  & 1.97   & 4.17   & 9.04   & 147.41\\\\\n",
       "\\end{tabular}\n"
      ],
      "text/markdown": [
       "\n",
       "Country | 100m | 200m | 400m | 800m | 1500m | 3000m | Marathon | \n",
       "|---|---|---|---|---|---|\n",
       "| ARG    | 11.57  | 22.94  | 52.50  | 2.05   | 4.25   | 9.19   | 150.32 | \n",
       "| AUS    | 11.12  | 22.23  | 48.63  | 1.98   | 4.02   | 8.63   | 143.51 | \n",
       "| AUT    | 11.15  | 22.70  | 50.62  | 1.94   | 4.05   | 8.78   | 154.35 | \n",
       "| BEL    | 11.14  | 22.48  | 51.45  | 1.97   | 4.08   | 8.82   | 143.05 | \n",
       "| BER    | 11.46  | 23.05  | 53.30  | 2.07   | 4.29   | 9.81   | 174.18 | \n",
       "| BRA    | 11.17  | 22.60  | 50.62  | 1.97   | 4.17   | 9.04   | 147.41 | \n",
       "\n",
       "\n"
      ],
      "text/plain": [
       "  Country 100m  200m  400m  800m 1500m 3000m Marathon\n",
       "1 ARG     11.57 22.94 52.50 2.05 4.25  9.19  150.32  \n",
       "2 AUS     11.12 22.23 48.63 1.98 4.02  8.63  143.51  \n",
       "3 AUT     11.15 22.70 50.62 1.94 4.05  8.78  154.35  \n",
       "4 BEL     11.14 22.48 51.45 1.97 4.08  8.82  143.05  \n",
       "5 BER     11.46 23.05 53.30 2.07 4.29  9.81  174.18  \n",
       "6 BRA     11.17 22.60 50.62 1.97 4.17  9.04  147.41  "
      ]
     },
     "metadata": {},
     "output_type": "display_data"
    },
    {
     "data": {
      "text/html": [
       "<table>\n",
       "<thead><tr><th scope=col>Country</th><th scope=col>100m</th><th scope=col>200m</th><th scope=col>400m</th><th scope=col>800m</th><th scope=col>1500m</th><th scope=col>5000m</th><th scope=col>10000m</th><th scope=col>Marathon</th></tr></thead>\n",
       "<tbody>\n",
       "\t<tr><td>Argentina</td><td>10.23    </td><td>20.37    </td><td>46.18    </td><td>1.77     </td><td>3.68     </td><td>13.33    </td><td>27.65    </td><td>129.57   </td></tr>\n",
       "\t<tr><td>Australia</td><td> 9.93    </td><td>20.06    </td><td>44.38    </td><td>1.74     </td><td>3.53     </td><td>12.93    </td><td>27.53    </td><td>127.51   </td></tr>\n",
       "\t<tr><td>Austria  </td><td>10.15    </td><td>20.45    </td><td>45.80    </td><td>1.77     </td><td>3.58     </td><td>13.26    </td><td>27.72    </td><td>132.22   </td></tr>\n",
       "\t<tr><td>Belgium  </td><td>10.14    </td><td>20.19    </td><td>45.02    </td><td>1.73     </td><td>3.57     </td><td>12.83    </td><td>26.87    </td><td>127.20   </td></tr>\n",
       "\t<tr><td>Bermuda  </td><td>10.27    </td><td>20.30    </td><td>45.26    </td><td>1.79     </td><td>3.70     </td><td>14.64    </td><td>30.49    </td><td>146.37   </td></tr>\n",
       "\t<tr><td>Brazil   </td><td>10.00    </td><td>19.89    </td><td>44.29    </td><td>1.70     </td><td>3.57     </td><td>13.48    </td><td>28.13    </td><td>126.05   </td></tr>\n",
       "</tbody>\n",
       "</table>\n"
      ],
      "text/latex": [
       "\\begin{tabular}{r|lllllllll}\n",
       " Country & 100m & 200m & 400m & 800m & 1500m & 5000m & 10000m & Marathon\\\\\n",
       "\\hline\n",
       "\t Argentina & 10.23     & 20.37     & 46.18     & 1.77      & 3.68      & 13.33     & 27.65     & 129.57   \\\\\n",
       "\t Australia &  9.93     & 20.06     & 44.38     & 1.74      & 3.53      & 12.93     & 27.53     & 127.51   \\\\\n",
       "\t Austria   & 10.15     & 20.45     & 45.80     & 1.77      & 3.58      & 13.26     & 27.72     & 132.22   \\\\\n",
       "\t Belgium   & 10.14     & 20.19     & 45.02     & 1.73      & 3.57      & 12.83     & 26.87     & 127.20   \\\\\n",
       "\t Bermuda   & 10.27     & 20.30     & 45.26     & 1.79      & 3.70      & 14.64     & 30.49     & 146.37   \\\\\n",
       "\t Brazil    & 10.00     & 19.89     & 44.29     & 1.70      & 3.57      & 13.48     & 28.13     & 126.05   \\\\\n",
       "\\end{tabular}\n"
      ],
      "text/markdown": [
       "\n",
       "Country | 100m | 200m | 400m | 800m | 1500m | 5000m | 10000m | Marathon | \n",
       "|---|---|---|---|---|---|\n",
       "| Argentina | 10.23     | 20.37     | 46.18     | 1.77      | 3.68      | 13.33     | 27.65     | 129.57    | \n",
       "| Australia |  9.93     | 20.06     | 44.38     | 1.74      | 3.53      | 12.93     | 27.53     | 127.51    | \n",
       "| Austria   | 10.15     | 20.45     | 45.80     | 1.77      | 3.58      | 13.26     | 27.72     | 132.22    | \n",
       "| Belgium   | 10.14     | 20.19     | 45.02     | 1.73      | 3.57      | 12.83     | 26.87     | 127.20    | \n",
       "| Bermuda   | 10.27     | 20.30     | 45.26     | 1.79      | 3.70      | 14.64     | 30.49     | 146.37    | \n",
       "| Brazil    | 10.00     | 19.89     | 44.29     | 1.70      | 3.57      | 13.48     | 28.13     | 126.05    | \n",
       "\n",
       "\n"
      ],
      "text/plain": [
       "  Country   100m  200m  400m  800m 1500m 5000m 10000m Marathon\n",
       "1 Argentina 10.23 20.37 46.18 1.77 3.68  13.33 27.65  129.57  \n",
       "2 Australia  9.93 20.06 44.38 1.74 3.53  12.93 27.53  127.51  \n",
       "3 Austria   10.15 20.45 45.80 1.77 3.58  13.26 27.72  132.22  \n",
       "4 Belgium   10.14 20.19 45.02 1.73 3.57  12.83 26.87  127.20  \n",
       "5 Bermuda   10.27 20.30 45.26 1.79 3.70  14.64 30.49  146.37  \n",
       "6 Brazil    10.00 19.89 44.29 1.70 3.57  13.48 28.13  126.05  "
      ]
     },
     "metadata": {},
     "output_type": "display_data"
    }
   ],
   "source": [
    "# Loading Data \n",
    "\n",
    "women = read.table(file=\"Data-HW4-track-women.dat\", header=FALSE, quote=\"\", sep=\"\\t\")\n",
    "men   = read.table(file=\"Data-HW4-track-men.dat\", header=FALSE, quote=\"\", sep=\"\")\n",
    "\n",
    "colnames(women) = c(\"Country\", \"100m\", \"200m\", \"400m\", \"800m\", \"1500m\", \"3000m\", \"Marathon\")\n",
    "colnames(men)   = c(\"Country\", \"100m\", \"200m\", \"400m\", \"800m\", \"1500m\", \"5000m\", \"10000m\", \"Marathon\")\n",
    "\n",
    "# Displaying Data\n",
    "head(women)\n",
    "head(men)"
   ]
  },
  {
   "cell_type": "markdown",
   "metadata": {},
   "source": [
    "#### Problem 1A"
   ]
  },
  {
   "cell_type": "code",
   "execution_count": 158,
   "metadata": {},
   "outputs": [
    {
     "data": {
      "text/html": [
       "<table>\n",
       "<thead><tr><th></th><th scope=col>100m</th><th scope=col>200m</th><th scope=col>400m</th><th scope=col>800m</th><th scope=col>1500m</th><th scope=col>3000m</th><th scope=col>Marathon</th></tr></thead>\n",
       "<tbody>\n",
       "\t<tr><th scope=row>100m</th><td>1.0000000</td><td>0.9410886</td><td>0.8707802</td><td>0.8091758</td><td>0.7815510</td><td>0.7278784</td><td>0.6689597</td></tr>\n",
       "\t<tr><th scope=row>200m</th><td>0.9410886</td><td>1.0000000</td><td>0.9088096</td><td>0.8198258</td><td>0.8013282</td><td>0.7318546</td><td>0.6799537</td></tr>\n",
       "\t<tr><th scope=row>400m</th><td>0.8707802</td><td>0.9088096</td><td>1.0000000</td><td>0.8057904</td><td>0.7197996</td><td>0.6737991</td><td>0.6769384</td></tr>\n",
       "\t<tr><th scope=row>800m</th><td>0.8091758</td><td>0.8198258</td><td>0.8057904</td><td>1.0000000</td><td>0.9050509</td><td>0.8665732</td><td>0.8539900</td></tr>\n",
       "\t<tr><th scope=row>1500m</th><td>0.7815510</td><td>0.8013282</td><td>0.7197996</td><td>0.9050509</td><td>1.0000000</td><td>0.9733801</td><td>0.7905565</td></tr>\n",
       "\t<tr><th scope=row>3000m</th><td>0.7278784</td><td>0.7318546</td><td>0.6737991</td><td>0.8665732</td><td>0.9733801</td><td>1.0000000</td><td>0.7987302</td></tr>\n",
       "\t<tr><th scope=row>Marathon</th><td>0.6689597</td><td>0.6799537</td><td>0.6769384</td><td>0.8539900</td><td>0.7905565</td><td>0.7987302</td><td>1.0000000</td></tr>\n",
       "</tbody>\n",
       "</table>\n"
      ],
      "text/latex": [
       "\\begin{tabular}{r|lllllll}\n",
       "  & 100m & 200m & 400m & 800m & 1500m & 3000m & Marathon\\\\\n",
       "\\hline\n",
       "\t100m & 1.0000000 & 0.9410886 & 0.8707802 & 0.8091758 & 0.7815510 & 0.7278784 & 0.6689597\\\\\n",
       "\t200m & 0.9410886 & 1.0000000 & 0.9088096 & 0.8198258 & 0.8013282 & 0.7318546 & 0.6799537\\\\\n",
       "\t400m & 0.8707802 & 0.9088096 & 1.0000000 & 0.8057904 & 0.7197996 & 0.6737991 & 0.6769384\\\\\n",
       "\t800m & 0.8091758 & 0.8198258 & 0.8057904 & 1.0000000 & 0.9050509 & 0.8665732 & 0.8539900\\\\\n",
       "\t1500m & 0.7815510 & 0.8013282 & 0.7197996 & 0.9050509 & 1.0000000 & 0.9733801 & 0.7905565\\\\\n",
       "\t3000m & 0.7278784 & 0.7318546 & 0.6737991 & 0.8665732 & 0.9733801 & 1.0000000 & 0.7987302\\\\\n",
       "\tMarathon & 0.6689597 & 0.6799537 & 0.6769384 & 0.8539900 & 0.7905565 & 0.7987302 & 1.0000000\\\\\n",
       "\\end{tabular}\n"
      ],
      "text/markdown": [
       "\n",
       "| <!--/--> | 100m | 200m | 400m | 800m | 1500m | 3000m | Marathon | \n",
       "|---|---|---|---|---|---|---|\n",
       "| 100m | 1.0000000 | 0.9410886 | 0.8707802 | 0.8091758 | 0.7815510 | 0.7278784 | 0.6689597 | \n",
       "| 200m | 0.9410886 | 1.0000000 | 0.9088096 | 0.8198258 | 0.8013282 | 0.7318546 | 0.6799537 | \n",
       "| 400m | 0.8707802 | 0.9088096 | 1.0000000 | 0.8057904 | 0.7197996 | 0.6737991 | 0.6769384 | \n",
       "| 800m | 0.8091758 | 0.8198258 | 0.8057904 | 1.0000000 | 0.9050509 | 0.8665732 | 0.8539900 | \n",
       "| 1500m | 0.7815510 | 0.8013282 | 0.7197996 | 0.9050509 | 1.0000000 | 0.9733801 | 0.7905565 | \n",
       "| 3000m | 0.7278784 | 0.7318546 | 0.6737991 | 0.8665732 | 0.9733801 | 1.0000000 | 0.7987302 | \n",
       "| Marathon | 0.6689597 | 0.6799537 | 0.6769384 | 0.8539900 | 0.7905565 | 0.7987302 | 1.0000000 | \n",
       "\n",
       "\n"
      ],
      "text/plain": [
       "         100m      200m      400m      800m      1500m     3000m     Marathon \n",
       "100m     1.0000000 0.9410886 0.8707802 0.8091758 0.7815510 0.7278784 0.6689597\n",
       "200m     0.9410886 1.0000000 0.9088096 0.8198258 0.8013282 0.7318546 0.6799537\n",
       "400m     0.8707802 0.9088096 1.0000000 0.8057904 0.7197996 0.6737991 0.6769384\n",
       "800m     0.8091758 0.8198258 0.8057904 1.0000000 0.9050509 0.8665732 0.8539900\n",
       "1500m    0.7815510 0.8013282 0.7197996 0.9050509 1.0000000 0.9733801 0.7905565\n",
       "3000m    0.7278784 0.7318546 0.6737991 0.8665732 0.9733801 1.0000000 0.7987302\n",
       "Marathon 0.6689597 0.6799537 0.6769384 0.8539900 0.7905565 0.7987302 1.0000000"
      ]
     },
     "metadata": {},
     "output_type": "display_data"
    }
   ],
   "source": [
    "# Standardizing and Centering data\n",
    "center      = function(lst) {lst - mean(lst)}\n",
    "standardize = function(lst) {center(lst) / sd(lst)}\n",
    "\n",
    "standardizedWomen = apply(women[,-1], 2, standardize)\n",
    "standardizedMen   = apply(men[,-1], 2, standardize)\n",
    "\n",
    "# Finding the correlations among all variables\n",
    "sampleCorrelationMatrix = cor(women[,-1])\n",
    "sampleCorrelationMatrix"
   ]
  },
  {
   "cell_type": "code",
   "execution_count": 159,
   "metadata": {},
   "outputs": [
    {
     "data": {
      "text/html": [
       "<dl>\n",
       "\t<dt>$values</dt>\n",
       "\t\t<dd><ol class=list-inline>\n",
       "\t<li>5.80762446399961</li>\n",
       "\t<li>0.628693422921518</li>\n",
       "\t<li>0.279334571750058</li>\n",
       "\t<li>0.124554715461547</li>\n",
       "\t<li>0.0909717393558767</li>\n",
       "\t<li>0.0545188221667183</li>\n",
       "\t<li>0.014302264344661</li>\n",
       "</ol>\n",
       "</dd>\n",
       "\t<dt>$vectors</dt>\n",
       "\t\t<dd><table>\n",
       "<tbody>\n",
       "\t<tr><td>-0.3777657 </td><td>-0.4071756 </td><td>-0.1405803 </td><td> 0.58706293</td><td>-0.16706891</td><td>-0.53969730</td><td> 0.08893934</td></tr>\n",
       "\t<tr><td>-0.3832103 </td><td>-0.4136291 </td><td>-0.1007833 </td><td> 0.19407501</td><td> 0.09350016</td><td> 0.74493139</td><td>-0.26565662</td></tr>\n",
       "\t<tr><td>-0.3680361 </td><td>-0.4593531 </td><td> 0.2370255 </td><td>-0.64543118</td><td> 0.32727328</td><td>-0.24009405</td><td> 0.12660435</td></tr>\n",
       "\t<tr><td>-0.3947810 </td><td> 0.1612459 </td><td> 0.1475424 </td><td>-0.29520804</td><td>-0.81905467</td><td> 0.01650651</td><td>-0.19521315</td></tr>\n",
       "\t<tr><td>-0.3892610 </td><td> 0.3090877 </td><td>-0.4219855 </td><td>-0.06669044</td><td> 0.02613100</td><td> 0.18898771</td><td> 0.73076817</td></tr>\n",
       "\t<tr><td>-0.3760945 </td><td> 0.4231899 </td><td>-0.4060627 </td><td>-0.08015699</td><td> 0.35169796</td><td>-0.24049968</td><td>-0.57150644</td></tr>\n",
       "\t<tr><td>-0.3552031 </td><td> 0.3892153 </td><td> 0.7410610 </td><td> 0.32107640</td><td> 0.24700821</td><td> 0.04826992</td><td> 0.08208401</td></tr>\n",
       "</tbody>\n",
       "</table>\n",
       "</dd>\n",
       "</dl>\n"
      ],
      "text/latex": [
       "\\begin{description}\n",
       "\\item[\\$values] \\begin{enumerate*}\n",
       "\\item 5.80762446399961\n",
       "\\item 0.628693422921518\n",
       "\\item 0.279334571750058\n",
       "\\item 0.124554715461547\n",
       "\\item 0.0909717393558767\n",
       "\\item 0.0545188221667183\n",
       "\\item 0.014302264344661\n",
       "\\end{enumerate*}\n",
       "\n",
       "\\item[\\$vectors] \\begin{tabular}{lllllll}\n",
       "\t -0.3777657  & -0.4071756  & -0.1405803  &  0.58706293 & -0.16706891 & -0.53969730 &  0.08893934\\\\\n",
       "\t -0.3832103  & -0.4136291  & -0.1007833  &  0.19407501 &  0.09350016 &  0.74493139 & -0.26565662\\\\\n",
       "\t -0.3680361  & -0.4593531  &  0.2370255  & -0.64543118 &  0.32727328 & -0.24009405 &  0.12660435\\\\\n",
       "\t -0.3947810  &  0.1612459  &  0.1475424  & -0.29520804 & -0.81905467 &  0.01650651 & -0.19521315\\\\\n",
       "\t -0.3892610  &  0.3090877  & -0.4219855  & -0.06669044 &  0.02613100 &  0.18898771 &  0.73076817\\\\\n",
       "\t -0.3760945  &  0.4231899  & -0.4060627  & -0.08015699 &  0.35169796 & -0.24049968 & -0.57150644\\\\\n",
       "\t -0.3552031  &  0.3892153  &  0.7410610  &  0.32107640 &  0.24700821 &  0.04826992 &  0.08208401\\\\\n",
       "\\end{tabular}\n",
       "\n",
       "\\end{description}\n"
      ],
      "text/markdown": [
       "$values\n",
       ":   1. 5.80762446399961\n",
       "2. 0.628693422921518\n",
       "3. 0.279334571750058\n",
       "4. 0.124554715461547\n",
       "5. 0.0909717393558767\n",
       "6. 0.0545188221667183\n",
       "7. 0.014302264344661\n",
       "\n",
       "\n",
       "\n",
       "$vectors\n",
       ":   \n",
       "| -0.3777657  | -0.4071756  | -0.1405803  |  0.58706293 | -0.16706891 | -0.53969730 |  0.08893934 | \n",
       "| -0.3832103  | -0.4136291  | -0.1007833  |  0.19407501 |  0.09350016 |  0.74493139 | -0.26565662 | \n",
       "| -0.3680361  | -0.4593531  |  0.2370255  | -0.64543118 |  0.32727328 | -0.24009405 |  0.12660435 | \n",
       "| -0.3947810  |  0.1612459  |  0.1475424  | -0.29520804 | -0.81905467 |  0.01650651 | -0.19521315 | \n",
       "| -0.3892610  |  0.3090877  | -0.4219855  | -0.06669044 |  0.02613100 |  0.18898771 |  0.73076817 | \n",
       "| -0.3760945  |  0.4231899  | -0.4060627  | -0.08015699 |  0.35169796 | -0.24049968 | -0.57150644 | \n",
       "| -0.3552031  |  0.3892153  |  0.7410610  |  0.32107640 |  0.24700821 |  0.04826992 |  0.08208401 | \n",
       "\n",
       "\n",
       "\n",
       "\n",
       "\n"
      ],
      "text/plain": [
       "$values\n",
       "[1] 5.80762446 0.62869342 0.27933457 0.12455472 0.09097174 0.05451882 0.01430226\n",
       "\n",
       "$vectors\n",
       "           [,1]       [,2]       [,3]        [,4]        [,5]        [,6]\n",
       "[1,] -0.3777657 -0.4071756 -0.1405803  0.58706293 -0.16706891 -0.53969730\n",
       "[2,] -0.3832103 -0.4136291 -0.1007833  0.19407501  0.09350016  0.74493139\n",
       "[3,] -0.3680361 -0.4593531  0.2370255 -0.64543118  0.32727328 -0.24009405\n",
       "[4,] -0.3947810  0.1612459  0.1475424 -0.29520804 -0.81905467  0.01650651\n",
       "[5,] -0.3892610  0.3090877 -0.4219855 -0.06669044  0.02613100  0.18898771\n",
       "[6,] -0.3760945  0.4231899 -0.4060627 -0.08015699  0.35169796 -0.24049968\n",
       "[7,] -0.3552031  0.3892153  0.7410610  0.32107640  0.24700821  0.04826992\n",
       "            [,7]\n",
       "[1,]  0.08893934\n",
       "[2,] -0.26565662\n",
       "[3,]  0.12660435\n",
       "[4,] -0.19521315\n",
       "[5,]  0.73076817\n",
       "[6,] -0.57150644\n",
       "[7,]  0.08208401\n"
      ]
     },
     "metadata": {},
     "output_type": "display_data"
    }
   ],
   "source": [
    "# Finding the eigenvalues and vectors of the correlation matrix \n",
    "\n",
    "sampleEig = eigen(sampleCorrelationMatrix)\n",
    "sampleEig"
   ]
  },
  {
   "cell_type": "markdown",
   "metadata": {},
   "source": [
    "#### Problem 1B"
   ]
  },
  {
   "cell_type": "code",
   "execution_count": 160,
   "metadata": {},
   "outputs": [
    {
     "data": {
      "text/html": [
       "<table>\n",
       "<tbody>\n",
       "\t<tr><th scope=row>100m</th><td>-0.3777657</td><td>-0.4071756</td></tr>\n",
       "\t<tr><th scope=row>200m</th><td>-0.3832103</td><td>-0.4136291</td></tr>\n",
       "\t<tr><th scope=row>400m</th><td>-0.3680361</td><td>-0.4593531</td></tr>\n",
       "\t<tr><th scope=row>800m</th><td>-0.3947810</td><td> 0.1612459</td></tr>\n",
       "\t<tr><th scope=row>1500m</th><td>-0.3892610</td><td> 0.3090877</td></tr>\n",
       "\t<tr><th scope=row>3000m</th><td>-0.3760945</td><td> 0.4231899</td></tr>\n",
       "\t<tr><th scope=row>Marathon</th><td>-0.3552031</td><td> 0.3892153</td></tr>\n",
       "</tbody>\n",
       "</table>\n"
      ],
      "text/latex": [
       "\\begin{tabular}{r|ll}\n",
       "\t100m & -0.3777657 & -0.4071756\\\\\n",
       "\t200m & -0.3832103 & -0.4136291\\\\\n",
       "\t400m & -0.3680361 & -0.4593531\\\\\n",
       "\t800m & -0.3947810 &  0.1612459\\\\\n",
       "\t1500m & -0.3892610 &  0.3090877\\\\\n",
       "\t3000m & -0.3760945 &  0.4231899\\\\\n",
       "\tMarathon & -0.3552031 &  0.3892153\\\\\n",
       "\\end{tabular}\n"
      ],
      "text/markdown": [
       "\n",
       "| 100m | -0.3777657 | -0.4071756 | \n",
       "| 200m | -0.3832103 | -0.4136291 | \n",
       "| 400m | -0.3680361 | -0.4593531 | \n",
       "| 800m | -0.3947810 |  0.1612459 | \n",
       "| 1500m | -0.3892610 |  0.3090877 | \n",
       "| 3000m | -0.3760945 |  0.4231899 | \n",
       "| Marathon | -0.3552031 |  0.3892153 | \n",
       "\n",
       "\n"
      ],
      "text/plain": [
       "         [,1]       [,2]      \n",
       "100m     -0.3777657 -0.4071756\n",
       "200m     -0.3832103 -0.4136291\n",
       "400m     -0.3680361 -0.4593531\n",
       "800m     -0.3947810  0.1612459\n",
       "1500m    -0.3892610  0.3090877\n",
       "3000m    -0.3760945  0.4231899\n",
       "Marathon -0.3552031  0.3892153"
      ]
     },
     "metadata": {},
     "output_type": "display_data"
    }
   ],
   "source": [
    "# The first two eigenvalues are the largest and thus represent the\n",
    "# greatest proportion of the total variance of any two eigenvalues\n",
    "\n",
    "firstTwoPrincipalComponents = sampleEig$vectors[,1:2]\n",
    "rownames(firstTwoPrincipalComponents) = colnames(standardizedWomen)\n",
    "firstTwoPrincipalComponents"
   ]
  },
  {
   "cell_type": "code",
   "execution_count": 161,
   "metadata": {},
   "outputs": [
    {
     "data": {
      "text/html": [
       "0.919473983845877"
      ],
      "text/latex": [
       "0.919473983845877"
      ],
      "text/markdown": [
       "0.919473983845877"
      ],
      "text/plain": [
       "[1] 0.919474"
      ]
     },
     "metadata": {},
     "output_type": "display_data"
    }
   ],
   "source": [
    "proportionOfTotalVariance = {\n",
    "    sum(sampleEig$values[1:2]) / sum(sampleEig$values)\n",
    "}\n",
    "proportionOfTotalVariance"
   ]
  },
  {
   "cell_type": "markdown",
   "metadata": {},
   "source": [
    "#### Problem 1C"
   ]
  },
  {
   "cell_type": "code",
   "execution_count": 162,
   "metadata": {},
   "outputs": [
    {
     "data": {
      "text/html": [
       "<table>\n",
       "<thead><tr><th></th><th scope=col>Comp.1</th><th scope=col>Comp.2</th></tr></thead>\n",
       "<tbody>\n",
       "\t<tr><th scope=row>100m</th><td>-0.6776554 </td><td>-0.58409087</td></tr>\n",
       "\t<tr><th scope=row>200m</th><td>-0.6892444 </td><td>-0.62645840</td></tr>\n",
       "\t<tr><th scope=row>400m</th><td>-0.6874604 </td><td>-0.72416308</td></tr>\n",
       "\t<tr><th scope=row>800m</th><td>-0.8587726 </td><td>-0.30930106</td></tr>\n",
       "\t<tr><th scope=row>1500m</th><td>-0.7950136 </td><td>-0.26725024</td></tr>\n",
       "\t<tr><th scope=row>3000m</th><td>-0.8021609 </td><td>-0.19347819</td></tr>\n",
       "\t<tr><th scope=row>Marathon</th><td>-0.9998947 </td><td> 0.01448035</td></tr>\n",
       "</tbody>\n",
       "</table>\n"
      ],
      "text/latex": [
       "\\begin{tabular}{r|ll}\n",
       "  & Comp.1 & Comp.2\\\\\n",
       "\\hline\n",
       "\t100m & -0.6776554  & -0.58409087\\\\\n",
       "\t200m & -0.6892444  & -0.62645840\\\\\n",
       "\t400m & -0.6874604  & -0.72416308\\\\\n",
       "\t800m & -0.8587726  & -0.30930106\\\\\n",
       "\t1500m & -0.7950136  & -0.26725024\\\\\n",
       "\t3000m & -0.8021609  & -0.19347819\\\\\n",
       "\tMarathon & -0.9998947  &  0.01448035\\\\\n",
       "\\end{tabular}\n"
      ],
      "text/markdown": [
       "\n",
       "| <!--/--> | Comp.1 | Comp.2 | \n",
       "|---|---|---|---|---|---|---|\n",
       "| 100m | -0.6776554  | -0.58409087 | \n",
       "| 200m | -0.6892444  | -0.62645840 | \n",
       "| 400m | -0.6874604  | -0.72416308 | \n",
       "| 800m | -0.8587726  | -0.30930106 | \n",
       "| 1500m | -0.7950136  | -0.26725024 | \n",
       "| 3000m | -0.8021609  | -0.19347819 | \n",
       "| Marathon | -0.9998947  |  0.01448035 | \n",
       "\n",
       "\n"
      ],
      "text/plain": [
       "         Comp.1     Comp.2     \n",
       "100m     -0.6776554 -0.58409087\n",
       "200m     -0.6892444 -0.62645840\n",
       "400m     -0.6874604 -0.72416308\n",
       "800m     -0.8587726 -0.30930106\n",
       "1500m    -0.7950136 -0.26725024\n",
       "3000m    -0.8021609 -0.19347819\n",
       "Marathon -0.9998947  0.01448035"
      ]
     },
     "metadata": {},
     "output_type": "display_data"
    }
   ],
   "source": [
    "# Interpreting the two principal components\n",
    "\n",
    "# Examining the correlation between the original variables and PCs \n",
    "cor(x=standardizedWomen, y=pcaFit$scores)[,1:2]"
   ]
  },
  {
   "cell_type": "markdown",
   "metadata": {},
   "source": [
    "In examining the results of the correlations between each Principal Component and the original variables, it's clear that PC1 correlates strongly with and thus likely *relies* on the Marathon variable. If Marathon time increases, it is likely that the times for the other race distances also increases. \n",
    "\n",
    "In PC2, as expected, Marathon lacks almost any correlation at all. This makes sense because our principal components are orthagonal, so things that are highly correlated with one should (in theory) be similarly uncorrelated with the other principal components. With PC2, the strongest correlation is from the 400m race and this fulfills much of the same role as Marathon in PC1 -- as the 400m time increases, other variables correlated with PC2 are also likely to varying degrees to increase, based on the strength of that correlation.\n",
    "\n",
    "When we look at pcaFit's loadings many of these suspicions are confirmed. In R, 'loadings' are different from 'correlational loadings' (check out this link if you're interested: https://stats.stackexchange.com/questions/104306/what-is-the-difference-between-loadings-and-correlation-loadings-in-pca-and), which is why pcaFit's loadings don't necessarily represent the correlations between principal components and original variables"
   ]
  },
  {
   "cell_type": "code",
   "execution_count": 163,
   "metadata": {},
   "outputs": [
    {
     "data": {
      "text/plain": [
       "\n",
       "Loadings:\n",
       "         Comp.1 Comp.2 Comp.3 Comp.4 Comp.5 Comp.6 Comp.7\n",
       "100m            -0.115 -0.173  0.292  0.933              \n",
       "200m            -0.290 -0.387  0.795 -0.354              \n",
       "400m     -0.108 -0.938  0.226 -0.238                     \n",
       "800m                                         0.377 -0.925\n",
       "1500m                  -0.268                0.883  0.370\n",
       "3000m                  -0.834 -0.471        -0.265       \n",
       "Marathon -0.992  0.119                                   \n",
       "\n",
       "               Comp.1 Comp.2 Comp.3 Comp.4 Comp.5 Comp.6 Comp.7\n",
       "SS loadings     1.000  1.000  1.000  1.000  1.000  1.000  1.000\n",
       "Proportion Var  0.143  0.143  0.143  0.143  0.143  0.143  0.143\n",
       "Cumulative Var  0.143  0.286  0.429  0.571  0.714  0.857  1.000"
      ]
     },
     "metadata": {},
     "output_type": "display_data"
    }
   ],
   "source": [
    "pcaFit$loadings"
   ]
  },
  {
   "cell_type": "markdown",
   "metadata": {},
   "source": [
    "#### Problem 1D"
   ]
  },
  {
   "cell_type": "code",
   "execution_count": 166,
   "metadata": {},
   "outputs": [
    {
     "data": {
      "text/html": [
       "<table>\n",
       "<thead><tr><th scope=col>Country</th><th scope=col>Comp.1</th><th scope=col>Comp.2</th><th scope=col>Comp.3</th><th scope=col>Comp.4</th><th scope=col>Comp.5</th><th scope=col>Comp.6</th><th scope=col>Comp.7</th></tr></thead>\n",
       "<tbody>\n",
       "\t<tr><td>ARG          </td><td>  3.2173904  </td><td>-0.8550659   </td><td>-0.06070576  </td><td>-0.28983107  </td><td> 0.25592070  </td><td> 0.059231461 </td><td> 0.0005619794</td></tr>\n",
       "\t<tr><td>AUS          </td><td> 10.4529924  </td><td> 2.2790525   </td><td>-0.25585771  </td><td> 0.14908698  </td><td> 0.11270809  </td><td> 0.009042302 </td><td>-0.0240115435</td></tr>\n",
       "\t<tr><td>AUT          </td><td> -0.5440192  </td><td> 1.5468370   </td><td> 0.20234078  </td><td> 0.09185523  </td><td>-0.03281219  </td><td>-0.052436540 </td><td> 0.0385870352</td></tr>\n",
       "\t<tr><td>BEL          </td><td> 10.5872958  </td><td>-0.5138938   </td><td> 0.09198800  </td><td>-0.41590033  </td><td> 0.03304306  </td><td> 0.003534003 </td><td> 0.0150943480</td></tr>\n",
       "\t<tr><td>BER          </td><td>-20.5753000  </td><td> 1.1584461   </td><td> 0.28974010  </td><td>-0.48505882  </td><td> 0.10460656  </td><td>-0.082132802 </td><td>-0.0062352914</td></tr>\n",
       "\t<tr><td>BRA          </td><td>  6.3348740  </td><td> 0.7240189   </td><td>-0.22250549  </td><td>-0.18099578  </td><td> 0.01147622  </td><td> 0.008477327 </td><td> 0.0294356049</td></tr>\n",
       "</tbody>\n",
       "</table>\n"
      ],
      "text/latex": [
       "\\begin{tabular}{r|llllllll}\n",
       " Country & Comp.1 & Comp.2 & Comp.3 & Comp.4 & Comp.5 & Comp.6 & Comp.7\\\\\n",
       "\\hline\n",
       "\t ARG           &   3.2173904   & -0.8550659    & -0.06070576   & -0.28983107   &  0.25592070   &  0.059231461  &  0.0005619794\\\\\n",
       "\t AUS           &  10.4529924   &  2.2790525    & -0.25585771   &  0.14908698   &  0.11270809   &  0.009042302  & -0.0240115435\\\\\n",
       "\t AUT           &  -0.5440192   &  1.5468370    &  0.20234078   &  0.09185523   & -0.03281219   & -0.052436540  &  0.0385870352\\\\\n",
       "\t BEL           &  10.5872958   & -0.5138938    &  0.09198800   & -0.41590033   &  0.03304306   &  0.003534003  &  0.0150943480\\\\\n",
       "\t BER           & -20.5753000   &  1.1584461    &  0.28974010   & -0.48505882   &  0.10460656   & -0.082132802  & -0.0062352914\\\\\n",
       "\t BRA           &   6.3348740   &  0.7240189    & -0.22250549   & -0.18099578   &  0.01147622   &  0.008477327  &  0.0294356049\\\\\n",
       "\\end{tabular}\n"
      ],
      "text/markdown": [
       "\n",
       "Country | Comp.1 | Comp.2 | Comp.3 | Comp.4 | Comp.5 | Comp.6 | Comp.7 | \n",
       "|---|---|---|---|---|---|\n",
       "| ARG           |   3.2173904   | -0.8550659    | -0.06070576   | -0.28983107   |  0.25592070   |  0.059231461  |  0.0005619794 | \n",
       "| AUS           |  10.4529924   |  2.2790525    | -0.25585771   |  0.14908698   |  0.11270809   |  0.009042302  | -0.0240115435 | \n",
       "| AUT           |  -0.5440192   |  1.5468370    |  0.20234078   |  0.09185523   | -0.03281219   | -0.052436540  |  0.0385870352 | \n",
       "| BEL           |  10.5872958   | -0.5138938    |  0.09198800   | -0.41590033   |  0.03304306   |  0.003534003  |  0.0150943480 | \n",
       "| BER           | -20.5753000   |  1.1584461    |  0.28974010   | -0.48505882   |  0.10460656   | -0.082132802  | -0.0062352914 | \n",
       "| BRA           |   6.3348740   |  0.7240189    | -0.22250549   | -0.18099578   |  0.01147622   |  0.008477327  |  0.0294356049 | \n",
       "\n",
       "\n"
      ],
      "text/plain": [
       "  Country Comp.1      Comp.2     Comp.3      Comp.4      Comp.5     \n",
       "1 ARG       3.2173904 -0.8550659 -0.06070576 -0.28983107  0.25592070\n",
       "2 AUS      10.4529924  2.2790525 -0.25585771  0.14908698  0.11270809\n",
       "3 AUT      -0.5440192  1.5468370  0.20234078  0.09185523 -0.03281219\n",
       "4 BEL      10.5872958 -0.5138938  0.09198800 -0.41590033  0.03304306\n",
       "5 BER     -20.5753000  1.1584461  0.28974010 -0.48505882  0.10460656\n",
       "6 BRA       6.3348740  0.7240189 -0.22250549 -0.18099578  0.01147622\n",
       "  Comp.6       Comp.7       \n",
       "1  0.059231461  0.0005619794\n",
       "2  0.009042302 -0.0240115435\n",
       "3 -0.052436540  0.0385870352\n",
       "4  0.003534003  0.0150943480\n",
       "5 -0.082132802 -0.0062352914\n",
       "6  0.008477327  0.0294356049"
      ]
     },
     "metadata": {},
     "output_type": "display_data"
    }
   ],
   "source": [
    "# Adding country names back to scores\n",
    "\n",
    "PCWomen = cbind(women[,1], as.data.frame(pcaFit$scores))\n",
    "colnames(PCWomen)[1] = \"Country\"\n",
    "head(PCWomen)"
   ]
  },
  {
   "cell_type": "code",
   "execution_count": 177,
   "metadata": {},
   "outputs": [
    {
     "data": {
      "text/html": [
       "<table>\n",
       "<thead><tr><th scope=col>Country</th><th scope=col>Comp.1</th></tr></thead>\n",
       "<tbody>\n",
       "\t<tr><td>ARG        </td><td>  3.2173904</td></tr>\n",
       "\t<tr><td>AUS        </td><td> 10.4529924</td></tr>\n",
       "\t<tr><td>AUT        </td><td> -0.5440192</td></tr>\n",
       "\t<tr><td>BEL        </td><td> 10.5872958</td></tr>\n",
       "\t<tr><td>BER        </td><td>-20.5753000</td></tr>\n",
       "\t<tr><td>BRA        </td><td>  6.3348740</td></tr>\n",
       "</tbody>\n",
       "</table>\n"
      ],
      "text/latex": [
       "\\begin{tabular}{r|ll}\n",
       " Country & Comp.1\\\\\n",
       "\\hline\n",
       "\t ARG         &   3.2173904\\\\\n",
       "\t AUS         &  10.4529924\\\\\n",
       "\t AUT         &  -0.5440192\\\\\n",
       "\t BEL         &  10.5872958\\\\\n",
       "\t BER         & -20.5753000\\\\\n",
       "\t BRA         &   6.3348740\\\\\n",
       "\\end{tabular}\n"
      ],
      "text/markdown": [
       "\n",
       "Country | Comp.1 | \n",
       "|---|---|---|---|---|---|\n",
       "| ARG         |   3.2173904 | \n",
       "| AUS         |  10.4529924 | \n",
       "| AUT         |  -0.5440192 | \n",
       "| BEL         |  10.5872958 | \n",
       "| BER         | -20.5753000 | \n",
       "| BRA         |   6.3348740 | \n",
       "\n",
       "\n"
      ],
      "text/plain": [
       "  Country Comp.1     \n",
       "1 ARG       3.2173904\n",
       "2 AUS      10.4529924\n",
       "3 AUT      -0.5440192\n",
       "4 BEL      10.5872958\n",
       "5 BER     -20.5753000\n",
       "6 BRA       6.3348740"
      ]
     },
     "metadata": {},
     "output_type": "display_data"
    },
    {
     "data": {
      "text/html": [
       "<table>\n",
       "<thead><tr><th></th><th scope=col>Country</th><th scope=col>Comp.1</th></tr></thead>\n",
       "<tbody>\n",
       "\t<tr><th scope=row>19</th><td>GBR     </td><td>18.58051</td></tr>\n",
       "\t<tr><th scope=row>29</th><td>KEN     </td><td>15.09708</td></tr>\n",
       "\t<tr><th scope=row>9</th><td>CHN     </td><td>14.45185</td></tr>\n",
       "\t<tr><th scope=row>28</th><td>JPN     </td><td>14.11345</td></tr>\n",
       "\t<tr><th scope=row>54</th><td>USA     </td><td>12.81715</td></tr>\n",
       "\t<tr><th scope=row>18</th><td>GER     </td><td>12.63928</td></tr>\n",
       "</tbody>\n",
       "</table>\n"
      ],
      "text/latex": [
       "\\begin{tabular}{r|ll}\n",
       "  & Country & Comp.1\\\\\n",
       "\\hline\n",
       "\t19 & GBR      & 18.58051\\\\\n",
       "\t29 & KEN      & 15.09708\\\\\n",
       "\t9 & CHN      & 14.45185\\\\\n",
       "\t28 & JPN      & 14.11345\\\\\n",
       "\t54 & USA      & 12.81715\\\\\n",
       "\t18 & GER      & 12.63928\\\\\n",
       "\\end{tabular}\n"
      ],
      "text/markdown": [
       "\n",
       "| <!--/--> | Country | Comp.1 | \n",
       "|---|---|---|---|---|---|\n",
       "| 19 | GBR      | 18.58051 | \n",
       "| 29 | KEN      | 15.09708 | \n",
       "| 9 | CHN      | 14.45185 | \n",
       "| 28 | JPN      | 14.11345 | \n",
       "| 54 | USA      | 12.81715 | \n",
       "| 18 | GER      | 12.63928 | \n",
       "\n",
       "\n"
      ],
      "text/plain": [
       "   Country Comp.1  \n",
       "19 GBR     18.58051\n",
       "29 KEN     15.09708\n",
       "9  CHN     14.45185\n",
       "28 JPN     14.11345\n",
       "54 USA     12.81715\n",
       "18 GER     12.63928"
      ]
     },
     "metadata": {},
     "output_type": "display_data"
    }
   ],
   "source": [
    "# Sorting countries based only on PC1\n",
    "dimReducedWomen = PCWomen[,1:2]\n",
    "head(dimReducedWomen)\n",
    "dimReducedWomenOrdered = dimReducedWomen[order(-dimReducedWomen[,2]),]\n",
    "head(dimReducedWomenOrdered)"
   ]
  },
  {
   "cell_type": "markdown",
   "metadata": {},
   "source": [
    "In examining the results based on ordering countries by first principal component scores, we get countries that would intuitively be the best in the world at track. \n",
    "\n",
    "#### Problem 1E"
   ]
  },
  {
   "cell_type": "code",
   "execution_count": 182,
   "metadata": {},
   "outputs": [
    {
     "data": {
      "text/html": [
       "<table>\n",
       "<tbody>\n",
       "\t<tr><td>8.643042</td><td>8.718396</td><td>7.619048</td><td>6.504065</td><td>5.882353</td><td>5.440696</td><td>4.678353</td></tr>\n",
       "\t<tr><td>8.992806</td><td>8.996851</td><td>8.225375</td><td>6.734007</td><td>6.218905</td><td>5.793743</td><td>4.900355</td></tr>\n",
       "\t<tr><td>8.968610</td><td>8.810573</td><td>7.902015</td><td>6.872852</td><td>6.172840</td><td>5.694761</td><td>4.556203</td></tr>\n",
       "\t<tr><td>8.976661</td><td>8.896797</td><td>7.774538</td><td>6.768190</td><td>6.127451</td><td>5.668934</td><td>4.916113</td></tr>\n",
       "\t<tr><td>8.726003</td><td>8.676790</td><td>7.504690</td><td>6.441224</td><td>5.827506</td><td>5.096840</td><td>4.037490</td></tr>\n",
       "\t<tr><td>8.952551</td><td>8.849558</td><td>7.902015</td><td>6.768190</td><td>5.995204</td><td>5.530973</td><td>4.770708</td></tr>\n",
       "</tbody>\n",
       "</table>\n"
      ],
      "text/latex": [
       "\\begin{tabular}{lllllll}\n",
       "\t 8.643042 & 8.718396 & 7.619048 & 6.504065 & 5.882353 & 5.440696 & 4.678353\\\\\n",
       "\t 8.992806 & 8.996851 & 8.225375 & 6.734007 & 6.218905 & 5.793743 & 4.900355\\\\\n",
       "\t 8.968610 & 8.810573 & 7.902015 & 6.872852 & 6.172840 & 5.694761 & 4.556203\\\\\n",
       "\t 8.976661 & 8.896797 & 7.774538 & 6.768190 & 6.127451 & 5.668934 & 4.916113\\\\\n",
       "\t 8.726003 & 8.676790 & 7.504690 & 6.441224 & 5.827506 & 5.096840 & 4.037490\\\\\n",
       "\t 8.952551 & 8.849558 & 7.902015 & 6.768190 & 5.995204 & 5.530973 & 4.770708\\\\\n",
       "\\end{tabular}\n"
      ],
      "text/markdown": [
       "\n",
       "| 8.643042 | 8.718396 | 7.619048 | 6.504065 | 5.882353 | 5.440696 | 4.678353 | \n",
       "| 8.992806 | 8.996851 | 8.225375 | 6.734007 | 6.218905 | 5.793743 | 4.900355 | \n",
       "| 8.968610 | 8.810573 | 7.902015 | 6.872852 | 6.172840 | 5.694761 | 4.556203 | \n",
       "| 8.976661 | 8.896797 | 7.774538 | 6.768190 | 6.127451 | 5.668934 | 4.916113 | \n",
       "| 8.726003 | 8.676790 | 7.504690 | 6.441224 | 5.827506 | 5.096840 | 4.037490 | \n",
       "| 8.952551 | 8.849558 | 7.902015 | 6.768190 | 5.995204 | 5.530973 | 4.770708 | \n",
       "\n",
       "\n"
      ],
      "text/plain": [
       "     [,1]     [,2]     [,3]     [,4]     [,5]     [,6]     [,7]    \n",
       "[1,] 8.643042 8.718396 7.619048 6.504065 5.882353 5.440696 4.678353\n",
       "[2,] 8.992806 8.996851 8.225375 6.734007 6.218905 5.793743 4.900355\n",
       "[3,] 8.968610 8.810573 7.902015 6.872852 6.172840 5.694761 4.556203\n",
       "[4,] 8.976661 8.896797 7.774538 6.768190 6.127451 5.668934 4.916113\n",
       "[5,] 8.726003 8.676790 7.504690 6.441224 5.827506 5.096840 4.037490\n",
       "[6,] 8.952551 8.849558 7.902015 6.768190 5.995204 5.530973 4.770708"
      ]
     },
     "metadata": {},
     "output_type": "display_data"
    }
   ],
   "source": [
    "# Converting to m/s\n",
    "\n",
    "womenSpeeds = cbind(\n",
    "    100/women[,2],\n",
    "    200/women[,3],\n",
    "    400/women[,4],\n",
    "    800/(women[,5]*60),\n",
    "    1500/(women[,6]*60),\n",
    "    3000/(women[,7]*60),\n",
    "    42195/(women[,8]*60)\n",
    ")\n",
    "head(womenSpeeds)"
   ]
  },
  {
   "cell_type": "code",
   "execution_count": null,
   "metadata": {
    "collapsed": true
   },
   "outputs": [],
   "source": []
  }
 ],
 "metadata": {
  "kernelspec": {
   "display_name": "R",
   "language": "R",
   "name": "ir"
  },
  "language_info": {
   "codemirror_mode": "r",
   "file_extension": ".r",
   "mimetype": "text/x-r-source",
   "name": "R",
   "pygments_lexer": "r",
   "version": "3.3.2"
  }
 },
 "nbformat": 4,
 "nbformat_minor": 2
}
