{
 "cells": [
  {
   "cell_type": "markdown",
   "metadata": {},
   "source": [
    "# PH 245 Homework 4: Principal Components Analysis and Factor Analysis\n",
    "Kunal Mishra"
   ]
  },
  {
   "cell_type": "markdown",
   "metadata": {},
   "source": [
    "## Problem 1"
   ]
  },
  {
   "cell_type": "code",
   "execution_count": 210,
   "metadata": {
    "scrolled": false
   },
   "outputs": [
    {
     "data": {
      "text/html": [
       "<table>\n",
       "<thead><tr><th scope=col>Country</th><th scope=col>100m</th><th scope=col>200m</th><th scope=col>400m</th><th scope=col>800m</th><th scope=col>1500m</th><th scope=col>3000m</th><th scope=col>Marathon</th></tr></thead>\n",
       "<tbody>\n",
       "\t<tr><td>ARG   </td><td>11.57 </td><td>22.94 </td><td>52.50 </td><td>2.05  </td><td>4.25  </td><td>9.19  </td><td>150.32</td></tr>\n",
       "\t<tr><td>AUS   </td><td>11.12 </td><td>22.23 </td><td>48.63 </td><td>1.98  </td><td>4.02  </td><td>8.63  </td><td>143.51</td></tr>\n",
       "\t<tr><td>AUT   </td><td>11.15 </td><td>22.70 </td><td>50.62 </td><td>1.94  </td><td>4.05  </td><td>8.78  </td><td>154.35</td></tr>\n",
       "\t<tr><td>BEL   </td><td>11.14 </td><td>22.48 </td><td>51.45 </td><td>1.97  </td><td>4.08  </td><td>8.82  </td><td>143.05</td></tr>\n",
       "\t<tr><td>BER   </td><td>11.46 </td><td>23.05 </td><td>53.30 </td><td>2.07  </td><td>4.29  </td><td>9.81  </td><td>174.18</td></tr>\n",
       "\t<tr><td>BRA   </td><td>11.17 </td><td>22.60 </td><td>50.62 </td><td>1.97  </td><td>4.17  </td><td>9.04  </td><td>147.41</td></tr>\n",
       "</tbody>\n",
       "</table>\n"
      ],
      "text/latex": [
       "\\begin{tabular}{r|llllllll}\n",
       " Country & 100m & 200m & 400m & 800m & 1500m & 3000m & Marathon\\\\\n",
       "\\hline\n",
       "\t ARG    & 11.57  & 22.94  & 52.50  & 2.05   & 4.25   & 9.19   & 150.32\\\\\n",
       "\t AUS    & 11.12  & 22.23  & 48.63  & 1.98   & 4.02   & 8.63   & 143.51\\\\\n",
       "\t AUT    & 11.15  & 22.70  & 50.62  & 1.94   & 4.05   & 8.78   & 154.35\\\\\n",
       "\t BEL    & 11.14  & 22.48  & 51.45  & 1.97   & 4.08   & 8.82   & 143.05\\\\\n",
       "\t BER    & 11.46  & 23.05  & 53.30  & 2.07   & 4.29   & 9.81   & 174.18\\\\\n",
       "\t BRA    & 11.17  & 22.60  & 50.62  & 1.97   & 4.17   & 9.04   & 147.41\\\\\n",
       "\\end{tabular}\n"
      ],
      "text/markdown": [
       "\n",
       "Country | 100m | 200m | 400m | 800m | 1500m | 3000m | Marathon | \n",
       "|---|---|---|---|---|---|\n",
       "| ARG    | 11.57  | 22.94  | 52.50  | 2.05   | 4.25   | 9.19   | 150.32 | \n",
       "| AUS    | 11.12  | 22.23  | 48.63  | 1.98   | 4.02   | 8.63   | 143.51 | \n",
       "| AUT    | 11.15  | 22.70  | 50.62  | 1.94   | 4.05   | 8.78   | 154.35 | \n",
       "| BEL    | 11.14  | 22.48  | 51.45  | 1.97   | 4.08   | 8.82   | 143.05 | \n",
       "| BER    | 11.46  | 23.05  | 53.30  | 2.07   | 4.29   | 9.81   | 174.18 | \n",
       "| BRA    | 11.17  | 22.60  | 50.62  | 1.97   | 4.17   | 9.04   | 147.41 | \n",
       "\n",
       "\n"
      ],
      "text/plain": [
       "  Country 100m  200m  400m  800m 1500m 3000m Marathon\n",
       "1 ARG     11.57 22.94 52.50 2.05 4.25  9.19  150.32  \n",
       "2 AUS     11.12 22.23 48.63 1.98 4.02  8.63  143.51  \n",
       "3 AUT     11.15 22.70 50.62 1.94 4.05  8.78  154.35  \n",
       "4 BEL     11.14 22.48 51.45 1.97 4.08  8.82  143.05  \n",
       "5 BER     11.46 23.05 53.30 2.07 4.29  9.81  174.18  \n",
       "6 BRA     11.17 22.60 50.62 1.97 4.17  9.04  147.41  "
      ]
     },
     "metadata": {},
     "output_type": "display_data"
    },
    {
     "data": {
      "text/html": [
       "<table>\n",
       "<thead><tr><th scope=col>Country</th><th scope=col>100m</th><th scope=col>200m</th><th scope=col>400m</th><th scope=col>800m</th><th scope=col>1500m</th><th scope=col>5000m</th><th scope=col>10000m</th><th scope=col>Marathon</th></tr></thead>\n",
       "<tbody>\n",
       "\t<tr><td>Argentina</td><td>10.23    </td><td>20.37    </td><td>46.18    </td><td>1.77     </td><td>3.68     </td><td>13.33    </td><td>27.65    </td><td>129.57   </td></tr>\n",
       "\t<tr><td>Australia</td><td> 9.93    </td><td>20.06    </td><td>44.38    </td><td>1.74     </td><td>3.53     </td><td>12.93    </td><td>27.53    </td><td>127.51   </td></tr>\n",
       "\t<tr><td>Austria  </td><td>10.15    </td><td>20.45    </td><td>45.80    </td><td>1.77     </td><td>3.58     </td><td>13.26    </td><td>27.72    </td><td>132.22   </td></tr>\n",
       "\t<tr><td>Belgium  </td><td>10.14    </td><td>20.19    </td><td>45.02    </td><td>1.73     </td><td>3.57     </td><td>12.83    </td><td>26.87    </td><td>127.20   </td></tr>\n",
       "\t<tr><td>Bermuda  </td><td>10.27    </td><td>20.30    </td><td>45.26    </td><td>1.79     </td><td>3.70     </td><td>14.64    </td><td>30.49    </td><td>146.37   </td></tr>\n",
       "\t<tr><td>Brazil   </td><td>10.00    </td><td>19.89    </td><td>44.29    </td><td>1.70     </td><td>3.57     </td><td>13.48    </td><td>28.13    </td><td>126.05   </td></tr>\n",
       "</tbody>\n",
       "</table>\n"
      ],
      "text/latex": [
       "\\begin{tabular}{r|lllllllll}\n",
       " Country & 100m & 200m & 400m & 800m & 1500m & 5000m & 10000m & Marathon\\\\\n",
       "\\hline\n",
       "\t Argentina & 10.23     & 20.37     & 46.18     & 1.77      & 3.68      & 13.33     & 27.65     & 129.57   \\\\\n",
       "\t Australia &  9.93     & 20.06     & 44.38     & 1.74      & 3.53      & 12.93     & 27.53     & 127.51   \\\\\n",
       "\t Austria   & 10.15     & 20.45     & 45.80     & 1.77      & 3.58      & 13.26     & 27.72     & 132.22   \\\\\n",
       "\t Belgium   & 10.14     & 20.19     & 45.02     & 1.73      & 3.57      & 12.83     & 26.87     & 127.20   \\\\\n",
       "\t Bermuda   & 10.27     & 20.30     & 45.26     & 1.79      & 3.70      & 14.64     & 30.49     & 146.37   \\\\\n",
       "\t Brazil    & 10.00     & 19.89     & 44.29     & 1.70      & 3.57      & 13.48     & 28.13     & 126.05   \\\\\n",
       "\\end{tabular}\n"
      ],
      "text/markdown": [
       "\n",
       "Country | 100m | 200m | 400m | 800m | 1500m | 5000m | 10000m | Marathon | \n",
       "|---|---|---|---|---|---|\n",
       "| Argentina | 10.23     | 20.37     | 46.18     | 1.77      | 3.68      | 13.33     | 27.65     | 129.57    | \n",
       "| Australia |  9.93     | 20.06     | 44.38     | 1.74      | 3.53      | 12.93     | 27.53     | 127.51    | \n",
       "| Austria   | 10.15     | 20.45     | 45.80     | 1.77      | 3.58      | 13.26     | 27.72     | 132.22    | \n",
       "| Belgium   | 10.14     | 20.19     | 45.02     | 1.73      | 3.57      | 12.83     | 26.87     | 127.20    | \n",
       "| Bermuda   | 10.27     | 20.30     | 45.26     | 1.79      | 3.70      | 14.64     | 30.49     | 146.37    | \n",
       "| Brazil    | 10.00     | 19.89     | 44.29     | 1.70      | 3.57      | 13.48     | 28.13     | 126.05    | \n",
       "\n",
       "\n"
      ],
      "text/plain": [
       "  Country   100m  200m  400m  800m 1500m 5000m 10000m Marathon\n",
       "1 Argentina 10.23 20.37 46.18 1.77 3.68  13.33 27.65  129.57  \n",
       "2 Australia  9.93 20.06 44.38 1.74 3.53  12.93 27.53  127.51  \n",
       "3 Austria   10.15 20.45 45.80 1.77 3.58  13.26 27.72  132.22  \n",
       "4 Belgium   10.14 20.19 45.02 1.73 3.57  12.83 26.87  127.20  \n",
       "5 Bermuda   10.27 20.30 45.26 1.79 3.70  14.64 30.49  146.37  \n",
       "6 Brazil    10.00 19.89 44.29 1.70 3.57  13.48 28.13  126.05  "
      ]
     },
     "metadata": {},
     "output_type": "display_data"
    }
   ],
   "source": [
    "# Loading Data \n",
    "\n",
    "women = read.table(file=\"Data-HW4-track-women.dat\", \n",
    "                   header=FALSE, \n",
    "                   quote=\"\", \n",
    "                   sep=\"\\t\"\n",
    "                  )\n",
    "men   = read.table(file=\"Data-HW4-track-men.dat\", \n",
    "                   header=FALSE, \n",
    "                   quote=\"\", \n",
    "                   sep=\"\"\n",
    "                  )\n",
    "\n",
    "colnames(women) = c(\"Country\", \"100m\", \"200m\", \"400m\", \"800m\", \"1500m\", \"3000m\", \"Marathon\")\n",
    "colnames(men)   = c(\"Country\", \"100m\", \"200m\", \"400m\", \"800m\", \"1500m\", \"5000m\", \"10000m\", \"Marathon\")\n",
    "\n",
    "# Displaying Data\n",
    "head(women)\n",
    "head(men)"
   ]
  },
  {
   "cell_type": "markdown",
   "metadata": {},
   "source": [
    "#### Problem 1A"
   ]
  },
  {
   "cell_type": "code",
   "execution_count": 234,
   "metadata": {},
   "outputs": [
    {
     "data": {
      "text/html": [
       "<table>\n",
       "<thead><tr><th></th><th scope=col>100m</th><th scope=col>200m</th><th scope=col>400m</th><th scope=col>800m</th><th scope=col>1500m</th><th scope=col>3000m</th><th scope=col>Marathon</th></tr></thead>\n",
       "<tbody>\n",
       "\t<tr><th scope=row>100m</th><td>1.0000000</td><td>0.9410886</td><td>0.8707802</td><td>0.8091758</td><td>0.7815510</td><td>0.7278784</td><td>0.6689597</td></tr>\n",
       "\t<tr><th scope=row>200m</th><td>0.9410886</td><td>1.0000000</td><td>0.9088096</td><td>0.8198258</td><td>0.8013282</td><td>0.7318546</td><td>0.6799537</td></tr>\n",
       "\t<tr><th scope=row>400m</th><td>0.8707802</td><td>0.9088096</td><td>1.0000000</td><td>0.8057904</td><td>0.7197996</td><td>0.6737991</td><td>0.6769384</td></tr>\n",
       "\t<tr><th scope=row>800m</th><td>0.8091758</td><td>0.8198258</td><td>0.8057904</td><td>1.0000000</td><td>0.9050509</td><td>0.8665732</td><td>0.8539900</td></tr>\n",
       "\t<tr><th scope=row>1500m</th><td>0.7815510</td><td>0.8013282</td><td>0.7197996</td><td>0.9050509</td><td>1.0000000</td><td>0.9733801</td><td>0.7905565</td></tr>\n",
       "\t<tr><th scope=row>3000m</th><td>0.7278784</td><td>0.7318546</td><td>0.6737991</td><td>0.8665732</td><td>0.9733801</td><td>1.0000000</td><td>0.7987302</td></tr>\n",
       "\t<tr><th scope=row>Marathon</th><td>0.6689597</td><td>0.6799537</td><td>0.6769384</td><td>0.8539900</td><td>0.7905565</td><td>0.7987302</td><td>1.0000000</td></tr>\n",
       "</tbody>\n",
       "</table>\n"
      ],
      "text/latex": [
       "\\begin{tabular}{r|lllllll}\n",
       "  & 100m & 200m & 400m & 800m & 1500m & 3000m & Marathon\\\\\n",
       "\\hline\n",
       "\t100m & 1.0000000 & 0.9410886 & 0.8707802 & 0.8091758 & 0.7815510 & 0.7278784 & 0.6689597\\\\\n",
       "\t200m & 0.9410886 & 1.0000000 & 0.9088096 & 0.8198258 & 0.8013282 & 0.7318546 & 0.6799537\\\\\n",
       "\t400m & 0.8707802 & 0.9088096 & 1.0000000 & 0.8057904 & 0.7197996 & 0.6737991 & 0.6769384\\\\\n",
       "\t800m & 0.8091758 & 0.8198258 & 0.8057904 & 1.0000000 & 0.9050509 & 0.8665732 & 0.8539900\\\\\n",
       "\t1500m & 0.7815510 & 0.8013282 & 0.7197996 & 0.9050509 & 1.0000000 & 0.9733801 & 0.7905565\\\\\n",
       "\t3000m & 0.7278784 & 0.7318546 & 0.6737991 & 0.8665732 & 0.9733801 & 1.0000000 & 0.7987302\\\\\n",
       "\tMarathon & 0.6689597 & 0.6799537 & 0.6769384 & 0.8539900 & 0.7905565 & 0.7987302 & 1.0000000\\\\\n",
       "\\end{tabular}\n"
      ],
      "text/markdown": [
       "\n",
       "| <!--/--> | 100m | 200m | 400m | 800m | 1500m | 3000m | Marathon | \n",
       "|---|---|---|---|---|---|---|\n",
       "| 100m | 1.0000000 | 0.9410886 | 0.8707802 | 0.8091758 | 0.7815510 | 0.7278784 | 0.6689597 | \n",
       "| 200m | 0.9410886 | 1.0000000 | 0.9088096 | 0.8198258 | 0.8013282 | 0.7318546 | 0.6799537 | \n",
       "| 400m | 0.8707802 | 0.9088096 | 1.0000000 | 0.8057904 | 0.7197996 | 0.6737991 | 0.6769384 | \n",
       "| 800m | 0.8091758 | 0.8198258 | 0.8057904 | 1.0000000 | 0.9050509 | 0.8665732 | 0.8539900 | \n",
       "| 1500m | 0.7815510 | 0.8013282 | 0.7197996 | 0.9050509 | 1.0000000 | 0.9733801 | 0.7905565 | \n",
       "| 3000m | 0.7278784 | 0.7318546 | 0.6737991 | 0.8665732 | 0.9733801 | 1.0000000 | 0.7987302 | \n",
       "| Marathon | 0.6689597 | 0.6799537 | 0.6769384 | 0.8539900 | 0.7905565 | 0.7987302 | 1.0000000 | \n",
       "\n",
       "\n"
      ],
      "text/plain": [
       "         100m      200m      400m      800m      1500m     3000m     Marathon \n",
       "100m     1.0000000 0.9410886 0.8707802 0.8091758 0.7815510 0.7278784 0.6689597\n",
       "200m     0.9410886 1.0000000 0.9088096 0.8198258 0.8013282 0.7318546 0.6799537\n",
       "400m     0.8707802 0.9088096 1.0000000 0.8057904 0.7197996 0.6737991 0.6769384\n",
       "800m     0.8091758 0.8198258 0.8057904 1.0000000 0.9050509 0.8665732 0.8539900\n",
       "1500m    0.7815510 0.8013282 0.7197996 0.9050509 1.0000000 0.9733801 0.7905565\n",
       "3000m    0.7278784 0.7318546 0.6737991 0.8665732 0.9733801 1.0000000 0.7987302\n",
       "Marathon 0.6689597 0.6799537 0.6769384 0.8539900 0.7905565 0.7987302 1.0000000"
      ]
     },
     "metadata": {},
     "output_type": "display_data"
    }
   ],
   "source": [
    "# Standardizing and Centering data\n",
    "center      = function(lst) {lst - mean(lst)}\n",
    "standardize = function(lst) {center(lst) / sd(lst)}\n",
    "\n",
    "standardizedWomen = apply(women[,-1], 2, center)\n",
    "standardizedMen   = apply(men[,-1], 2, center)\n",
    "\n",
    "# Finding the correlations among all variables\n",
    "sampleCorrelationMatrix = cor(standardizedWomen)\n",
    "sampleCorrelationMatrix"
   ]
  },
  {
   "cell_type": "code",
   "execution_count": 235,
   "metadata": {},
   "outputs": [
    {
     "data": {
      "text/html": [
       "<dl>\n",
       "\t<dt>$values</dt>\n",
       "\t\t<dd><ol class=list-inline>\n",
       "\t<li>5.80762446399961</li>\n",
       "\t<li>0.628693422921518</li>\n",
       "\t<li>0.279334571750058</li>\n",
       "\t<li>0.124554715461547</li>\n",
       "\t<li>0.0909717393558767</li>\n",
       "\t<li>0.0545188221667183</li>\n",
       "\t<li>0.014302264344661</li>\n",
       "</ol>\n",
       "</dd>\n",
       "\t<dt>$vectors</dt>\n",
       "\t\t<dd><table>\n",
       "<tbody>\n",
       "\t<tr><td>-0.3777657 </td><td>-0.4071756 </td><td>-0.1405803 </td><td> 0.58706293</td><td>-0.16706891</td><td>-0.53969730</td><td> 0.08893934</td></tr>\n",
       "\t<tr><td>-0.3832103 </td><td>-0.4136291 </td><td>-0.1007833 </td><td> 0.19407501</td><td> 0.09350016</td><td> 0.74493139</td><td>-0.26565662</td></tr>\n",
       "\t<tr><td>-0.3680361 </td><td>-0.4593531 </td><td> 0.2370255 </td><td>-0.64543118</td><td> 0.32727328</td><td>-0.24009405</td><td> 0.12660435</td></tr>\n",
       "\t<tr><td>-0.3947810 </td><td> 0.1612459 </td><td> 0.1475424 </td><td>-0.29520804</td><td>-0.81905467</td><td> 0.01650651</td><td>-0.19521315</td></tr>\n",
       "\t<tr><td>-0.3892610 </td><td> 0.3090877 </td><td>-0.4219855 </td><td>-0.06669044</td><td> 0.02613100</td><td> 0.18898771</td><td> 0.73076817</td></tr>\n",
       "\t<tr><td>-0.3760945 </td><td> 0.4231899 </td><td>-0.4060627 </td><td>-0.08015699</td><td> 0.35169796</td><td>-0.24049968</td><td>-0.57150644</td></tr>\n",
       "\t<tr><td>-0.3552031 </td><td> 0.3892153 </td><td> 0.7410610 </td><td> 0.32107640</td><td> 0.24700821</td><td> 0.04826992</td><td> 0.08208401</td></tr>\n",
       "</tbody>\n",
       "</table>\n",
       "</dd>\n",
       "</dl>\n"
      ],
      "text/latex": [
       "\\begin{description}\n",
       "\\item[\\$values] \\begin{enumerate*}\n",
       "\\item 5.80762446399961\n",
       "\\item 0.628693422921518\n",
       "\\item 0.279334571750058\n",
       "\\item 0.124554715461547\n",
       "\\item 0.0909717393558767\n",
       "\\item 0.0545188221667183\n",
       "\\item 0.014302264344661\n",
       "\\end{enumerate*}\n",
       "\n",
       "\\item[\\$vectors] \\begin{tabular}{lllllll}\n",
       "\t -0.3777657  & -0.4071756  & -0.1405803  &  0.58706293 & -0.16706891 & -0.53969730 &  0.08893934\\\\\n",
       "\t -0.3832103  & -0.4136291  & -0.1007833  &  0.19407501 &  0.09350016 &  0.74493139 & -0.26565662\\\\\n",
       "\t -0.3680361  & -0.4593531  &  0.2370255  & -0.64543118 &  0.32727328 & -0.24009405 &  0.12660435\\\\\n",
       "\t -0.3947810  &  0.1612459  &  0.1475424  & -0.29520804 & -0.81905467 &  0.01650651 & -0.19521315\\\\\n",
       "\t -0.3892610  &  0.3090877  & -0.4219855  & -0.06669044 &  0.02613100 &  0.18898771 &  0.73076817\\\\\n",
       "\t -0.3760945  &  0.4231899  & -0.4060627  & -0.08015699 &  0.35169796 & -0.24049968 & -0.57150644\\\\\n",
       "\t -0.3552031  &  0.3892153  &  0.7410610  &  0.32107640 &  0.24700821 &  0.04826992 &  0.08208401\\\\\n",
       "\\end{tabular}\n",
       "\n",
       "\\end{description}\n"
      ],
      "text/markdown": [
       "$values\n",
       ":   1. 5.80762446399961\n",
       "2. 0.628693422921518\n",
       "3. 0.279334571750058\n",
       "4. 0.124554715461547\n",
       "5. 0.0909717393558767\n",
       "6. 0.0545188221667183\n",
       "7. 0.014302264344661\n",
       "\n",
       "\n",
       "\n",
       "$vectors\n",
       ":   \n",
       "| -0.3777657  | -0.4071756  | -0.1405803  |  0.58706293 | -0.16706891 | -0.53969730 |  0.08893934 | \n",
       "| -0.3832103  | -0.4136291  | -0.1007833  |  0.19407501 |  0.09350016 |  0.74493139 | -0.26565662 | \n",
       "| -0.3680361  | -0.4593531  |  0.2370255  | -0.64543118 |  0.32727328 | -0.24009405 |  0.12660435 | \n",
       "| -0.3947810  |  0.1612459  |  0.1475424  | -0.29520804 | -0.81905467 |  0.01650651 | -0.19521315 | \n",
       "| -0.3892610  |  0.3090877  | -0.4219855  | -0.06669044 |  0.02613100 |  0.18898771 |  0.73076817 | \n",
       "| -0.3760945  |  0.4231899  | -0.4060627  | -0.08015699 |  0.35169796 | -0.24049968 | -0.57150644 | \n",
       "| -0.3552031  |  0.3892153  |  0.7410610  |  0.32107640 |  0.24700821 |  0.04826992 |  0.08208401 | \n",
       "\n",
       "\n",
       "\n",
       "\n",
       "\n"
      ],
      "text/plain": [
       "$values\n",
       "[1] 5.80762446 0.62869342 0.27933457 0.12455472 0.09097174 0.05451882 0.01430226\n",
       "\n",
       "$vectors\n",
       "           [,1]       [,2]       [,3]        [,4]        [,5]        [,6]\n",
       "[1,] -0.3777657 -0.4071756 -0.1405803  0.58706293 -0.16706891 -0.53969730\n",
       "[2,] -0.3832103 -0.4136291 -0.1007833  0.19407501  0.09350016  0.74493139\n",
       "[3,] -0.3680361 -0.4593531  0.2370255 -0.64543118  0.32727328 -0.24009405\n",
       "[4,] -0.3947810  0.1612459  0.1475424 -0.29520804 -0.81905467  0.01650651\n",
       "[5,] -0.3892610  0.3090877 -0.4219855 -0.06669044  0.02613100  0.18898771\n",
       "[6,] -0.3760945  0.4231899 -0.4060627 -0.08015699  0.35169796 -0.24049968\n",
       "[7,] -0.3552031  0.3892153  0.7410610  0.32107640  0.24700821  0.04826992\n",
       "            [,7]\n",
       "[1,]  0.08893934\n",
       "[2,] -0.26565662\n",
       "[3,]  0.12660435\n",
       "[4,] -0.19521315\n",
       "[5,]  0.73076817\n",
       "[6,] -0.57150644\n",
       "[7,]  0.08208401\n"
      ]
     },
     "metadata": {},
     "output_type": "display_data"
    }
   ],
   "source": [
    "# Finding the eigenvalues and vectors of the correlation matrix \n",
    "\n",
    "sampleEig = eigen(sampleCorrelationMatrix)\n",
    "sampleEig"
   ]
  },
  {
   "cell_type": "markdown",
   "metadata": {},
   "source": [
    "#### Problem 1B"
   ]
  },
  {
   "cell_type": "code",
   "execution_count": 236,
   "metadata": {},
   "outputs": [
    {
     "data": {
      "text/html": [
       "<table>\n",
       "<tbody>\n",
       "\t<tr><th scope=row>100m</th><td>-0.3777657</td><td>-0.4071756</td></tr>\n",
       "\t<tr><th scope=row>200m</th><td>-0.3832103</td><td>-0.4136291</td></tr>\n",
       "\t<tr><th scope=row>400m</th><td>-0.3680361</td><td>-0.4593531</td></tr>\n",
       "\t<tr><th scope=row>800m</th><td>-0.3947810</td><td> 0.1612459</td></tr>\n",
       "\t<tr><th scope=row>1500m</th><td>-0.3892610</td><td> 0.3090877</td></tr>\n",
       "\t<tr><th scope=row>3000m</th><td>-0.3760945</td><td> 0.4231899</td></tr>\n",
       "\t<tr><th scope=row>Marathon</th><td>-0.3552031</td><td> 0.3892153</td></tr>\n",
       "</tbody>\n",
       "</table>\n"
      ],
      "text/latex": [
       "\\begin{tabular}{r|ll}\n",
       "\t100m & -0.3777657 & -0.4071756\\\\\n",
       "\t200m & -0.3832103 & -0.4136291\\\\\n",
       "\t400m & -0.3680361 & -0.4593531\\\\\n",
       "\t800m & -0.3947810 &  0.1612459\\\\\n",
       "\t1500m & -0.3892610 &  0.3090877\\\\\n",
       "\t3000m & -0.3760945 &  0.4231899\\\\\n",
       "\tMarathon & -0.3552031 &  0.3892153\\\\\n",
       "\\end{tabular}\n"
      ],
      "text/markdown": [
       "\n",
       "| 100m | -0.3777657 | -0.4071756 | \n",
       "| 200m | -0.3832103 | -0.4136291 | \n",
       "| 400m | -0.3680361 | -0.4593531 | \n",
       "| 800m | -0.3947810 |  0.1612459 | \n",
       "| 1500m | -0.3892610 |  0.3090877 | \n",
       "| 3000m | -0.3760945 |  0.4231899 | \n",
       "| Marathon | -0.3552031 |  0.3892153 | \n",
       "\n",
       "\n"
      ],
      "text/plain": [
       "         [,1]       [,2]      \n",
       "100m     -0.3777657 -0.4071756\n",
       "200m     -0.3832103 -0.4136291\n",
       "400m     -0.3680361 -0.4593531\n",
       "800m     -0.3947810  0.1612459\n",
       "1500m    -0.3892610  0.3090877\n",
       "3000m    -0.3760945  0.4231899\n",
       "Marathon -0.3552031  0.3892153"
      ]
     },
     "metadata": {},
     "output_type": "display_data"
    }
   ],
   "source": [
    "# The first two eigenvalues are the largest and thus represent the\n",
    "# greatest proportion of the total variance of any two eigenvalues\n",
    "\n",
    "firstTwoPrincipalComponents = sampleEig$vectors[,1:2]\n",
    "rownames(firstTwoPrincipalComponents) = colnames(standardizedWomen)\n",
    "firstTwoPrincipalComponents"
   ]
  },
  {
   "cell_type": "code",
   "execution_count": 237,
   "metadata": {},
   "outputs": [
    {
     "data": {
      "text/html": [
       "0.919473983845877"
      ],
      "text/latex": [
       "0.919473983845877"
      ],
      "text/markdown": [
       "0.919473983845877"
      ],
      "text/plain": [
       "[1] 0.919474"
      ]
     },
     "metadata": {},
     "output_type": "display_data"
    }
   ],
   "source": [
    "proportionOfTotalVariance = {\n",
    "    sum(sampleEig$values[1:2]) / sum(sampleEig$values)\n",
    "}\n",
    "proportionOfTotalVariance"
   ]
  },
  {
   "cell_type": "markdown",
   "metadata": {},
   "source": [
    "#### Problem 1C"
   ]
  },
  {
   "cell_type": "code",
   "execution_count": 238,
   "metadata": {},
   "outputs": [
    {
     "data": {
      "text/html": [
       "<table>\n",
       "<thead><tr><th></th><th scope=col>Comp.1</th><th scope=col>Comp.2</th></tr></thead>\n",
       "<tbody>\n",
       "\t<tr><th scope=row>100m</th><td>-0.6776554 </td><td>-0.58409087</td></tr>\n",
       "\t<tr><th scope=row>200m</th><td>-0.6892444 </td><td>-0.62645840</td></tr>\n",
       "\t<tr><th scope=row>400m</th><td>-0.6874604 </td><td>-0.72416308</td></tr>\n",
       "\t<tr><th scope=row>800m</th><td>-0.8587726 </td><td>-0.30930106</td></tr>\n",
       "\t<tr><th scope=row>1500m</th><td>-0.7950136 </td><td>-0.26725024</td></tr>\n",
       "\t<tr><th scope=row>3000m</th><td>-0.8021609 </td><td>-0.19347819</td></tr>\n",
       "\t<tr><th scope=row>Marathon</th><td>-0.9998947 </td><td> 0.01448035</td></tr>\n",
       "</tbody>\n",
       "</table>\n"
      ],
      "text/latex": [
       "\\begin{tabular}{r|ll}\n",
       "  & Comp.1 & Comp.2\\\\\n",
       "\\hline\n",
       "\t100m & -0.6776554  & -0.58409087\\\\\n",
       "\t200m & -0.6892444  & -0.62645840\\\\\n",
       "\t400m & -0.6874604  & -0.72416308\\\\\n",
       "\t800m & -0.8587726  & -0.30930106\\\\\n",
       "\t1500m & -0.7950136  & -0.26725024\\\\\n",
       "\t3000m & -0.8021609  & -0.19347819\\\\\n",
       "\tMarathon & -0.9998947  &  0.01448035\\\\\n",
       "\\end{tabular}\n"
      ],
      "text/markdown": [
       "\n",
       "| <!--/--> | Comp.1 | Comp.2 | \n",
       "|---|---|---|---|---|---|---|\n",
       "| 100m | -0.6776554  | -0.58409087 | \n",
       "| 200m | -0.6892444  | -0.62645840 | \n",
       "| 400m | -0.6874604  | -0.72416308 | \n",
       "| 800m | -0.8587726  | -0.30930106 | \n",
       "| 1500m | -0.7950136  | -0.26725024 | \n",
       "| 3000m | -0.8021609  | -0.19347819 | \n",
       "| Marathon | -0.9998947  |  0.01448035 | \n",
       "\n",
       "\n"
      ],
      "text/plain": [
       "         Comp.1     Comp.2     \n",
       "100m     -0.6776554 -0.58409087\n",
       "200m     -0.6892444 -0.62645840\n",
       "400m     -0.6874604 -0.72416308\n",
       "800m     -0.8587726 -0.30930106\n",
       "1500m    -0.7950136 -0.26725024\n",
       "3000m    -0.8021609 -0.19347819\n",
       "Marathon -0.9998947  0.01448035"
      ]
     },
     "metadata": {},
     "output_type": "display_data"
    }
   ],
   "source": [
    "# Interpreting the two principal components\n",
    "pcaFit = princomp(standardizedWomen)\n",
    "\n",
    "# Examining the correlation between the original variables and PCs \n",
    "cor(x=standardizedWomen, y=pcaFit$scores)[,1:2]"
   ]
  },
  {
   "cell_type": "markdown",
   "metadata": {},
   "source": [
    "In examining the results of the correlations between each Principal Component and the original variables, it's clear that PC1 correlates strongly with and thus likely *relies* on the Marathon variable. If Marathon time increases, it is likely that the times for the other race distances also increases. \n",
    "\n",
    "In PC2, as expected, Marathon lacks almost any correlation at all. This makes sense because our principal components are orthagonal, so things that are highly correlated with one should (in theory) be similarly uncorrelated with the other principal components. With PC2, the strongest correlation is from the 400m race and this fulfills much of the same role as Marathon in PC1 -- as the 400m time increases, other variables correlated with PC2 are also likely to varying degrees to increase, based on the strength of that correlation.\n",
    "\n",
    "When we look at pcaFit's loadings many of these suspicions are confirmed. In R, 'loadings' are different from 'correlational loadings' (check out this link if you're interested: https://stats.stackexchange.com/questions/104306/what-is-the-difference-between-loadings-and-correlation-loadings-in-pca-and), which is why pcaFit's loadings don't necessarily represent the correlations between principal components and original variables"
   ]
  },
  {
   "cell_type": "code",
   "execution_count": 216,
   "metadata": {},
   "outputs": [
    {
     "data": {
      "text/plain": [
       "\n",
       "Loadings:\n",
       "         Comp.1 Comp.2 Comp.3 Comp.4 Comp.5 Comp.6 Comp.7\n",
       "100m            -0.115 -0.173  0.292  0.933              \n",
       "200m            -0.290 -0.387  0.795 -0.354              \n",
       "400m     -0.108 -0.938  0.226 -0.238                     \n",
       "800m                                         0.377 -0.925\n",
       "1500m                  -0.268                0.883  0.370\n",
       "3000m                  -0.834 -0.471        -0.265       \n",
       "Marathon -0.992  0.119                                   \n",
       "\n",
       "               Comp.1 Comp.2 Comp.3 Comp.4 Comp.5 Comp.6 Comp.7\n",
       "SS loadings     1.000  1.000  1.000  1.000  1.000  1.000  1.000\n",
       "Proportion Var  0.143  0.143  0.143  0.143  0.143  0.143  0.143\n",
       "Cumulative Var  0.143  0.286  0.429  0.571  0.714  0.857  1.000"
      ]
     },
     "metadata": {},
     "output_type": "display_data"
    }
   ],
   "source": [
    "pcaFit$loadings"
   ]
  },
  {
   "cell_type": "markdown",
   "metadata": {},
   "source": [
    "#### Problem 1D"
   ]
  },
  {
   "cell_type": "code",
   "execution_count": 217,
   "metadata": {},
   "outputs": [
    {
     "data": {
      "text/html": [
       "<table>\n",
       "<thead><tr><th scope=col>Country</th><th scope=col>Comp.1</th><th scope=col>Comp.2</th><th scope=col>Comp.3</th><th scope=col>Comp.4</th><th scope=col>Comp.5</th><th scope=col>Comp.6</th><th scope=col>Comp.7</th></tr></thead>\n",
       "<tbody>\n",
       "\t<tr><td>ARG          </td><td>  3.2173904  </td><td>-0.8550659   </td><td>-0.06070576  </td><td>-0.28983107  </td><td> 0.25592070  </td><td> 0.059231461 </td><td> 0.0005619794</td></tr>\n",
       "\t<tr><td>AUS          </td><td> 10.4529924  </td><td> 2.2790525   </td><td>-0.25585771  </td><td> 0.14908698  </td><td> 0.11270809  </td><td> 0.009042302 </td><td>-0.0240115435</td></tr>\n",
       "\t<tr><td>AUT          </td><td> -0.5440192  </td><td> 1.5468370   </td><td> 0.20234078  </td><td> 0.09185523  </td><td>-0.03281219  </td><td>-0.052436540 </td><td> 0.0385870352</td></tr>\n",
       "\t<tr><td>BEL          </td><td> 10.5872958  </td><td>-0.5138938   </td><td> 0.09198800  </td><td>-0.41590033  </td><td> 0.03304306  </td><td> 0.003534003 </td><td> 0.0150943480</td></tr>\n",
       "\t<tr><td>BER          </td><td>-20.5753000  </td><td> 1.1584461   </td><td> 0.28974010  </td><td>-0.48505882  </td><td> 0.10460656  </td><td>-0.082132802 </td><td>-0.0062352914</td></tr>\n",
       "\t<tr><td>BRA          </td><td>  6.3348740  </td><td> 0.7240189   </td><td>-0.22250549  </td><td>-0.18099578  </td><td> 0.01147622  </td><td> 0.008477327 </td><td> 0.0294356049</td></tr>\n",
       "</tbody>\n",
       "</table>\n"
      ],
      "text/latex": [
       "\\begin{tabular}{r|llllllll}\n",
       " Country & Comp.1 & Comp.2 & Comp.3 & Comp.4 & Comp.5 & Comp.6 & Comp.7\\\\\n",
       "\\hline\n",
       "\t ARG           &   3.2173904   & -0.8550659    & -0.06070576   & -0.28983107   &  0.25592070   &  0.059231461  &  0.0005619794\\\\\n",
       "\t AUS           &  10.4529924   &  2.2790525    & -0.25585771   &  0.14908698   &  0.11270809   &  0.009042302  & -0.0240115435\\\\\n",
       "\t AUT           &  -0.5440192   &  1.5468370    &  0.20234078   &  0.09185523   & -0.03281219   & -0.052436540  &  0.0385870352\\\\\n",
       "\t BEL           &  10.5872958   & -0.5138938    &  0.09198800   & -0.41590033   &  0.03304306   &  0.003534003  &  0.0150943480\\\\\n",
       "\t BER           & -20.5753000   &  1.1584461    &  0.28974010   & -0.48505882   &  0.10460656   & -0.082132802  & -0.0062352914\\\\\n",
       "\t BRA           &   6.3348740   &  0.7240189    & -0.22250549   & -0.18099578   &  0.01147622   &  0.008477327  &  0.0294356049\\\\\n",
       "\\end{tabular}\n"
      ],
      "text/markdown": [
       "\n",
       "Country | Comp.1 | Comp.2 | Comp.3 | Comp.4 | Comp.5 | Comp.6 | Comp.7 | \n",
       "|---|---|---|---|---|---|\n",
       "| ARG           |   3.2173904   | -0.8550659    | -0.06070576   | -0.28983107   |  0.25592070   |  0.059231461  |  0.0005619794 | \n",
       "| AUS           |  10.4529924   |  2.2790525    | -0.25585771   |  0.14908698   |  0.11270809   |  0.009042302  | -0.0240115435 | \n",
       "| AUT           |  -0.5440192   |  1.5468370    |  0.20234078   |  0.09185523   | -0.03281219   | -0.052436540  |  0.0385870352 | \n",
       "| BEL           |  10.5872958   | -0.5138938    |  0.09198800   | -0.41590033   |  0.03304306   |  0.003534003  |  0.0150943480 | \n",
       "| BER           | -20.5753000   |  1.1584461    |  0.28974010   | -0.48505882   |  0.10460656   | -0.082132802  | -0.0062352914 | \n",
       "| BRA           |   6.3348740   |  0.7240189    | -0.22250549   | -0.18099578   |  0.01147622   |  0.008477327  |  0.0294356049 | \n",
       "\n",
       "\n"
      ],
      "text/plain": [
       "  Country Comp.1      Comp.2     Comp.3      Comp.4      Comp.5     \n",
       "1 ARG       3.2173904 -0.8550659 -0.06070576 -0.28983107  0.25592070\n",
       "2 AUS      10.4529924  2.2790525 -0.25585771  0.14908698  0.11270809\n",
       "3 AUT      -0.5440192  1.5468370  0.20234078  0.09185523 -0.03281219\n",
       "4 BEL      10.5872958 -0.5138938  0.09198800 -0.41590033  0.03304306\n",
       "5 BER     -20.5753000  1.1584461  0.28974010 -0.48505882  0.10460656\n",
       "6 BRA       6.3348740  0.7240189 -0.22250549 -0.18099578  0.01147622\n",
       "  Comp.6       Comp.7       \n",
       "1  0.059231461  0.0005619794\n",
       "2  0.009042302 -0.0240115435\n",
       "3 -0.052436540  0.0385870352\n",
       "4  0.003534003  0.0150943480\n",
       "5 -0.082132802 -0.0062352914\n",
       "6  0.008477327  0.0294356049"
      ]
     },
     "metadata": {},
     "output_type": "display_data"
    }
   ],
   "source": [
    "# Adding country names back to scores\n",
    "\n",
    "PCWomen = cbind(women[,1], as.data.frame(pcaFit$scores))\n",
    "colnames(PCWomen)[1] = \"Country\"\n",
    "head(PCWomen)"
   ]
  },
  {
   "cell_type": "code",
   "execution_count": 218,
   "metadata": {},
   "outputs": [
    {
     "data": {
      "text/html": [
       "<table>\n",
       "<thead><tr><th scope=col>Country</th><th scope=col>Comp.1</th></tr></thead>\n",
       "<tbody>\n",
       "\t<tr><td>ARG        </td><td>  3.2173904</td></tr>\n",
       "\t<tr><td>AUS        </td><td> 10.4529924</td></tr>\n",
       "\t<tr><td>AUT        </td><td> -0.5440192</td></tr>\n",
       "\t<tr><td>BEL        </td><td> 10.5872958</td></tr>\n",
       "\t<tr><td>BER        </td><td>-20.5753000</td></tr>\n",
       "\t<tr><td>BRA        </td><td>  6.3348740</td></tr>\n",
       "</tbody>\n",
       "</table>\n"
      ],
      "text/latex": [
       "\\begin{tabular}{r|ll}\n",
       " Country & Comp.1\\\\\n",
       "\\hline\n",
       "\t ARG         &   3.2173904\\\\\n",
       "\t AUS         &  10.4529924\\\\\n",
       "\t AUT         &  -0.5440192\\\\\n",
       "\t BEL         &  10.5872958\\\\\n",
       "\t BER         & -20.5753000\\\\\n",
       "\t BRA         &   6.3348740\\\\\n",
       "\\end{tabular}\n"
      ],
      "text/markdown": [
       "\n",
       "Country | Comp.1 | \n",
       "|---|---|---|---|---|---|\n",
       "| ARG         |   3.2173904 | \n",
       "| AUS         |  10.4529924 | \n",
       "| AUT         |  -0.5440192 | \n",
       "| BEL         |  10.5872958 | \n",
       "| BER         | -20.5753000 | \n",
       "| BRA         |   6.3348740 | \n",
       "\n",
       "\n"
      ],
      "text/plain": [
       "  Country Comp.1     \n",
       "1 ARG       3.2173904\n",
       "2 AUS      10.4529924\n",
       "3 AUT      -0.5440192\n",
       "4 BEL      10.5872958\n",
       "5 BER     -20.5753000\n",
       "6 BRA       6.3348740"
      ]
     },
     "metadata": {},
     "output_type": "display_data"
    },
    {
     "data": {
      "text/html": [
       "<table>\n",
       "<thead><tr><th></th><th scope=col>Country</th><th scope=col>Comp.1</th></tr></thead>\n",
       "<tbody>\n",
       "\t<tr><th scope=row>19</th><td>GBR     </td><td>18.58051</td></tr>\n",
       "\t<tr><th scope=row>29</th><td>KEN     </td><td>15.09708</td></tr>\n",
       "\t<tr><th scope=row>9</th><td>CHN     </td><td>14.45185</td></tr>\n",
       "\t<tr><th scope=row>28</th><td>JPN     </td><td>14.11345</td></tr>\n",
       "\t<tr><th scope=row>54</th><td>USA     </td><td>12.81715</td></tr>\n",
       "\t<tr><th scope=row>18</th><td>GER     </td><td>12.63928</td></tr>\n",
       "</tbody>\n",
       "</table>\n"
      ],
      "text/latex": [
       "\\begin{tabular}{r|ll}\n",
       "  & Country & Comp.1\\\\\n",
       "\\hline\n",
       "\t19 & GBR      & 18.58051\\\\\n",
       "\t29 & KEN      & 15.09708\\\\\n",
       "\t9 & CHN      & 14.45185\\\\\n",
       "\t28 & JPN      & 14.11345\\\\\n",
       "\t54 & USA      & 12.81715\\\\\n",
       "\t18 & GER      & 12.63928\\\\\n",
       "\\end{tabular}\n"
      ],
      "text/markdown": [
       "\n",
       "| <!--/--> | Country | Comp.1 | \n",
       "|---|---|---|---|---|---|\n",
       "| 19 | GBR      | 18.58051 | \n",
       "| 29 | KEN      | 15.09708 | \n",
       "| 9 | CHN      | 14.45185 | \n",
       "| 28 | JPN      | 14.11345 | \n",
       "| 54 | USA      | 12.81715 | \n",
       "| 18 | GER      | 12.63928 | \n",
       "\n",
       "\n"
      ],
      "text/plain": [
       "   Country Comp.1  \n",
       "19 GBR     18.58051\n",
       "29 KEN     15.09708\n",
       "9  CHN     14.45185\n",
       "28 JPN     14.11345\n",
       "54 USA     12.81715\n",
       "18 GER     12.63928"
      ]
     },
     "metadata": {},
     "output_type": "display_data"
    }
   ],
   "source": [
    "# Sorting countries based only on PC1\n",
    "dimReducedWomen = PCWomen[,1:2]\n",
    "head(dimReducedWomen)\n",
    "dimReducedWomenOrdered = dimReducedWomen[order(-dimReducedWomen[,2]),]\n",
    "head(dimReducedWomenOrdered)"
   ]
  },
  {
   "cell_type": "markdown",
   "metadata": {},
   "source": [
    "In examining the results based on ordering countries by first principal component scores, we get countries that would intuitively be the best in the world at track. \n",
    "\n",
    "#### Problem 1E"
   ]
  },
  {
   "cell_type": "code",
   "execution_count": 228,
   "metadata": {},
   "outputs": [
    {
     "data": {
      "text/html": [
       "<table>\n",
       "<thead><tr><th scope=col>100m</th><th scope=col>200m</th><th scope=col>400m</th><th scope=col>800m</th><th scope=col>1500m</th><th scope=col>3000m</th><th scope=col>Marathon</th></tr></thead>\n",
       "<tbody>\n",
       "\t<tr><td>8.643042</td><td>8.718396</td><td>7.619048</td><td>6.504065</td><td>5.882353</td><td>5.440696</td><td>4.678353</td></tr>\n",
       "\t<tr><td>8.992806</td><td>8.996851</td><td>8.225375</td><td>6.734007</td><td>6.218905</td><td>5.793743</td><td>4.900355</td></tr>\n",
       "\t<tr><td>8.968610</td><td>8.810573</td><td>7.902015</td><td>6.872852</td><td>6.172840</td><td>5.694761</td><td>4.556203</td></tr>\n",
       "\t<tr><td>8.976661</td><td>8.896797</td><td>7.774538</td><td>6.768190</td><td>6.127451</td><td>5.668934</td><td>4.916113</td></tr>\n",
       "\t<tr><td>8.726003</td><td>8.676790</td><td>7.504690</td><td>6.441224</td><td>5.827506</td><td>5.096840</td><td>4.037490</td></tr>\n",
       "\t<tr><td>8.952551</td><td>8.849558</td><td>7.902015</td><td>6.768190</td><td>5.995204</td><td>5.530973</td><td>4.770708</td></tr>\n",
       "</tbody>\n",
       "</table>\n"
      ],
      "text/latex": [
       "\\begin{tabular}{lllllll}\n",
       " 100m & 200m & 400m & 800m & 1500m & 3000m & Marathon\\\\\n",
       "\\hline\n",
       "\t 8.643042 & 8.718396 & 7.619048 & 6.504065 & 5.882353 & 5.440696 & 4.678353\\\\\n",
       "\t 8.992806 & 8.996851 & 8.225375 & 6.734007 & 6.218905 & 5.793743 & 4.900355\\\\\n",
       "\t 8.968610 & 8.810573 & 7.902015 & 6.872852 & 6.172840 & 5.694761 & 4.556203\\\\\n",
       "\t 8.976661 & 8.896797 & 7.774538 & 6.768190 & 6.127451 & 5.668934 & 4.916113\\\\\n",
       "\t 8.726003 & 8.676790 & 7.504690 & 6.441224 & 5.827506 & 5.096840 & 4.037490\\\\\n",
       "\t 8.952551 & 8.849558 & 7.902015 & 6.768190 & 5.995204 & 5.530973 & 4.770708\\\\\n",
       "\\end{tabular}\n"
      ],
      "text/markdown": [
       "\n",
       "100m | 200m | 400m | 800m | 1500m | 3000m | Marathon | \n",
       "|---|---|---|---|---|---|\n",
       "| 8.643042 | 8.718396 | 7.619048 | 6.504065 | 5.882353 | 5.440696 | 4.678353 | \n",
       "| 8.992806 | 8.996851 | 8.225375 | 6.734007 | 6.218905 | 5.793743 | 4.900355 | \n",
       "| 8.968610 | 8.810573 | 7.902015 | 6.872852 | 6.172840 | 5.694761 | 4.556203 | \n",
       "| 8.976661 | 8.896797 | 7.774538 | 6.768190 | 6.127451 | 5.668934 | 4.916113 | \n",
       "| 8.726003 | 8.676790 | 7.504690 | 6.441224 | 5.827506 | 5.096840 | 4.037490 | \n",
       "| 8.952551 | 8.849558 | 7.902015 | 6.768190 | 5.995204 | 5.530973 | 4.770708 | \n",
       "\n",
       "\n"
      ],
      "text/plain": [
       "     100m     200m     400m     800m     1500m    3000m    Marathon\n",
       "[1,] 8.643042 8.718396 7.619048 6.504065 5.882353 5.440696 4.678353\n",
       "[2,] 8.992806 8.996851 8.225375 6.734007 6.218905 5.793743 4.900355\n",
       "[3,] 8.968610 8.810573 7.902015 6.872852 6.172840 5.694761 4.556203\n",
       "[4,] 8.976661 8.896797 7.774538 6.768190 6.127451 5.668934 4.916113\n",
       "[5,] 8.726003 8.676790 7.504690 6.441224 5.827506 5.096840 4.037490\n",
       "[6,] 8.952551 8.849558 7.902015 6.768190 5.995204 5.530973 4.770708"
      ]
     },
     "metadata": {},
     "output_type": "display_data"
    },
    {
     "data": {
      "text/html": [
       "<table>\n",
       "<thead><tr><th scope=col>100m</th><th scope=col>200m</th><th scope=col>400m</th><th scope=col>800m</th><th scope=col>1500m</th><th scope=col>3000m</th><th scope=col>Marathon</th></tr></thead>\n",
       "<tbody>\n",
       "\t<tr><td>-0.1717296  </td><td>0.05398771  </td><td>-0.09301975 </td><td>-0.1001494  </td><td>-0.107334149</td><td>-0.10200509 </td><td> 0.05808862 </td></tr>\n",
       "\t<tr><td> 0.1780338  </td><td>0.33244299  </td><td> 0.51330791 </td><td> 0.1297923  </td><td> 0.229218382</td><td> 0.25104126 </td><td> 0.28009115 </td></tr>\n",
       "\t<tr><td> 0.1538379  </td><td>0.14616458  </td><td> 0.18994764 </td><td> 0.2686378  </td><td> 0.183152416</td><td> 0.15205932 </td><td>-0.06406079 </td></tr>\n",
       "\t<tr><td> 0.1618887  </td><td>0.23238905  </td><td> 0.06247102 </td><td> 0.1639751  </td><td> 0.137763890</td><td> 0.12623274 </td><td> 0.29584902 </td></tr>\n",
       "\t<tr><td>-0.0887685  </td><td>0.01238148  </td><td>-0.20737694 </td><td>-0.1629906  </td><td>-0.162181263</td><td>-0.44586154 </td><td>-0.58277427 </td></tr>\n",
       "\t<tr><td> 0.1377795  </td><td>0.18514941  </td><td> 0.18994764 </td><td> 0.1639751  </td><td> 0.005516747</td><td>-0.01172805 </td><td> 0.15044333 </td></tr>\n",
       "</tbody>\n",
       "</table>\n"
      ],
      "text/latex": [
       "\\begin{tabular}{lllllll}\n",
       " 100m & 200m & 400m & 800m & 1500m & 3000m & Marathon\\\\\n",
       "\\hline\n",
       "\t -0.1717296   & 0.05398771   & -0.09301975  & -0.1001494   & -0.107334149 & -0.10200509  &  0.05808862 \\\\\n",
       "\t  0.1780338   & 0.33244299   &  0.51330791  &  0.1297923   &  0.229218382 &  0.25104126  &  0.28009115 \\\\\n",
       "\t  0.1538379   & 0.14616458   &  0.18994764  &  0.2686378   &  0.183152416 &  0.15205932  & -0.06406079 \\\\\n",
       "\t  0.1618887   & 0.23238905   &  0.06247102  &  0.1639751   &  0.137763890 &  0.12623274  &  0.29584902 \\\\\n",
       "\t -0.0887685   & 0.01238148   & -0.20737694  & -0.1629906   & -0.162181263 & -0.44586154  & -0.58277427 \\\\\n",
       "\t  0.1377795   & 0.18514941   &  0.18994764  &  0.1639751   &  0.005516747 & -0.01172805  &  0.15044333 \\\\\n",
       "\\end{tabular}\n"
      ],
      "text/markdown": [
       "\n",
       "100m | 200m | 400m | 800m | 1500m | 3000m | Marathon | \n",
       "|---|---|---|---|---|---|\n",
       "| -0.1717296   | 0.05398771   | -0.09301975  | -0.1001494   | -0.107334149 | -0.10200509  |  0.05808862  | \n",
       "|  0.1780338   | 0.33244299   |  0.51330791  |  0.1297923   |  0.229218382 |  0.25104126  |  0.28009115  | \n",
       "|  0.1538379   | 0.14616458   |  0.18994764  |  0.2686378   |  0.183152416 |  0.15205932  | -0.06406079  | \n",
       "|  0.1618887   | 0.23238905   |  0.06247102  |  0.1639751   |  0.137763890 |  0.12623274  |  0.29584902  | \n",
       "| -0.0887685   | 0.01238148   | -0.20737694  | -0.1629906   | -0.162181263 | -0.44586154  | -0.58277427  | \n",
       "|  0.1377795   | 0.18514941   |  0.18994764  |  0.1639751   |  0.005516747 | -0.01172805  |  0.15044333  | \n",
       "\n",
       "\n"
      ],
      "text/plain": [
       "     100m       200m       400m        800m       1500m        3000m      \n",
       "[1,] -0.1717296 0.05398771 -0.09301975 -0.1001494 -0.107334149 -0.10200509\n",
       "[2,]  0.1780338 0.33244299  0.51330791  0.1297923  0.229218382  0.25104126\n",
       "[3,]  0.1538379 0.14616458  0.18994764  0.2686378  0.183152416  0.15205932\n",
       "[4,]  0.1618887 0.23238905  0.06247102  0.1639751  0.137763890  0.12623274\n",
       "[5,] -0.0887685 0.01238148 -0.20737694 -0.1629906 -0.162181263 -0.44586154\n",
       "[6,]  0.1377795 0.18514941  0.18994764  0.1639751  0.005516747 -0.01172805\n",
       "     Marathon   \n",
       "[1,]  0.05808862\n",
       "[2,]  0.28009115\n",
       "[3,] -0.06406079\n",
       "[4,]  0.29584902\n",
       "[5,] -0.58277427\n",
       "[6,]  0.15044333"
      ]
     },
     "metadata": {},
     "output_type": "display_data"
    }
   ],
   "source": [
    "# Converting to time to m/s\n",
    "\n",
    "womenSpeeds = cbind(\n",
    "    100/women[,2],\n",
    "    200/women[,3],\n",
    "    400/women[,4],\n",
    "    800/(women[,5]*60),\n",
    "    1500/(women[,6]*60),\n",
    "    3000/(women[,7]*60),\n",
    "    42195/(women[,8]*60)\n",
    ")\n",
    "colnames(womenSpeeds) = c(\"100m\", \"200m\", \"400m\", \"800m\", \"1500m\", \"3000m\", \"Marathon\")\n",
    "head(womenSpeeds)\n",
    "\n",
    "standardizedWomenSpeeds = apply(womenSpeeds, 2, center)\n",
    "head(standardizedWomenSpeeds)"
   ]
  },
  {
   "cell_type": "code",
   "execution_count": 246,
   "metadata": {},
   "outputs": [
    {
     "data": {
      "text/html": [
       "<table>\n",
       "<thead><tr><th></th><th scope=col>Comp.1</th><th scope=col>Comp.2</th></tr></thead>\n",
       "<tbody>\n",
       "\t<tr><th scope=row>100m</th><td>0.8919935  </td><td> 0.34956718</td></tr>\n",
       "\t<tr><th scope=row>200m</th><td>0.9081678  </td><td> 0.36064894</td></tr>\n",
       "\t<tr><th scope=row>400m</th><td>0.8779449  </td><td> 0.39229996</td></tr>\n",
       "\t<tr><th scope=row>800m</th><td>0.9491733  </td><td>-0.07404633</td></tr>\n",
       "\t<tr><th scope=row>1500m</th><td>0.9410317  </td><td>-0.19258749</td></tr>\n",
       "\t<tr><th scope=row>3000m</th><td>0.9107122  </td><td>-0.28356140</td></tr>\n",
       "\t<tr><th scope=row>Marathon</th><td>0.8653738  </td><td>-0.30107320</td></tr>\n",
       "</tbody>\n",
       "</table>\n"
      ],
      "text/latex": [
       "\\begin{tabular}{r|ll}\n",
       "  & Comp.1 & Comp.2\\\\\n",
       "\\hline\n",
       "\t100m & 0.8919935   &  0.34956718\\\\\n",
       "\t200m & 0.9081678   &  0.36064894\\\\\n",
       "\t400m & 0.8779449   &  0.39229996\\\\\n",
       "\t800m & 0.9491733   & -0.07404633\\\\\n",
       "\t1500m & 0.9410317   & -0.19258749\\\\\n",
       "\t3000m & 0.9107122   & -0.28356140\\\\\n",
       "\tMarathon & 0.8653738   & -0.30107320\\\\\n",
       "\\end{tabular}\n"
      ],
      "text/markdown": [
       "\n",
       "| <!--/--> | Comp.1 | Comp.2 | \n",
       "|---|---|---|---|---|---|---|\n",
       "| 100m | 0.8919935   |  0.34956718 | \n",
       "| 200m | 0.9081678   |  0.36064894 | \n",
       "| 400m | 0.8779449   |  0.39229996 | \n",
       "| 800m | 0.9491733   | -0.07404633 | \n",
       "| 1500m | 0.9410317   | -0.19258749 | \n",
       "| 3000m | 0.9107122   | -0.28356140 | \n",
       "| Marathon | 0.8653738   | -0.30107320 | \n",
       "\n",
       "\n"
      ],
      "text/plain": [
       "         Comp.1    Comp.2     \n",
       "100m     0.8919935  0.34956718\n",
       "200m     0.9081678  0.36064894\n",
       "400m     0.8779449  0.39229996\n",
       "800m     0.9491733 -0.07404633\n",
       "1500m    0.9410317 -0.19258749\n",
       "3000m    0.9107122 -0.28356140\n",
       "Marathon 0.8653738 -0.30107320"
      ]
     },
     "metadata": {},
     "output_type": "display_data"
    },
    {
     "data": {
      "text/plain": [
       "\n",
       "Loadings:\n",
       "         Comp.1 Comp.2 Comp.3 Comp.4 Comp.5 Comp.6 Comp.7\n",
       "100m     -0.310 -0.376         0.585         0.624  0.138\n",
       "200m     -0.357 -0.434         0.323        -0.689 -0.311\n",
       "400m     -0.379 -0.519  0.274 -0.667  0.187  0.124  0.132\n",
       "800m     -0.299               -0.128 -0.894  0.136 -0.265\n",
       "1500m    -0.391  0.211 -0.435        -0.127 -0.236  0.734\n",
       "3000m    -0.460  0.396 -0.427 -0.184  0.357  0.199 -0.499\n",
       "Marathon -0.423  0.445  0.730  0.237  0.136              \n",
       "\n",
       "               Comp.1 Comp.2 Comp.3 Comp.4 Comp.5 Comp.6 Comp.7\n",
       "SS loadings     1.000  1.000  1.000  1.000  1.000  1.000  1.000\n",
       "Proportion Var  0.143  0.143  0.143  0.143  0.143  0.143  0.143\n",
       "Cumulative Var  0.143  0.286  0.429  0.571  0.714  0.857  1.000"
      ]
     },
     "metadata": {},
     "output_type": "display_data"
    },
    {
     "data": {
      "text/plain": [
       "Importance of components:\n",
       "                          Comp.1     Comp.2     Comp.3     Comp.4     Comp.5\n",
       "Standard deviation     0.8476961 0.29065087 0.18100245 0.12124349 0.09320466\n",
       "Proportion of Variance 0.8285389 0.09740377 0.03777473 0.01694921 0.01001631\n",
       "Cumulative Proportion  0.8285389 0.92594269 0.96371742 0.98066663 0.99068294\n",
       "                            Comp.6      Comp.7\n",
       "Standard deviation     0.077803348 0.045025448\n",
       "Proportion of Variance 0.006979577 0.002337484\n",
       "Cumulative Proportion  0.997662516 1.000000000"
      ]
     },
     "metadata": {},
     "output_type": "display_data"
    }
   ],
   "source": [
    "# Running PCA on the new dataset and comparing to the previous set of loadings\n",
    "pcaFitWomenSpeeds = princomp(standardizedWomenSpeeds)\n",
    "\n",
    "# Examining the correlation between the original variables and PCs \n",
    "cor(x=standardizedWomen, y=pcaFitWomenSpeeds$scores)[,1:2]\n",
    "\n",
    "pcaFitWomenSpeeds$loadings\n",
    "summary(pcaFitWomenSpeeds)"
   ]
  },
  {
   "cell_type": "code",
   "execution_count": 243,
   "metadata": {},
   "outputs": [
    {
     "data": {
      "text/html": [
       "<table>\n",
       "<thead><tr><th scope=col>Country</th><th scope=col>Comp.1</th><th scope=col>Comp.2</th><th scope=col>Comp.3</th><th scope=col>Comp.4</th><th scope=col>Comp.5</th><th scope=col>Comp.6</th><th scope=col>Comp.7</th></tr></thead>\n",
       "<tbody>\n",
       "\t<tr><td>ARG        </td><td> 0.1635073 </td><td> 0.04692099</td><td> 0.11381196</td><td> 0.03027142</td><td> 0.05102581</td><td>-0.16919941</td><td>-0.04848137</td></tr>\n",
       "\t<tr><td>AUS        </td><td>-0.7307601 </td><td>-0.19835239</td><td> 0.09838941</td><td>-0.13986402</td><td> 0.09675452</td><td>-0.06346773</td><td> 0.02394173</td></tr>\n",
       "\t<tr><td>AUT        </td><td>-0.3667764 </td><td>-0.13521031</td><td>-0.15313758</td><td>-0.07710711</td><td>-0.17103151</td><td> 0.04762582</td><td>-0.01799413</td></tr>\n",
       "\t<tr><td>BEL        </td><td>-0.4429985 </td><td> 0.02515002</td><td> 0.09155928</td><td> 0.14629341</td><td>-0.05270801</td><td>-0.06033366</td><td>-0.01897176</td></tr>\n",
       "\t<tr><td>BER        </td><td> 0.6651627 </td><td>-0.34274202</td><td>-0.22271265</td><td> 0.06416636</td><td>-0.11470105</td><td>-0.11505330</td><td> 0.04795862</td></tr>\n",
       "\t<tr><td>BRA        </td><td>-0.2903061 </td><td>-0.15852299</td><td> 0.14326748</td><td> 0.03018820</td><td>-0.08357439</td><td>-0.01153138</td><td>-0.03272404</td></tr>\n",
       "</tbody>\n",
       "</table>\n"
      ],
      "text/latex": [
       "\\begin{tabular}{r|llllllll}\n",
       " Country & Comp.1 & Comp.2 & Comp.3 & Comp.4 & Comp.5 & Comp.6 & Comp.7\\\\\n",
       "\\hline\n",
       "\t ARG         &  0.1635073  &  0.04692099 &  0.11381196 &  0.03027142 &  0.05102581 & -0.16919941 & -0.04848137\\\\\n",
       "\t AUS         & -0.7307601  & -0.19835239 &  0.09838941 & -0.13986402 &  0.09675452 & -0.06346773 &  0.02394173\\\\\n",
       "\t AUT         & -0.3667764  & -0.13521031 & -0.15313758 & -0.07710711 & -0.17103151 &  0.04762582 & -0.01799413\\\\\n",
       "\t BEL         & -0.4429985  &  0.02515002 &  0.09155928 &  0.14629341 & -0.05270801 & -0.06033366 & -0.01897176\\\\\n",
       "\t BER         &  0.6651627  & -0.34274202 & -0.22271265 &  0.06416636 & -0.11470105 & -0.11505330 &  0.04795862\\\\\n",
       "\t BRA         & -0.2903061  & -0.15852299 &  0.14326748 &  0.03018820 & -0.08357439 & -0.01153138 & -0.03272404\\\\\n",
       "\\end{tabular}\n"
      ],
      "text/markdown": [
       "\n",
       "Country | Comp.1 | Comp.2 | Comp.3 | Comp.4 | Comp.5 | Comp.6 | Comp.7 | \n",
       "|---|---|---|---|---|---|\n",
       "| ARG         |  0.1635073  |  0.04692099 |  0.11381196 |  0.03027142 |  0.05102581 | -0.16919941 | -0.04848137 | \n",
       "| AUS         | -0.7307601  | -0.19835239 |  0.09838941 | -0.13986402 |  0.09675452 | -0.06346773 |  0.02394173 | \n",
       "| AUT         | -0.3667764  | -0.13521031 | -0.15313758 | -0.07710711 | -0.17103151 |  0.04762582 | -0.01799413 | \n",
       "| BEL         | -0.4429985  |  0.02515002 |  0.09155928 |  0.14629341 | -0.05270801 | -0.06033366 | -0.01897176 | \n",
       "| BER         |  0.6651627  | -0.34274202 | -0.22271265 |  0.06416636 | -0.11470105 | -0.11505330 |  0.04795862 | \n",
       "| BRA         | -0.2903061  | -0.15852299 |  0.14326748 |  0.03018820 | -0.08357439 | -0.01153138 | -0.03272404 | \n",
       "\n",
       "\n"
      ],
      "text/plain": [
       "  Country Comp.1     Comp.2      Comp.3      Comp.4      Comp.5     \n",
       "1 ARG      0.1635073  0.04692099  0.11381196  0.03027142  0.05102581\n",
       "2 AUS     -0.7307601 -0.19835239  0.09838941 -0.13986402  0.09675452\n",
       "3 AUT     -0.3667764 -0.13521031 -0.15313758 -0.07710711 -0.17103151\n",
       "4 BEL     -0.4429985  0.02515002  0.09155928  0.14629341 -0.05270801\n",
       "5 BER      0.6651627 -0.34274202 -0.22271265  0.06416636 -0.11470105\n",
       "6 BRA     -0.2903061 -0.15852299  0.14326748  0.03018820 -0.08357439\n",
       "  Comp.6      Comp.7     \n",
       "1 -0.16919941 -0.04848137\n",
       "2 -0.06346773  0.02394173\n",
       "3  0.04762582 -0.01799413\n",
       "4 -0.06033366 -0.01897176\n",
       "5 -0.11505330  0.04795862\n",
       "6 -0.01153138 -0.03272404"
      ]
     },
     "metadata": {},
     "output_type": "display_data"
    },
    {
     "data": {
      "text/html": [
       "<table>\n",
       "<thead><tr><th scope=col>Country</th><th scope=col>Comp.1</th></tr></thead>\n",
       "<tbody>\n",
       "\t<tr><td>ARG       </td><td> 0.1635073</td></tr>\n",
       "\t<tr><td>AUS       </td><td>-0.7307601</td></tr>\n",
       "\t<tr><td>AUT       </td><td>-0.3667764</td></tr>\n",
       "\t<tr><td>BEL       </td><td>-0.4429985</td></tr>\n",
       "\t<tr><td>BER       </td><td> 0.6651627</td></tr>\n",
       "\t<tr><td>BRA       </td><td>-0.2903061</td></tr>\n",
       "</tbody>\n",
       "</table>\n"
      ],
      "text/latex": [
       "\\begin{tabular}{r|ll}\n",
       " Country & Comp.1\\\\\n",
       "\\hline\n",
       "\t ARG        &  0.1635073\\\\\n",
       "\t AUS        & -0.7307601\\\\\n",
       "\t AUT        & -0.3667764\\\\\n",
       "\t BEL        & -0.4429985\\\\\n",
       "\t BER        &  0.6651627\\\\\n",
       "\t BRA        & -0.2903061\\\\\n",
       "\\end{tabular}\n"
      ],
      "text/markdown": [
       "\n",
       "Country | Comp.1 | \n",
       "|---|---|---|---|---|---|\n",
       "| ARG        |  0.1635073 | \n",
       "| AUS        | -0.7307601 | \n",
       "| AUT        | -0.3667764 | \n",
       "| BEL        | -0.4429985 | \n",
       "| BER        |  0.6651627 | \n",
       "| BRA        | -0.2903061 | \n",
       "\n",
       "\n"
      ],
      "text/plain": [
       "  Country Comp.1    \n",
       "1 ARG      0.1635073\n",
       "2 AUS     -0.7307601\n",
       "3 AUT     -0.3667764\n",
       "4 BEL     -0.4429985\n",
       "5 BER      0.6651627\n",
       "6 BRA     -0.2903061"
      ]
     },
     "metadata": {},
     "output_type": "display_data"
    },
    {
     "data": {
      "text/html": [
       "<table>\n",
       "<thead><tr><th></th><th scope=col>Country</th><th scope=col>Comp.1</th></tr></thead>\n",
       "<tbody>\n",
       "\t<tr><th scope=row>54</th><td>USA      </td><td>-1.201996</td></tr>\n",
       "\t<tr><th scope=row>9</th><td>CHN      </td><td>-1.176150</td></tr>\n",
       "\t<tr><th scope=row>45</th><td>RUS      </td><td>-1.123772</td></tr>\n",
       "\t<tr><th scope=row>18</th><td>GER      </td><td>-1.122766</td></tr>\n",
       "\t<tr><th scope=row>19</th><td>GBR      </td><td>-0.985712</td></tr>\n",
       "\t<tr><th scope=row>17</th><td>FRA      </td><td>-0.857734</td></tr>\n",
       "</tbody>\n",
       "</table>\n"
      ],
      "text/latex": [
       "\\begin{tabular}{r|ll}\n",
       "  & Country & Comp.1\\\\\n",
       "\\hline\n",
       "\t54 & USA       & -1.201996\\\\\n",
       "\t9 & CHN       & -1.176150\\\\\n",
       "\t45 & RUS       & -1.123772\\\\\n",
       "\t18 & GER       & -1.122766\\\\\n",
       "\t19 & GBR       & -0.985712\\\\\n",
       "\t17 & FRA       & -0.857734\\\\\n",
       "\\end{tabular}\n"
      ],
      "text/markdown": [
       "\n",
       "| <!--/--> | Country | Comp.1 | \n",
       "|---|---|---|---|---|---|\n",
       "| 54 | USA       | -1.201996 | \n",
       "| 9 | CHN       | -1.176150 | \n",
       "| 45 | RUS       | -1.123772 | \n",
       "| 18 | GER       | -1.122766 | \n",
       "| 19 | GBR       | -0.985712 | \n",
       "| 17 | FRA       | -0.857734 | \n",
       "\n",
       "\n"
      ],
      "text/plain": [
       "   Country Comp.1   \n",
       "54 USA     -1.201996\n",
       "9  CHN     -1.176150\n",
       "45 RUS     -1.123772\n",
       "18 GER     -1.122766\n",
       "19 GBR     -0.985712\n",
       "17 FRA     -0.857734"
      ]
     },
     "metadata": {},
     "output_type": "display_data"
    }
   ],
   "source": [
    "# Adding country name back to scores\n",
    "PCWomenSpeeds = cbind(women[,1], as.data.frame(pcaFitWomenSpeeds$scores))\n",
    "colnames(PCWomenSpeeds)[1] = \"Country\"\n",
    "head(PCWomenSpeeds)\n",
    "\n",
    "# Sorting countries based only on PC1\n",
    "dimReducedWomenSpeeds = PCWomenSpeeds[,1:2]\n",
    "head(dimReducedWomenSpeeds)\n",
    "dimReducedWomenSpeedsOrdered = {\n",
    "    dimReducedWomenSpeeds[order(dimReducedWomenSpeeds[,2]),]\n",
    "}\n",
    "head(dimReducedWomenSpeedsOrdered)"
   ]
  },
  {
   "cell_type": "markdown",
   "metadata": {},
   "source": [
    "So... our results are a bit different, but not drastically so. One thing I'm somewhat uncertain about is whether I needed to standardize, rather than just center my data before running princomp on it -- in both cases, I just centered so at least I kept it consistent, but I think there's something to be said about the need for standardization here with different units (seconds vs minutes). \n",
    "\n",
    "In terms of interpretation, the components are actually quite different, possibly due to our shift in units (essentially de facto standardization by switching everything to m/s). That said, we still acheived roughly the same results (still matching intuition) because the first two PCs account for roughly the same variation in the dataset, albeit in subtly different ways. \n",
    "\n",
    "#### Problem 1F"
   ]
  },
  {
   "cell_type": "code",
   "execution_count": 248,
   "metadata": {},
   "outputs": [
    {
     "data": {
      "text/html": [
       "<table>\n",
       "<thead><tr><th></th><th scope=col>Comp.1</th><th scope=col>Comp.2</th></tr></thead>\n",
       "<tbody>\n",
       "\t<tr><th scope=row>100m</th><td>-0.6863014 </td><td>-0.48250693</td></tr>\n",
       "\t<tr><th scope=row>200m</th><td>-0.7307341 </td><td>-0.49239083</td></tr>\n",
       "\t<tr><th scope=row>400m</th><td>-0.7257308 </td><td>-0.68042774</td></tr>\n",
       "\t<tr><th scope=row>800m</th><td>-0.8138640 </td><td>-0.28621813</td></tr>\n",
       "\t<tr><th scope=row>1500m</th><td>-0.8833311 </td><td>-0.21656608</td></tr>\n",
       "\t<tr><th scope=row>5000m</th><td>-0.9495998 </td><td>-0.16363965</td></tr>\n",
       "\t<tr><th scope=row>10000m</th><td>-0.9590991 </td><td>-0.13293332</td></tr>\n",
       "\t<tr><th scope=row>Marathon</th><td>-0.9997660 </td><td> 0.01998497</td></tr>\n",
       "</tbody>\n",
       "</table>\n"
      ],
      "text/latex": [
       "\\begin{tabular}{r|ll}\n",
       "  & Comp.1 & Comp.2\\\\\n",
       "\\hline\n",
       "\t100m & -0.6863014  & -0.48250693\\\\\n",
       "\t200m & -0.7307341  & -0.49239083\\\\\n",
       "\t400m & -0.7257308  & -0.68042774\\\\\n",
       "\t800m & -0.8138640  & -0.28621813\\\\\n",
       "\t1500m & -0.8833311  & -0.21656608\\\\\n",
       "\t5000m & -0.9495998  & -0.16363965\\\\\n",
       "\t10000m & -0.9590991  & -0.13293332\\\\\n",
       "\tMarathon & -0.9997660  &  0.01998497\\\\\n",
       "\\end{tabular}\n"
      ],
      "text/markdown": [
       "\n",
       "| <!--/--> | Comp.1 | Comp.2 | \n",
       "|---|---|---|---|---|---|---|---|\n",
       "| 100m | -0.6863014  | -0.48250693 | \n",
       "| 200m | -0.7307341  | -0.49239083 | \n",
       "| 400m | -0.7257308  | -0.68042774 | \n",
       "| 800m | -0.8138640  | -0.28621813 | \n",
       "| 1500m | -0.8833311  | -0.21656608 | \n",
       "| 5000m | -0.9495998  | -0.16363965 | \n",
       "| 10000m | -0.9590991  | -0.13293332 | \n",
       "| Marathon | -0.9997660  |  0.01998497 | \n",
       "\n",
       "\n"
      ],
      "text/plain": [
       "         Comp.1     Comp.2     \n",
       "100m     -0.6863014 -0.48250693\n",
       "200m     -0.7307341 -0.49239083\n",
       "400m     -0.7257308 -0.68042774\n",
       "800m     -0.8138640 -0.28621813\n",
       "1500m    -0.8833311 -0.21656608\n",
       "5000m    -0.9495998 -0.16363965\n",
       "10000m   -0.9590991 -0.13293332\n",
       "Marathon -0.9997660  0.01998497"
      ]
     },
     "metadata": {},
     "output_type": "display_data"
    }
   ],
   "source": [
    "# Running PCA on the new dataset\n",
    "pcaFitMen = princomp(standardizedMen)\n",
    "\n",
    "# Examining the correlation between the original variables and PCs \n",
    "cor(x=standardizedMen, y=pcaFitMen$scores)[,1:2]"
   ]
  },
  {
   "cell_type": "code",
   "execution_count": 249,
   "metadata": {},
   "outputs": [
    {
     "data": {
      "text/plain": [
       "\n",
       "Loadings:\n",
       "         Comp.1 Comp.2 Comp.3 Comp.4 Comp.5 Comp.6 Comp.7 Comp.8\n",
       "100m                          -0.324 -0.312  0.883              \n",
       "200m            -0.253        -0.897  0.172 -0.292              \n",
       "400m     -0.114 -0.916  0.253  0.288                            \n",
       "800m                                        -0.127  0.194 -0.971\n",
       "1500m                                -0.206 -0.110  0.945  0.215\n",
       "5000m           -0.117 -0.377        -0.826 -0.305 -0.246       \n",
       "10000m   -0.175 -0.209 -0.873         0.382  0.120              \n",
       "Marathon -0.974  0.167  0.155                                   \n",
       "\n",
       "               Comp.1 Comp.2 Comp.3 Comp.4 Comp.5 Comp.6 Comp.7 Comp.8\n",
       "SS loadings     1.000  1.000  1.000  1.000  1.000  1.000  1.000  1.000\n",
       "Proportion Var  0.125  0.125  0.125  0.125  0.125  0.125  0.125  0.125\n",
       "Cumulative Var  0.125  0.250  0.375  0.500  0.625  0.750  0.875  1.000"
      ]
     },
     "metadata": {},
     "output_type": "display_data"
    },
    {
     "data": {
      "text/plain": [
       "Importance of components:\n",
       "                          Comp.1     Comp.2      Comp.3       Comp.4\n",
       "Standard deviation     9.1072660 1.05839941 0.473844266 0.2812010715\n",
       "Proportion of Variance 0.9828776 0.01327463 0.002660692 0.0009370383\n",
       "Cumulative Proportion  0.9828776 0.99615224 0.998812929 0.9997499674\n",
       "                             Comp.5       Comp.6       Comp.7       Comp.8\n",
       "Standard deviation     0.1075227532 7.836237e-02 5.484458e-02 1.974378e-02\n",
       "Proportion of Variance 0.0001370011 7.276768e-05 3.564436e-05 4.619384e-06\n",
       "Cumulative Proportion  0.9998869686 9.999597e-01 9.999954e-01 1.000000e+00"
      ]
     },
     "metadata": {},
     "output_type": "display_data"
    }
   ],
   "source": [
    "# Examining loadings and proportions of variance\n",
    "pcaFitMen$loadings\n",
    "summary(pcaFitMen)"
   ]
  },
  {
   "cell_type": "code",
   "execution_count": 251,
   "metadata": {},
   "outputs": [
    {
     "data": {
      "text/html": [
       "<table>\n",
       "<thead><tr><th scope=col>Country</th><th scope=col>Comp.1</th><th scope=col>Comp.2</th><th scope=col>Comp.3</th><th scope=col>Comp.4</th><th scope=col>Comp.5</th><th scope=col>Comp.6</th><th scope=col>Comp.7</th><th scope=col>Comp.8</th></tr></thead>\n",
       "<tbody>\n",
       "\t<tr><td>Argentina   </td><td>  3.949866  </td><td>-0.71642187 </td><td> 0.3502378  </td><td>0.19323708  </td><td>-0.125843666</td><td> 0.02828136 </td><td> 0.06972650 </td><td>-0.004182508</td></tr>\n",
       "\t<tr><td>Australia   </td><td>  6.233111  </td><td> 0.77309952 </td><td>-0.1908892  </td><td>0.04604324  </td><td> 0.215548144</td><td>-0.02797992 </td><td> 0.03255537 </td><td>-0.010344625</td></tr>\n",
       "\t<tr><td>Austria     </td><td>  1.405618  </td><td> 0.05992883 </td><td> 0.6388328  </td><td>0.08182631  </td><td> 0.006978615</td><td>-0.01742626 </td><td>-0.01887815 </td><td>-0.021609773</td></tr>\n",
       "\t<tr><td>Belgium     </td><td>  6.576032  </td><td> 0.22934014 </td><td> 0.5478972  </td><td>0.03103714  </td><td> 0.003313427</td><td> 0.06765641 </td><td> 0.05335714 </td><td>-0.001526373</td></tr>\n",
       "\t<tr><td>Bermuda     </td><td>-12.899964  </td><td> 2.20666160 </td><td>-0.2616143  </td><td>0.19567169  </td><td>-0.205917545</td><td> 0.07198977 </td><td>-0.10741879 </td><td>-0.016413862</td></tr>\n",
       "\t<tr><td>Brazil      </td><td>  7.522252  </td><td> 0.45693596 </td><td>-1.1846968  </td><td>0.12143605  </td><td>-0.064657949</td><td>-0.01605633 </td><td>-0.02046180 </td><td> 0.040151598</td></tr>\n",
       "</tbody>\n",
       "</table>\n"
      ],
      "text/latex": [
       "\\begin{tabular}{r|lllllllll}\n",
       " Country & Comp.1 & Comp.2 & Comp.3 & Comp.4 & Comp.5 & Comp.6 & Comp.7 & Comp.8\\\\\n",
       "\\hline\n",
       "\t Argentina    &   3.949866   & -0.71642187  &  0.3502378   & 0.19323708   & -0.125843666 &  0.02828136  &  0.06972650  & -0.004182508\\\\\n",
       "\t Australia    &   6.233111   &  0.77309952  & -0.1908892   & 0.04604324   &  0.215548144 & -0.02797992  &  0.03255537  & -0.010344625\\\\\n",
       "\t Austria      &   1.405618   &  0.05992883  &  0.6388328   & 0.08182631   &  0.006978615 & -0.01742626  & -0.01887815  & -0.021609773\\\\\n",
       "\t Belgium      &   6.576032   &  0.22934014  &  0.5478972   & 0.03103714   &  0.003313427 &  0.06765641  &  0.05335714  & -0.001526373\\\\\n",
       "\t Bermuda      & -12.899964   &  2.20666160  & -0.2616143   & 0.19567169   & -0.205917545 &  0.07198977  & -0.10741879  & -0.016413862\\\\\n",
       "\t Brazil       &   7.522252   &  0.45693596  & -1.1846968   & 0.12143605   & -0.064657949 & -0.01605633  & -0.02046180  &  0.040151598\\\\\n",
       "\\end{tabular}\n"
      ],
      "text/markdown": [
       "\n",
       "Country | Comp.1 | Comp.2 | Comp.3 | Comp.4 | Comp.5 | Comp.6 | Comp.7 | Comp.8 | \n",
       "|---|---|---|---|---|---|\n",
       "| Argentina    |   3.949866   | -0.71642187  |  0.3502378   | 0.19323708   | -0.125843666 |  0.02828136  |  0.06972650  | -0.004182508 | \n",
       "| Australia    |   6.233111   |  0.77309952  | -0.1908892   | 0.04604324   |  0.215548144 | -0.02797992  |  0.03255537  | -0.010344625 | \n",
       "| Austria      |   1.405618   |  0.05992883  |  0.6388328   | 0.08182631   |  0.006978615 | -0.01742626  | -0.01887815  | -0.021609773 | \n",
       "| Belgium      |   6.576032   |  0.22934014  |  0.5478972   | 0.03103714   |  0.003313427 |  0.06765641  |  0.05335714  | -0.001526373 | \n",
       "| Bermuda      | -12.899964   |  2.20666160  | -0.2616143   | 0.19567169   | -0.205917545 |  0.07198977  | -0.10741879  | -0.016413862 | \n",
       "| Brazil       |   7.522252   |  0.45693596  | -1.1846968   | 0.12143605   | -0.064657949 | -0.01605633  | -0.02046180  |  0.040151598 | \n",
       "\n",
       "\n"
      ],
      "text/plain": [
       "  Country   Comp.1     Comp.2      Comp.3     Comp.4     Comp.5      \n",
       "1 Argentina   3.949866 -0.71642187  0.3502378 0.19323708 -0.125843666\n",
       "2 Australia   6.233111  0.77309952 -0.1908892 0.04604324  0.215548144\n",
       "3 Austria     1.405618  0.05992883  0.6388328 0.08182631  0.006978615\n",
       "4 Belgium     6.576032  0.22934014  0.5478972 0.03103714  0.003313427\n",
       "5 Bermuda   -12.899964  2.20666160 -0.2616143 0.19567169 -0.205917545\n",
       "6 Brazil      7.522252  0.45693596 -1.1846968 0.12143605 -0.064657949\n",
       "  Comp.6      Comp.7      Comp.8      \n",
       "1  0.02828136  0.06972650 -0.004182508\n",
       "2 -0.02797992  0.03255537 -0.010344625\n",
       "3 -0.01742626 -0.01887815 -0.021609773\n",
       "4  0.06765641  0.05335714 -0.001526373\n",
       "5  0.07198977 -0.10741879 -0.016413862\n",
       "6 -0.01605633 -0.02046180  0.040151598"
      ]
     },
     "metadata": {},
     "output_type": "display_data"
    },
    {
     "data": {
      "text/html": [
       "<table>\n",
       "<thead><tr><th scope=col>Country</th><th scope=col>Comp.1</th></tr></thead>\n",
       "<tbody>\n",
       "\t<tr><td>Argentina </td><td>  3.949866</td></tr>\n",
       "\t<tr><td>Australia </td><td>  6.233111</td></tr>\n",
       "\t<tr><td>Austria   </td><td>  1.405618</td></tr>\n",
       "\t<tr><td>Belgium   </td><td>  6.576032</td></tr>\n",
       "\t<tr><td>Bermuda   </td><td>-12.899964</td></tr>\n",
       "\t<tr><td>Brazil    </td><td>  7.522252</td></tr>\n",
       "</tbody>\n",
       "</table>\n"
      ],
      "text/latex": [
       "\\begin{tabular}{r|ll}\n",
       " Country & Comp.1\\\\\n",
       "\\hline\n",
       "\t Argentina  &   3.949866\\\\\n",
       "\t Australia  &   6.233111\\\\\n",
       "\t Austria    &   1.405618\\\\\n",
       "\t Belgium    &   6.576032\\\\\n",
       "\t Bermuda    & -12.899964\\\\\n",
       "\t Brazil     &   7.522252\\\\\n",
       "\\end{tabular}\n"
      ],
      "text/markdown": [
       "\n",
       "Country | Comp.1 | \n",
       "|---|---|---|---|---|---|\n",
       "| Argentina  |   3.949866 | \n",
       "| Australia  |   6.233111 | \n",
       "| Austria    |   1.405618 | \n",
       "| Belgium    |   6.576032 | \n",
       "| Bermuda    | -12.899964 | \n",
       "| Brazil     |   7.522252 | \n",
       "\n",
       "\n"
      ],
      "text/plain": [
       "  Country   Comp.1    \n",
       "1 Argentina   3.949866\n",
       "2 Australia   6.233111\n",
       "3 Austria     1.405618\n",
       "4 Belgium     6.576032\n",
       "5 Bermuda   -12.899964\n",
       "6 Brazil      7.522252"
      ]
     },
     "metadata": {},
     "output_type": "display_data"
    },
    {
     "data": {
      "text/html": [
       "<table>\n",
       "<thead><tr><th></th><th scope=col>Country</th><th scope=col>Comp.1</th></tr></thead>\n",
       "<tbody>\n",
       "\t<tr><th scope=row>29</th><td>Kenya   </td><td>9.325825</td></tr>\n",
       "\t<tr><th scope=row>54</th><td>U.S.A.  </td><td>8.528414</td></tr>\n",
       "\t<tr><th scope=row>6</th><td>Brazil  </td><td>7.522252</td></tr>\n",
       "\t<tr><th scope=row>28</th><td>Japan   </td><td>7.469135</td></tr>\n",
       "\t<tr><th scope=row>17</th><td>France  </td><td>7.340499</td></tr>\n",
       "\t<tr><th scope=row>43</th><td>Portugal</td><td>7.201771</td></tr>\n",
       "</tbody>\n",
       "</table>\n"
      ],
      "text/latex": [
       "\\begin{tabular}{r|ll}\n",
       "  & Country & Comp.1\\\\\n",
       "\\hline\n",
       "\t29 & Kenya    & 9.325825\\\\\n",
       "\t54 & U.S.A.   & 8.528414\\\\\n",
       "\t6 & Brazil   & 7.522252\\\\\n",
       "\t28 & Japan    & 7.469135\\\\\n",
       "\t17 & France   & 7.340499\\\\\n",
       "\t43 & Portugal & 7.201771\\\\\n",
       "\\end{tabular}\n"
      ],
      "text/markdown": [
       "\n",
       "| <!--/--> | Country | Comp.1 | \n",
       "|---|---|---|---|---|---|\n",
       "| 29 | Kenya    | 9.325825 | \n",
       "| 54 | U.S.A.   | 8.528414 | \n",
       "| 6 | Brazil   | 7.522252 | \n",
       "| 28 | Japan    | 7.469135 | \n",
       "| 17 | France   | 7.340499 | \n",
       "| 43 | Portugal | 7.201771 | \n",
       "\n",
       "\n"
      ],
      "text/plain": [
       "   Country  Comp.1  \n",
       "29 Kenya    9.325825\n",
       "54 U.S.A.   8.528414\n",
       "6  Brazil   7.522252\n",
       "28 Japan    7.469135\n",
       "17 France   7.340499\n",
       "43 Portugal 7.201771"
      ]
     },
     "metadata": {},
     "output_type": "display_data"
    }
   ],
   "source": [
    "# Adding country name back to scores\n",
    "PCMen = cbind(men[,1], as.data.frame(pcaFitMen$scores))\n",
    "colnames(PCMen)[1] = \"Country\"\n",
    "head(PCMen)\n",
    "\n",
    "# Sorting countries based only on PC1\n",
    "dimReducedMen = PCMen[,1:2]\n",
    "head(dimReducedMen)\n",
    "dimReducedMenOrdered = {\n",
    "    dimReducedMen[order(-dimReducedMen[,2]),]\n",
    "}\n",
    "head(dimReducedMenOrdered)"
   ]
  },
  {
   "cell_type": "markdown",
   "metadata": {},
   "source": [
    "Yep, it looks like our results once again agree pretty closely (though not exactly) with our women's analysis. In this case, it is definitely very intuitive -- Kenya is known for its Olympic gold medal exploits and the fastest person in the world, so it's unsurprising when a component that accounts for so much of the variance in the data (98%+) can rank the countries with high accuracy. \n",
    "\n",
    "The PC's relations to each of the original variables is actually fairly similar across genders so that is also something interesting of note. \n",
    "\n",
    "## Problem 2"
   ]
  },
  {
   "cell_type": "code",
   "execution_count": 254,
   "metadata": {},
   "outputs": [
    {
     "data": {
      "text/html": [
       "<table>\n",
       "<thead><tr><th scope=col>Wind</th><th scope=col>SolarRadiation</th><th scope=col>CO</th><th scope=col>NO</th><th scope=col>NO2</th><th scope=col>O3</th><th scope=col>HC</th></tr></thead>\n",
       "<tbody>\n",
       "\t<tr><td> 8 </td><td> 98</td><td>7  </td><td>2  </td><td>12 </td><td> 8 </td><td>2  </td></tr>\n",
       "\t<tr><td> 7 </td><td>107</td><td>4  </td><td>3  </td><td> 9 </td><td> 5 </td><td>3  </td></tr>\n",
       "\t<tr><td> 7 </td><td>103</td><td>4  </td><td>3  </td><td> 5 </td><td> 6 </td><td>3  </td></tr>\n",
       "\t<tr><td>10 </td><td> 88</td><td>5  </td><td>2  </td><td> 8 </td><td>15 </td><td>4  </td></tr>\n",
       "\t<tr><td> 6 </td><td> 91</td><td>4  </td><td>2  </td><td> 8 </td><td>10 </td><td>3  </td></tr>\n",
       "\t<tr><td> 8 </td><td> 90</td><td>5  </td><td>2  </td><td>12 </td><td>12 </td><td>4  </td></tr>\n",
       "</tbody>\n",
       "</table>\n"
      ],
      "text/latex": [
       "\\begin{tabular}{r|lllllll}\n",
       " Wind & SolarRadiation & CO & NO & NO2 & O3 & HC\\\\\n",
       "\\hline\n",
       "\t  8  &  98 & 7   & 2   & 12  &  8  & 2  \\\\\n",
       "\t  7  & 107 & 4   & 3   &  9  &  5  & 3  \\\\\n",
       "\t  7  & 103 & 4   & 3   &  5  &  6  & 3  \\\\\n",
       "\t 10  &  88 & 5   & 2   &  8  & 15  & 4  \\\\\n",
       "\t  6  &  91 & 4   & 2   &  8  & 10  & 3  \\\\\n",
       "\t  8  &  90 & 5   & 2   & 12  & 12  & 4  \\\\\n",
       "\\end{tabular}\n"
      ],
      "text/markdown": [
       "\n",
       "Wind | SolarRadiation | CO | NO | NO2 | O3 | HC | \n",
       "|---|---|---|---|---|---|\n",
       "|  8  |  98 | 7   | 2   | 12  |  8  | 2   | \n",
       "|  7  | 107 | 4   | 3   |  9  |  5  | 3   | \n",
       "|  7  | 103 | 4   | 3   |  5  |  6  | 3   | \n",
       "| 10  |  88 | 5   | 2   |  8  | 15  | 4   | \n",
       "|  6  |  91 | 4   | 2   |  8  | 10  | 3   | \n",
       "|  8  |  90 | 5   | 2   | 12  | 12  | 4   | \n",
       "\n",
       "\n"
      ],
      "text/plain": [
       "  Wind SolarRadiation CO NO NO2 O3 HC\n",
       "1  8    98            7  2  12   8 2 \n",
       "2  7   107            4  3   9   5 3 \n",
       "3  7   103            4  3   5   6 3 \n",
       "4 10    88            5  2   8  15 4 \n",
       "5  6    91            4  2   8  10 3 \n",
       "6  8    90            5  2  12  12 4 "
      ]
     },
     "metadata": {},
     "output_type": "display_data"
    }
   ],
   "source": [
    "# Loading data\n",
    "airPollution = read.table(file=\"Data-HW4-pollution.dat\", \n",
    "                          header=FALSE,\n",
    "                          quote=\"\",\n",
    "                          sep=\"\"                         \n",
    "                         )\n",
    "colnames(airPollution) = c(\"Wind\", \"SolarRadiation\", \"CO\", \n",
    "                           \"NO\", \"NO2\", \"O3\", \"HC\")\n",
    "head(airPollution)"
   ]
  },
  {
   "cell_type": "markdown",
   "metadata": {},
   "source": [
    "#### Problem 2A"
   ]
  },
  {
   "cell_type": "code",
   "execution_count": 284,
   "metadata": {},
   "outputs": [],
   "source": [
    "# Generating the covariance matrix \n",
    "\n",
    "airPollutionCovariance = cor(airPollution)"
   ]
  },
  {
   "cell_type": "markdown",
   "metadata": {},
   "source": [
    "#### Problem 2B"
   ]
  },
  {
   "cell_type": "code",
   "execution_count": 291,
   "metadata": {},
   "outputs": [
    {
     "data": {
      "text/html": [
       "<dl>\n",
       "\t<dt>$values</dt>\n",
       "\t\t<dd><ol class=list-inline>\n",
       "\t<li>2.33678264275777</li>\n",
       "\t<li>1.38600066762446</li>\n",
       "\t<li>1.20406592509298</li>\n",
       "\t<li>0.727086483934652</li>\n",
       "\t<li>0.653476542788251</li>\n",
       "\t<li>0.536688791847867</li>\n",
       "\t<li>0.155898945954013</li>\n",
       "</ol>\n",
       "</dd>\n",
       "\t<dt>$vectors</dt>\n",
       "\t\t<dd><table>\n",
       "<tbody>\n",
       "\t<tr><td> 0.2368211  </td><td> 0.278445138</td><td> 0.6434744  </td><td> 0.172719491</td><td> 0.56053441 </td><td>-0.223579220</td><td>-0.24146701 </td></tr>\n",
       "\t<tr><td>-0.2055665  </td><td>-0.526613869</td><td> 0.2244690  </td><td> 0.778136601</td><td>-0.15613432 </td><td>-0.005700851</td><td>-0.01126548 </td></tr>\n",
       "\t<tr><td>-0.5510839  </td><td>-0.006819502</td><td>-0.1136089  </td><td> 0.005301798</td><td> 0.57342221 </td><td>-0.109538907</td><td> 0.58524622 </td></tr>\n",
       "\t<tr><td>-0.3776151  </td><td> 0.434674253</td><td>-0.4070978  </td><td> 0.290503052</td><td>-0.05669070 </td><td>-0.450234781</td><td>-0.46088973 </td></tr>\n",
       "\t<tr><td>-0.4980161  </td><td> 0.199767367</td><td> 0.1965567  </td><td>-0.042428178</td><td> 0.05021430 </td><td> 0.744968707</td><td>-0.33784371 </td></tr>\n",
       "\t<tr><td>-0.3245506  </td><td>-0.566973655</td><td> 0.1598465  </td><td>-0.507915905</td><td> 0.08024349 </td><td>-0.330583071</td><td>-0.41707805 </td></tr>\n",
       "\t<tr><td>-0.3194032  </td><td> 0.307882771</td><td> 0.5410484  </td><td>-0.143082348</td><td>-0.56607057 </td><td>-0.266469812</td><td> 0.31391372 </td></tr>\n",
       "</tbody>\n",
       "</table>\n",
       "</dd>\n",
       "</dl>\n"
      ],
      "text/latex": [
       "\\begin{description}\n",
       "\\item[\\$values] \\begin{enumerate*}\n",
       "\\item 2.33678264275777\n",
       "\\item 1.38600066762446\n",
       "\\item 1.20406592509298\n",
       "\\item 0.727086483934652\n",
       "\\item 0.653476542788251\n",
       "\\item 0.536688791847867\n",
       "\\item 0.155898945954013\n",
       "\\end{enumerate*}\n",
       "\n",
       "\\item[\\$vectors] \\begin{tabular}{lllllll}\n",
       "\t  0.2368211   &  0.278445138 &  0.6434744   &  0.172719491 &  0.56053441  & -0.223579220 & -0.24146701 \\\\\n",
       "\t -0.2055665   & -0.526613869 &  0.2244690   &  0.778136601 & -0.15613432  & -0.005700851 & -0.01126548 \\\\\n",
       "\t -0.5510839   & -0.006819502 & -0.1136089   &  0.005301798 &  0.57342221  & -0.109538907 &  0.58524622 \\\\\n",
       "\t -0.3776151   &  0.434674253 & -0.4070978   &  0.290503052 & -0.05669070  & -0.450234781 & -0.46088973 \\\\\n",
       "\t -0.4980161   &  0.199767367 &  0.1965567   & -0.042428178 &  0.05021430  &  0.744968707 & -0.33784371 \\\\\n",
       "\t -0.3245506   & -0.566973655 &  0.1598465   & -0.507915905 &  0.08024349  & -0.330583071 & -0.41707805 \\\\\n",
       "\t -0.3194032   &  0.307882771 &  0.5410484   & -0.143082348 & -0.56607057  & -0.266469812 &  0.31391372 \\\\\n",
       "\\end{tabular}\n",
       "\n",
       "\\end{description}\n"
      ],
      "text/markdown": [
       "$values\n",
       ":   1. 2.33678264275777\n",
       "2. 1.38600066762446\n",
       "3. 1.20406592509298\n",
       "4. 0.727086483934652\n",
       "5. 0.653476542788251\n",
       "6. 0.536688791847867\n",
       "7. 0.155898945954013\n",
       "\n",
       "\n",
       "\n",
       "$vectors\n",
       ":   \n",
       "|  0.2368211   |  0.278445138 |  0.6434744   |  0.172719491 |  0.56053441  | -0.223579220 | -0.24146701  | \n",
       "| -0.2055665   | -0.526613869 |  0.2244690   |  0.778136601 | -0.15613432  | -0.005700851 | -0.01126548  | \n",
       "| -0.5510839   | -0.006819502 | -0.1136089   |  0.005301798 |  0.57342221  | -0.109538907 |  0.58524622  | \n",
       "| -0.3776151   |  0.434674253 | -0.4070978   |  0.290503052 | -0.05669070  | -0.450234781 | -0.46088973  | \n",
       "| -0.4980161   |  0.199767367 |  0.1965567   | -0.042428178 |  0.05021430  |  0.744968707 | -0.33784371  | \n",
       "| -0.3245506   | -0.566973655 |  0.1598465   | -0.507915905 |  0.08024349  | -0.330583071 | -0.41707805  | \n",
       "| -0.3194032   |  0.307882771 |  0.5410484   | -0.143082348 | -0.56607057  | -0.266469812 |  0.31391372  | \n",
       "\n",
       "\n",
       "\n",
       "\n",
       "\n"
      ],
      "text/plain": [
       "$values\n",
       "[1] 2.3367826 1.3860007 1.2040659 0.7270865 0.6534765 0.5366888 0.1558989\n",
       "\n",
       "$vectors\n",
       "           [,1]         [,2]       [,3]         [,4]        [,5]         [,6]\n",
       "[1,]  0.2368211  0.278445138  0.6434744  0.172719491  0.56053441 -0.223579220\n",
       "[2,] -0.2055665 -0.526613869  0.2244690  0.778136601 -0.15613432 -0.005700851\n",
       "[3,] -0.5510839 -0.006819502 -0.1136089  0.005301798  0.57342221 -0.109538907\n",
       "[4,] -0.3776151  0.434674253 -0.4070978  0.290503052 -0.05669070 -0.450234781\n",
       "[5,] -0.4980161  0.199767367  0.1965567 -0.042428178  0.05021430  0.744968707\n",
       "[6,] -0.3245506 -0.566973655  0.1598465 -0.507915905  0.08024349 -0.330583071\n",
       "[7,] -0.3194032  0.307882771  0.5410484 -0.143082348 -0.56607057 -0.266469812\n",
       "            [,7]\n",
       "[1,] -0.24146701\n",
       "[2,] -0.01126548\n",
       "[3,]  0.58524622\n",
       "[4,] -0.46088973\n",
       "[5,] -0.33784371\n",
       "[6,] -0.41707805\n",
       "[7,]  0.31391372\n"
      ]
     },
     "metadata": {},
     "output_type": "display_data"
    }
   ],
   "source": [
    "# Obtaining principal component solution\n",
    "\n",
    "# 1. Performing spectral decomposition\n",
    "decomposition = eigen(airPollutionCovariance)\n",
    "decomposition"
   ]
  },
  {
   "cell_type": "code",
   "execution_count": 304,
   "metadata": {},
   "outputs": [
    {
     "name": "stdout",
     "output_type": "stream",
     "text": [
      "[1] \"L1:\"\n"
     ]
    },
    {
     "data": {
      "text/html": [
       "<table>\n",
       "<thead><tr><th></th><th scope=col></th></tr></thead>\n",
       "<tbody>\n",
       "\t<tr><th scope=row>Wind</th><td> 0.362</td></tr>\n",
       "\t<tr><th scope=row>SolarRadiation</th><td>-0.314</td></tr>\n",
       "\t<tr><th scope=row>CO</th><td>-0.842</td></tr>\n",
       "\t<tr><th scope=row>NO</th><td>-0.577</td></tr>\n",
       "\t<tr><th scope=row>NO2</th><td>-0.761</td></tr>\n",
       "\t<tr><th scope=row>O3</th><td>-0.496</td></tr>\n",
       "\t<tr><th scope=row>HC</th><td>-0.488</td></tr>\n",
       "</tbody>\n",
       "</table>\n"
      ],
      "text/latex": [
       "\\begin{tabular}{r|l}\n",
       "  & \\\\\n",
       "\\hline\n",
       "\tWind &  0.362\\\\\n",
       "\tSolarRadiation & -0.314\\\\\n",
       "\tCO & -0.842\\\\\n",
       "\tNO & -0.577\\\\\n",
       "\tNO2 & -0.761\\\\\n",
       "\tO3 & -0.496\\\\\n",
       "\tHC & -0.488\\\\\n",
       "\\end{tabular}\n"
      ],
      "text/markdown": [
       "\n",
       "| <!--/--> |  | \n",
       "|---|---|---|---|---|---|---|\n",
       "| Wind |  0.362 | \n",
       "| SolarRadiation | -0.314 | \n",
       "| CO | -0.842 | \n",
       "| NO | -0.577 | \n",
       "| NO2 | -0.761 | \n",
       "| O3 | -0.496 | \n",
       "| HC | -0.488 | \n",
       "\n",
       "\n"
      ],
      "text/plain": [
       "                     \n",
       "Wind            0.362\n",
       "SolarRadiation -0.314\n",
       "CO             -0.842\n",
       "NO             -0.577\n",
       "NO2            -0.761\n",
       "O3             -0.496\n",
       "HC             -0.488"
      ]
     },
     "metadata": {},
     "output_type": "display_data"
    },
    {
     "name": "stdout",
     "output_type": "stream",
     "text": [
      "[1] \"L2:\"\n"
     ]
    },
    {
     "data": {
      "text/html": [
       "<table>\n",
       "<thead><tr><th></th><th scope=col></th></tr></thead>\n",
       "<tbody>\n",
       "\t<tr><th scope=row>Wind</th><td> 0.328</td></tr>\n",
       "\t<tr><th scope=row>SolarRadiation</th><td>-0.620</td></tr>\n",
       "\t<tr><th scope=row>CO</th><td>-0.008</td></tr>\n",
       "\t<tr><th scope=row>NO</th><td> 0.512</td></tr>\n",
       "\t<tr><th scope=row>NO2</th><td> 0.235</td></tr>\n",
       "\t<tr><th scope=row>O3</th><td>-0.667</td></tr>\n",
       "\t<tr><th scope=row>HC</th><td> 0.362</td></tr>\n",
       "</tbody>\n",
       "</table>\n"
      ],
      "text/latex": [
       "\\begin{tabular}{r|l}\n",
       "  & \\\\\n",
       "\\hline\n",
       "\tWind &  0.328\\\\\n",
       "\tSolarRadiation & -0.620\\\\\n",
       "\tCO & -0.008\\\\\n",
       "\tNO &  0.512\\\\\n",
       "\tNO2 &  0.235\\\\\n",
       "\tO3 & -0.667\\\\\n",
       "\tHC &  0.362\\\\\n",
       "\\end{tabular}\n"
      ],
      "text/markdown": [
       "\n",
       "| <!--/--> |  | \n",
       "|---|---|---|---|---|---|---|\n",
       "| Wind |  0.328 | \n",
       "| SolarRadiation | -0.620 | \n",
       "| CO | -0.008 | \n",
       "| NO |  0.512 | \n",
       "| NO2 |  0.235 | \n",
       "| O3 | -0.667 | \n",
       "| HC |  0.362 | \n",
       "\n",
       "\n"
      ],
      "text/plain": [
       "                     \n",
       "Wind            0.328\n",
       "SolarRadiation -0.620\n",
       "CO             -0.008\n",
       "NO              0.512\n",
       "NO2             0.235\n",
       "O3             -0.667\n",
       "HC              0.362"
      ]
     },
     "metadata": {},
     "output_type": "display_data"
    },
    {
     "name": "stdout",
     "output_type": "stream",
     "text": [
      "[1] \"Communality - M=1:\"\n"
     ]
    },
    {
     "data": {
      "text/html": [
       "<table>\n",
       "<thead><tr><th></th><th scope=col></th></tr></thead>\n",
       "<tbody>\n",
       "\t<tr><th scope=row>Wind</th><td>0.131</td></tr>\n",
       "\t<tr><th scope=row>SolarRadiation</th><td>0.099</td></tr>\n",
       "\t<tr><th scope=row>CO</th><td>0.710</td></tr>\n",
       "\t<tr><th scope=row>NO</th><td>0.333</td></tr>\n",
       "\t<tr><th scope=row>NO2</th><td>0.580</td></tr>\n",
       "\t<tr><th scope=row>O3</th><td>0.246</td></tr>\n",
       "\t<tr><th scope=row>HC</th><td>0.238</td></tr>\n",
       "</tbody>\n",
       "</table>\n"
      ],
      "text/latex": [
       "\\begin{tabular}{r|l}\n",
       "  & \\\\\n",
       "\\hline\n",
       "\tWind & 0.131\\\\\n",
       "\tSolarRadiation & 0.099\\\\\n",
       "\tCO & 0.710\\\\\n",
       "\tNO & 0.333\\\\\n",
       "\tNO2 & 0.580\\\\\n",
       "\tO3 & 0.246\\\\\n",
       "\tHC & 0.238\\\\\n",
       "\\end{tabular}\n"
      ],
      "text/markdown": [
       "\n",
       "| <!--/--> |  | \n",
       "|---|---|---|---|---|---|---|\n",
       "| Wind | 0.131 | \n",
       "| SolarRadiation | 0.099 | \n",
       "| CO | 0.710 | \n",
       "| NO | 0.333 | \n",
       "| NO2 | 0.580 | \n",
       "| O3 | 0.246 | \n",
       "| HC | 0.238 | \n",
       "\n",
       "\n"
      ],
      "text/plain": [
       "                    \n",
       "Wind           0.131\n",
       "SolarRadiation 0.099\n",
       "CO             0.710\n",
       "NO             0.333\n",
       "NO2            0.580\n",
       "O3             0.246\n",
       "HC             0.238"
      ]
     },
     "metadata": {},
     "output_type": "display_data"
    },
    {
     "name": "stdout",
     "output_type": "stream",
     "text": [
      "[1] \"Communality - M=2:\"\n"
     ]
    },
    {
     "data": {
      "text/html": [
       "<table>\n",
       "<thead><tr><th></th><th scope=col></th></tr></thead>\n",
       "<tbody>\n",
       "\t<tr><th scope=row>Wind</th><td>0.239</td></tr>\n",
       "\t<tr><th scope=row>SolarRadiation</th><td>0.483</td></tr>\n",
       "\t<tr><th scope=row>CO</th><td>0.710</td></tr>\n",
       "\t<tr><th scope=row>NO</th><td>0.595</td></tr>\n",
       "\t<tr><th scope=row>NO2</th><td>0.635</td></tr>\n",
       "\t<tr><th scope=row>O3</th><td>0.692</td></tr>\n",
       "\t<tr><th scope=row>HC</th><td>0.370</td></tr>\n",
       "</tbody>\n",
       "</table>\n"
      ],
      "text/latex": [
       "\\begin{tabular}{r|l}\n",
       "  & \\\\\n",
       "\\hline\n",
       "\tWind & 0.239\\\\\n",
       "\tSolarRadiation & 0.483\\\\\n",
       "\tCO & 0.710\\\\\n",
       "\tNO & 0.595\\\\\n",
       "\tNO2 & 0.635\\\\\n",
       "\tO3 & 0.692\\\\\n",
       "\tHC & 0.370\\\\\n",
       "\\end{tabular}\n"
      ],
      "text/markdown": [
       "\n",
       "| <!--/--> |  | \n",
       "|---|---|---|---|---|---|---|\n",
       "| Wind | 0.239 | \n",
       "| SolarRadiation | 0.483 | \n",
       "| CO | 0.710 | \n",
       "| NO | 0.595 | \n",
       "| NO2 | 0.635 | \n",
       "| O3 | 0.692 | \n",
       "| HC | 0.370 | \n",
       "\n",
       "\n"
      ],
      "text/plain": [
       "                    \n",
       "Wind           0.239\n",
       "SolarRadiation 0.483\n",
       "CO             0.710\n",
       "NO             0.595\n",
       "NO2            0.635\n",
       "O3             0.692\n",
       "HC             0.370"
      ]
     },
     "metadata": {},
     "output_type": "display_data"
    }
   ],
   "source": [
    "# 2. Estimating Communality\n",
    "rootOfEigenvals = decomposition$values ** .5\n",
    "\n",
    "L1 = as.data.frame( decomposition$vectors[,1] * rootOfEigenvals[1] )\n",
    "L2 = as.data.frame( decomposition$vectors[,2] * rootOfEigenvals[2] )\n",
    "\n",
    "colnames(L1) = ''\n",
    "colnames(L2) = ''\n",
    "\n",
    "rownames(L1) = colnames(airPollution)\n",
    "rownames(L2) = colnames(airPollution)\n",
    "\n",
    "print(\"L1:\")\n",
    "round(L1, 3)\n",
    "print(\"L2:\")\n",
    "round(L2, 3)\n",
    "\n",
    "# For m=1\n",
    "communalityM1 = round(L1^2, 3)\n",
    "print(\"Communality - M=1:\")\n",
    "communalityM1\n",
    "\n",
    "# For m=2\n",
    "communalityM2 = round(L1^2 + L2^2, 3)\n",
    "print(\"Communality - M=2:\")\n",
    "communalityM2"
   ]
  },
  {
   "cell_type": "code",
   "execution_count": 305,
   "metadata": {},
   "outputs": [
    {
     "name": "stdout",
     "output_type": "stream",
     "text": [
      "[1] \"Specific Variance - M=1:\"\n"
     ]
    },
    {
     "data": {
      "text/html": [
       "<table>\n",
       "<thead><tr><th></th><th scope=col></th></tr></thead>\n",
       "<tbody>\n",
       "\t<tr><th scope=row>Wind</th><td>0.869</td></tr>\n",
       "\t<tr><th scope=row>SolarRadiation</th><td>0.901</td></tr>\n",
       "\t<tr><th scope=row>CO</th><td>0.290</td></tr>\n",
       "\t<tr><th scope=row>NO</th><td>0.667</td></tr>\n",
       "\t<tr><th scope=row>NO2</th><td>0.420</td></tr>\n",
       "\t<tr><th scope=row>O3</th><td>0.754</td></tr>\n",
       "\t<tr><th scope=row>HC</th><td>0.762</td></tr>\n",
       "</tbody>\n",
       "</table>\n"
      ],
      "text/latex": [
       "\\begin{tabular}{r|l}\n",
       "  & \\\\\n",
       "\\hline\n",
       "\tWind & 0.869\\\\\n",
       "\tSolarRadiation & 0.901\\\\\n",
       "\tCO & 0.290\\\\\n",
       "\tNO & 0.667\\\\\n",
       "\tNO2 & 0.420\\\\\n",
       "\tO3 & 0.754\\\\\n",
       "\tHC & 0.762\\\\\n",
       "\\end{tabular}\n"
      ],
      "text/markdown": [
       "\n",
       "| <!--/--> |  | \n",
       "|---|---|---|---|---|---|---|\n",
       "| Wind | 0.869 | \n",
       "| SolarRadiation | 0.901 | \n",
       "| CO | 0.290 | \n",
       "| NO | 0.667 | \n",
       "| NO2 | 0.420 | \n",
       "| O3 | 0.754 | \n",
       "| HC | 0.762 | \n",
       "\n",
       "\n"
      ],
      "text/plain": [
       "                    \n",
       "Wind           0.869\n",
       "SolarRadiation 0.901\n",
       "CO             0.290\n",
       "NO             0.667\n",
       "NO2            0.420\n",
       "O3             0.754\n",
       "HC             0.762"
      ]
     },
     "metadata": {},
     "output_type": "display_data"
    },
    {
     "name": "stdout",
     "output_type": "stream",
     "text": [
      "[1] \"Specific Variance - M=2:\"\n"
     ]
    },
    {
     "data": {
      "text/html": [
       "<table>\n",
       "<thead><tr><th></th><th scope=col></th></tr></thead>\n",
       "<tbody>\n",
       "\t<tr><th scope=row>Wind</th><td>0.761</td></tr>\n",
       "\t<tr><th scope=row>SolarRadiation</th><td>0.517</td></tr>\n",
       "\t<tr><th scope=row>CO</th><td>0.290</td></tr>\n",
       "\t<tr><th scope=row>NO</th><td>0.405</td></tr>\n",
       "\t<tr><th scope=row>NO2</th><td>0.365</td></tr>\n",
       "\t<tr><th scope=row>O3</th><td>0.308</td></tr>\n",
       "\t<tr><th scope=row>HC</th><td>0.630</td></tr>\n",
       "</tbody>\n",
       "</table>\n"
      ],
      "text/latex": [
       "\\begin{tabular}{r|l}\n",
       "  & \\\\\n",
       "\\hline\n",
       "\tWind & 0.761\\\\\n",
       "\tSolarRadiation & 0.517\\\\\n",
       "\tCO & 0.290\\\\\n",
       "\tNO & 0.405\\\\\n",
       "\tNO2 & 0.365\\\\\n",
       "\tO3 & 0.308\\\\\n",
       "\tHC & 0.630\\\\\n",
       "\\end{tabular}\n"
      ],
      "text/markdown": [
       "\n",
       "| <!--/--> |  | \n",
       "|---|---|---|---|---|---|---|\n",
       "| Wind | 0.761 | \n",
       "| SolarRadiation | 0.517 | \n",
       "| CO | 0.290 | \n",
       "| NO | 0.405 | \n",
       "| NO2 | 0.365 | \n",
       "| O3 | 0.308 | \n",
       "| HC | 0.630 | \n",
       "\n",
       "\n"
      ],
      "text/plain": [
       "                    \n",
       "Wind           0.761\n",
       "SolarRadiation 0.517\n",
       "CO             0.290\n",
       "NO             0.405\n",
       "NO2            0.365\n",
       "O3             0.308\n",
       "HC             0.630"
      ]
     },
     "metadata": {},
     "output_type": "display_data"
    }
   ],
   "source": [
    "# 3. Estimating Specific Variation (psi)\n",
    "\n",
    "# For m=1\n",
    "specificVarianceM1 = round(1 - L1^2, 3)\n",
    "print(\"Specific Variance - M=1:\")\n",
    "specificVarianceM1\n",
    "\n",
    "# For m=2\n",
    "specificVarianceM2 = round(1 - L1^2 - L2^2, 3)\n",
    "print(\"Specific Variance - M=2:\")\n",
    "specificVarianceM2"
   ]
  },
  {
   "cell_type": "markdown",
   "metadata": {},
   "source": [
    "As expected, our Specific Variance drops in almost all of the common variables with the addition of a second common factor. This is because the second common factor is accounting for more of the total variance and sicne it is zero-sum, the additional variance is being \"taken\" from specific variance and \"given\" to the second common factor.\n",
    "\n",
    "#### Problem 2C"
   ]
  },
  {
   "cell_type": "code",
   "execution_count": 312,
   "metadata": {},
   "outputs": [
    {
     "data": {
      "text/html": [
       "0.333826091822538"
      ],
      "text/latex": [
       "0.333826091822538"
      ],
      "text/markdown": [
       "0.333826091822538"
      ],
      "text/plain": [
       "[1] 0.3338261"
      ]
     },
     "metadata": {},
     "output_type": "display_data"
    }
   ],
   "source": [
    "# Finding proportion of variation for one-factor model - m=1\n",
    "proportionalVarianceM1 = sum(L1^2) / length(L1[,1])\n",
    "proportionalVarianceM1"
   ]
  },
  {
   "cell_type": "code",
   "execution_count": 313,
   "metadata": {},
   "outputs": [
    {
     "data": {
      "text/html": [
       "0.531826187197461"
      ],
      "text/latex": [
       "0.531826187197461"
      ],
      "text/markdown": [
       "0.531826187197461"
      ],
      "text/plain": [
       "[1] 0.5318262"
      ]
     },
     "metadata": {},
     "output_type": "display_data"
    }
   ],
   "source": [
    "# Finding proportion of variation for two-factor model - m=2\n",
    "proportionalVarianceM2 = {\n",
    "    proportionalVarianceM1 + (sum(L2^2) / length(L2[,1]))\n",
    "}\n",
    "\n",
    "proportionalVarianceM2"
   ]
  },
  {
   "cell_type": "markdown",
   "metadata": {},
   "source": [
    "Once again, as expected, our two-factor model accounts for more variation. This relates back to the end of 2B because as specific variation goes down, the total amount of variation being accounted for by our factors is going up.\n",
    "\n",
    "#### Problem 2D"
   ]
  },
  {
   "cell_type": "code",
   "execution_count": 320,
   "metadata": {},
   "outputs": [
    {
     "data": {
      "text/plain": [
       "$loadings\n",
       "\n",
       "Loadings:\n",
       "               Var.1  Var.2 \n",
       "Wind            0.160  0.461\n",
       "SolarRadiation        -0.695\n",
       "CO             -0.735 -0.412\n",
       "NO             -0.752  0.171\n",
       "NO2            -0.781 -0.160\n",
       "O3             -0.114 -0.824\n",
       "HC             -0.602       \n",
       "\n",
       "               Var.1 Var.2\n",
       "SS loadings    2.117 1.606\n",
       "Proportion Var 0.302 0.229\n",
       "Cumulative Var 0.302 0.532\n",
       "\n",
       "$rotmat\n",
       "           [,1]      [,2]\n",
       "[1,]  0.8768458 0.4807718\n",
       "[2,] -0.4807718 0.8768458\n"
      ]
     },
     "metadata": {},
     "output_type": "display_data"
    }
   ],
   "source": [
    "# Performing varimax rotation\n",
    "\n",
    "rotation = varimax(x=as.matrix(cbind(L1, L2)), normalize=FALSE)\n",
    "rotation"
   ]
  },
  {
   "cell_type": "markdown",
   "metadata": {},
   "source": [
    "In computing the varimax rotation, we've just scaled the loadings by dividing them by their corresponding communality and maximizing this quantity. We've done this in order to interpret our results more easily. \n",
    "\n",
    "In Factor 1's loadings, HC, NO2, NO, and CO have fairly significant (>.5) values. This means Factor 1 is primarily a measure of these variables and as each of these variables increase, so do the other 3. Thus, we may use this information to understand what underlying common factor Factor 1 is picking up on and the real-life mechanisms that may cause those variables to be associated with each other (i.e. diesel exhaust or coal power plant burns). In Factor 2, the most important significant values (>.5) come from O3 and Solar Radiation which means Factor 2 is primarily a measure of these variables. These variables also thus are associated with each other and a second underlying common factor could be investigated regarding the relationship between Ozone and Solar Radiation. From domain knowledge, I know increased sunlight and UV radiation is responsible for the *creation of* ozone throughout the atmosphere, so them being associated makes a lot of sense. "
   ]
  }
 ],
 "metadata": {
  "kernelspec": {
   "display_name": "R",
   "language": "R",
   "name": "ir"
  },
  "language_info": {
   "codemirror_mode": "r",
   "file_extension": ".r",
   "mimetype": "text/x-r-source",
   "name": "R",
   "pygments_lexer": "r",
   "version": "3.3.2"
  }
 },
 "nbformat": 4,
 "nbformat_minor": 2
}
