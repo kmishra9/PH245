{
 "cells": [
  {
   "cell_type": "markdown",
   "metadata": {},
   "source": [
    "# PH 245 Homework 2\n",
    "Kunal Mishra"
   ]
  },
  {
   "cell_type": "code",
   "execution_count": 6,
   "metadata": {},
   "outputs": [
    {
     "data": {
      "text/html": [
       "<table>\n",
       "<thead><tr><th scope=col>Case Number</th><th scope=col>Percent body fat using Brozek's equation</th><th scope=col>Percent body fat using Siri's equation</th><th scope=col>Density (gm/cm^3)</th><th scope=col>Age (yrs)</th><th scope=col>Weight (lbs)</th><th scope=col>Height (inches)</th><th scope=col>Adiposity index</th><th scope=col>Fat Free Weight</th><th scope=col>Neck circumference (cm)</th><th scope=col>Chest circumference (cm)</th><th scope=col>Abdomen circumference (cm)</th><th scope=col>Hip circumference (cm)</th><th scope=col>Thigh circumference (cm)</th><th scope=col>Knee circumference (cm)</th><th scope=col>Ankle circumference (cm)</th><th scope=col>Extended biceps circumference (cm)</th><th scope=col>Forearm circumference (cm)</th><th scope=col>Wrist circumference (cm)</th></tr></thead>\n",
       "<tbody>\n",
       "\t<tr><td>1     </td><td>12.6  </td><td>12.3  </td><td>1.0708</td><td>23    </td><td>154.25</td><td>67.75 </td><td>23.7  </td><td>134.9 </td><td>36.2  </td><td> 93.1 </td><td> 85.2 </td><td> 94.5 </td><td>59.0  </td><td>37.3  </td><td>21.9  </td><td>32.0  </td><td>27.4  </td><td>17.1  </td></tr>\n",
       "\t<tr><td>2     </td><td> 6.9  </td><td> 6.1  </td><td>1.0853</td><td>22    </td><td>173.25</td><td>72.25 </td><td>23.4  </td><td>161.3 </td><td>38.5  </td><td> 93.6 </td><td> 83.0 </td><td> 98.7 </td><td>58.7  </td><td>37.3  </td><td>23.4  </td><td>30.5  </td><td>28.9  </td><td>18.2  </td></tr>\n",
       "\t<tr><td>3     </td><td>24.6  </td><td>25.3  </td><td>1.0414</td><td>22    </td><td>154.00</td><td>66.25 </td><td>24.7  </td><td>116.0 </td><td>34.0  </td><td> 95.8 </td><td> 87.9 </td><td> 99.2 </td><td>59.6  </td><td>38.9  </td><td>24.0  </td><td>28.8  </td><td>25.2  </td><td>16.6  </td></tr>\n",
       "\t<tr><td>4     </td><td>10.9  </td><td>10.4  </td><td>1.0751</td><td>26    </td><td>184.75</td><td>72.25 </td><td>24.9  </td><td>164.7 </td><td>37.4  </td><td>101.8 </td><td> 86.4 </td><td>101.2 </td><td>60.1  </td><td>37.3  </td><td>22.8  </td><td>32.4  </td><td>29.4  </td><td>18.2  </td></tr>\n",
       "\t<tr><td>5     </td><td>27.8  </td><td>28.7  </td><td>1.0340</td><td>24    </td><td>184.25</td><td>71.25 </td><td>25.6  </td><td>133.1 </td><td>34.4  </td><td> 97.3 </td><td>100.0 </td><td>101.9 </td><td>63.2  </td><td>42.2  </td><td>24.0  </td><td>32.2  </td><td>27.7  </td><td>17.7  </td></tr>\n",
       "\t<tr><td>6     </td><td>20.6  </td><td>20.9  </td><td>1.0502</td><td>24    </td><td>210.25</td><td>74.75 </td><td>26.5  </td><td>167.0 </td><td>39.0  </td><td>104.5 </td><td> 94.4 </td><td>107.8 </td><td>66.0  </td><td>42.0  </td><td>25.6  </td><td>35.7  </td><td>30.6  </td><td>18.8  </td></tr>\n",
       "</tbody>\n",
       "</table>\n"
      ],
      "text/latex": [
       "\\begin{tabular}{r|lllllllllllllllllll}\n",
       " Case Number & Percent body fat using Brozek's equation & Percent body fat using Siri's equation & Density (gm/cm\\textasciicircum{}3) & Age (yrs) & Weight (lbs) & Height (inches) & Adiposity index & Fat Free Weight & Neck circumference (cm) & Chest circumference (cm) & Abdomen circumference (cm) & Hip circumference (cm) & Thigh circumference (cm) & Knee circumference (cm) & Ankle circumference (cm) & Extended biceps circumference (cm) & Forearm circumference (cm) & Wrist circumference (cm)\\\\\n",
       "\\hline\n",
       "\t 1      & 12.6   & 12.3   & 1.0708 & 23     & 154.25 & 67.75  & 23.7   & 134.9  & 36.2   &  93.1  &  85.2  &  94.5  & 59.0   & 37.3   & 21.9   & 32.0   & 27.4   & 17.1  \\\\\n",
       "\t 2      &  6.9   &  6.1   & 1.0853 & 22     & 173.25 & 72.25  & 23.4   & 161.3  & 38.5   &  93.6  &  83.0  &  98.7  & 58.7   & 37.3   & 23.4   & 30.5   & 28.9   & 18.2  \\\\\n",
       "\t 3      & 24.6   & 25.3   & 1.0414 & 22     & 154.00 & 66.25  & 24.7   & 116.0  & 34.0   &  95.8  &  87.9  &  99.2  & 59.6   & 38.9   & 24.0   & 28.8   & 25.2   & 16.6  \\\\\n",
       "\t 4      & 10.9   & 10.4   & 1.0751 & 26     & 184.75 & 72.25  & 24.9   & 164.7  & 37.4   & 101.8  &  86.4  & 101.2  & 60.1   & 37.3   & 22.8   & 32.4   & 29.4   & 18.2  \\\\\n",
       "\t 5      & 27.8   & 28.7   & 1.0340 & 24     & 184.25 & 71.25  & 25.6   & 133.1  & 34.4   &  97.3  & 100.0  & 101.9  & 63.2   & 42.2   & 24.0   & 32.2   & 27.7   & 17.7  \\\\\n",
       "\t 6      & 20.6   & 20.9   & 1.0502 & 24     & 210.25 & 74.75  & 26.5   & 167.0  & 39.0   & 104.5  &  94.4  & 107.8  & 66.0   & 42.0   & 25.6   & 35.7   & 30.6   & 18.8  \\\\\n",
       "\\end{tabular}\n"
      ],
      "text/markdown": [
       "\n",
       "Case Number | Percent body fat using Brozek's equation | Percent body fat using Siri's equation | Density (gm/cm^3) | Age (yrs) | Weight (lbs) | Height (inches) | Adiposity index | Fat Free Weight | Neck circumference (cm) | Chest circumference (cm) | Abdomen circumference (cm) | Hip circumference (cm) | Thigh circumference (cm) | Knee circumference (cm) | Ankle circumference (cm) | Extended biceps circumference (cm) | Forearm circumference (cm) | Wrist circumference (cm) | \n",
       "|---|---|---|---|---|---|\n",
       "| 1      | 12.6   | 12.3   | 1.0708 | 23     | 154.25 | 67.75  | 23.7   | 134.9  | 36.2   |  93.1  |  85.2  |  94.5  | 59.0   | 37.3   | 21.9   | 32.0   | 27.4   | 17.1   | \n",
       "| 2      |  6.9   |  6.1   | 1.0853 | 22     | 173.25 | 72.25  | 23.4   | 161.3  | 38.5   |  93.6  |  83.0  |  98.7  | 58.7   | 37.3   | 23.4   | 30.5   | 28.9   | 18.2   | \n",
       "| 3      | 24.6   | 25.3   | 1.0414 | 22     | 154.00 | 66.25  | 24.7   | 116.0  | 34.0   |  95.8  |  87.9  |  99.2  | 59.6   | 38.9   | 24.0   | 28.8   | 25.2   | 16.6   | \n",
       "| 4      | 10.9   | 10.4   | 1.0751 | 26     | 184.75 | 72.25  | 24.9   | 164.7  | 37.4   | 101.8  |  86.4  | 101.2  | 60.1   | 37.3   | 22.8   | 32.4   | 29.4   | 18.2   | \n",
       "| 5      | 27.8   | 28.7   | 1.0340 | 24     | 184.25 | 71.25  | 25.6   | 133.1  | 34.4   |  97.3  | 100.0  | 101.9  | 63.2   | 42.2   | 24.0   | 32.2   | 27.7   | 17.7   | \n",
       "| 6      | 20.6   | 20.9   | 1.0502 | 24     | 210.25 | 74.75  | 26.5   | 167.0  | 39.0   | 104.5  |  94.4  | 107.8  | 66.0   | 42.0   | 25.6   | 35.7   | 30.6   | 18.8   | \n",
       "\n",
       "\n"
      ],
      "text/plain": [
       "  Case Number Percent body fat using Brozek's equation\n",
       "1 1           12.6                                    \n",
       "2 2            6.9                                    \n",
       "3 3           24.6                                    \n",
       "4 4           10.9                                    \n",
       "5 5           27.8                                    \n",
       "6 6           20.6                                    \n",
       "  Percent body fat using Siri's equation Density (gm/cm^3) Age (yrs)\n",
       "1 12.3                                   1.0708            23       \n",
       "2  6.1                                   1.0853            22       \n",
       "3 25.3                                   1.0414            22       \n",
       "4 10.4                                   1.0751            26       \n",
       "5 28.7                                   1.0340            24       \n",
       "6 20.9                                   1.0502            24       \n",
       "  Weight (lbs) Height (inches) Adiposity index Fat Free Weight\n",
       "1 154.25       67.75           23.7            134.9          \n",
       "2 173.25       72.25           23.4            161.3          \n",
       "3 154.00       66.25           24.7            116.0          \n",
       "4 184.75       72.25           24.9            164.7          \n",
       "5 184.25       71.25           25.6            133.1          \n",
       "6 210.25       74.75           26.5            167.0          \n",
       "  Neck circumference (cm) Chest circumference (cm) Abdomen circumference (cm)\n",
       "1 36.2                     93.1                     85.2                     \n",
       "2 38.5                     93.6                     83.0                     \n",
       "3 34.0                     95.8                     87.9                     \n",
       "4 37.4                    101.8                     86.4                     \n",
       "5 34.4                     97.3                    100.0                     \n",
       "6 39.0                    104.5                     94.4                     \n",
       "  Hip circumference (cm) Thigh circumference (cm) Knee circumference (cm)\n",
       "1  94.5                  59.0                     37.3                   \n",
       "2  98.7                  58.7                     37.3                   \n",
       "3  99.2                  59.6                     38.9                   \n",
       "4 101.2                  60.1                     37.3                   \n",
       "5 101.9                  63.2                     42.2                   \n",
       "6 107.8                  66.0                     42.0                   \n",
       "  Ankle circumference (cm) Extended biceps circumference (cm)\n",
       "1 21.9                     32.0                              \n",
       "2 23.4                     30.5                              \n",
       "3 24.0                     28.8                              \n",
       "4 22.8                     32.4                              \n",
       "5 24.0                     32.2                              \n",
       "6 25.6                     35.7                              \n",
       "  Forearm circumference (cm) Wrist circumference (cm)\n",
       "1 27.4                       17.1                    \n",
       "2 28.9                       18.2                    \n",
       "3 25.2                       16.6                    \n",
       "4 29.4                       18.2                    \n",
       "5 27.7                       17.7                    \n",
       "6 30.6                       18.8                    "
      ]
     },
     "metadata": {},
     "output_type": "display_data"
    }
   ],
   "source": [
    "# Loading Data\n",
    "data = read.table(file=\"Data-HW2-Bodyfat.txt\", header=FALSE)\n",
    "colnames(data) = c('Case Number', \"Percent body fat using Brozek's equation\", \n",
    "                   \"Percent body fat using Siri's equation\", \"Density (gm/cm^3)\", \n",
    "                   \"Age (yrs)\", \"Weight (lbs)\", \"Height (inches)\", \"Adiposity index\",\n",
    "                   \"Fat Free Weight\", \"Neck circumference (cm)\", \"Chest circumference (cm)\",\n",
    "                   \"Abdomen circumference (cm)\", \"Hip circumference (cm)\", \"Thigh circumference (cm)\",\n",
    "                   \"Knee circumference (cm)\", \"Ankle circumference (cm)\", \n",
    "                   \"Extended biceps circumference (cm)\", \"Forearm circumference (cm)\",\n",
    "                   \"Wrist circumference (cm)\")\n",
    "\n",
    "head(data)"
   ]
  },
  {
   "cell_type": "code",
   "execution_count": null,
   "metadata": {
    "collapsed": true
   },
   "outputs": [],
   "source": []
  }
 ],
 "metadata": {
  "kernelspec": {
   "display_name": "R",
   "language": "R",
   "name": "ir"
  },
  "language_info": {
   "codemirror_mode": "r",
   "file_extension": ".r",
   "mimetype": "text/x-r-source",
   "name": "R",
   "pygments_lexer": "r",
   "version": "3.3.2"
  }
 },
 "nbformat": 4,
 "nbformat_minor": 2
}
